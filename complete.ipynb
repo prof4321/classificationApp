{
  "nbformat": 4,
  "nbformat_minor": 0,
  "metadata": {
    "colab": {
      "provenance": [],
      "machine_shape": "hm",
      "authorship_tag": "ABX9TyNL2Wt0bWLAt/5lUihdOSyw",
      "include_colab_link": true
    },
    "kernelspec": {
      "name": "python3",
      "display_name": "Python 3"
    },
    "language_info": {
      "name": "python"
    },
    "gpuClass": "standard",
    "widgets": {
      "application/vnd.jupyter.widget-state+json": {
        "6164cdcd6ae94f1ba6baeef3c9f5af1e": {
          "model_module": "@jupyter-widgets/controls",
          "model_name": "HBoxModel",
          "model_module_version": "1.5.0",
          "state": {
            "_dom_classes": [],
            "_model_module": "@jupyter-widgets/controls",
            "_model_module_version": "1.5.0",
            "_model_name": "HBoxModel",
            "_view_count": null,
            "_view_module": "@jupyter-widgets/controls",
            "_view_module_version": "1.5.0",
            "_view_name": "HBoxView",
            "box_style": "",
            "children": [
              "IPY_MODEL_ebb4b83b88914dc6994790c550b683ec",
              "IPY_MODEL_5bbd64a3e8ba4f3483f319cd385ac981",
              "IPY_MODEL_b6a5c177e60d4f0ebf511741cdaef628"
            ],
            "layout": "IPY_MODEL_8974f63f76714c108241813799848ae6"
          }
        },
        "ebb4b83b88914dc6994790c550b683ec": {
          "model_module": "@jupyter-widgets/controls",
          "model_name": "HTMLModel",
          "model_module_version": "1.5.0",
          "state": {
            "_dom_classes": [],
            "_model_module": "@jupyter-widgets/controls",
            "_model_module_version": "1.5.0",
            "_model_name": "HTMLModel",
            "_view_count": null,
            "_view_module": "@jupyter-widgets/controls",
            "_view_module_version": "1.5.0",
            "_view_name": "HTMLView",
            "description": "",
            "description_tooltip": null,
            "layout": "IPY_MODEL_be763f14c28d49e98cc64d88987e605e",
            "placeholder": "​",
            "style": "IPY_MODEL_b3c487c6d1f6419594483f0901d9373d",
            "value": "Downloading (…)solve/main/vocab.txt: 100%"
          }
        },
        "5bbd64a3e8ba4f3483f319cd385ac981": {
          "model_module": "@jupyter-widgets/controls",
          "model_name": "FloatProgressModel",
          "model_module_version": "1.5.0",
          "state": {
            "_dom_classes": [],
            "_model_module": "@jupyter-widgets/controls",
            "_model_module_version": "1.5.0",
            "_model_name": "FloatProgressModel",
            "_view_count": null,
            "_view_module": "@jupyter-widgets/controls",
            "_view_module_version": "1.5.0",
            "_view_name": "ProgressView",
            "bar_style": "success",
            "description": "",
            "description_tooltip": null,
            "layout": "IPY_MODEL_df0cc7c5da42471e8d01732d48ebc266",
            "max": 231508,
            "min": 0,
            "orientation": "horizontal",
            "style": "IPY_MODEL_fb734dc141794b56a15cfb44d0869eac",
            "value": 231508
          }
        },
        "b6a5c177e60d4f0ebf511741cdaef628": {
          "model_module": "@jupyter-widgets/controls",
          "model_name": "HTMLModel",
          "model_module_version": "1.5.0",
          "state": {
            "_dom_classes": [],
            "_model_module": "@jupyter-widgets/controls",
            "_model_module_version": "1.5.0",
            "_model_name": "HTMLModel",
            "_view_count": null,
            "_view_module": "@jupyter-widgets/controls",
            "_view_module_version": "1.5.0",
            "_view_name": "HTMLView",
            "description": "",
            "description_tooltip": null,
            "layout": "IPY_MODEL_abb6a5e5cde447e8bfaf709c22db4c24",
            "placeholder": "​",
            "style": "IPY_MODEL_ed91c1e4ebe94416a2a668cc92af8ccd",
            "value": " 232k/232k [00:00&lt;00:00, 3.17MB/s]"
          }
        },
        "8974f63f76714c108241813799848ae6": {
          "model_module": "@jupyter-widgets/base",
          "model_name": "LayoutModel",
          "model_module_version": "1.2.0",
          "state": {
            "_model_module": "@jupyter-widgets/base",
            "_model_module_version": "1.2.0",
            "_model_name": "LayoutModel",
            "_view_count": null,
            "_view_module": "@jupyter-widgets/base",
            "_view_module_version": "1.2.0",
            "_view_name": "LayoutView",
            "align_content": null,
            "align_items": null,
            "align_self": null,
            "border": null,
            "bottom": null,
            "display": null,
            "flex": null,
            "flex_flow": null,
            "grid_area": null,
            "grid_auto_columns": null,
            "grid_auto_flow": null,
            "grid_auto_rows": null,
            "grid_column": null,
            "grid_gap": null,
            "grid_row": null,
            "grid_template_areas": null,
            "grid_template_columns": null,
            "grid_template_rows": null,
            "height": null,
            "justify_content": null,
            "justify_items": null,
            "left": null,
            "margin": null,
            "max_height": null,
            "max_width": null,
            "min_height": null,
            "min_width": null,
            "object_fit": null,
            "object_position": null,
            "order": null,
            "overflow": null,
            "overflow_x": null,
            "overflow_y": null,
            "padding": null,
            "right": null,
            "top": null,
            "visibility": null,
            "width": null
          }
        },
        "be763f14c28d49e98cc64d88987e605e": {
          "model_module": "@jupyter-widgets/base",
          "model_name": "LayoutModel",
          "model_module_version": "1.2.0",
          "state": {
            "_model_module": "@jupyter-widgets/base",
            "_model_module_version": "1.2.0",
            "_model_name": "LayoutModel",
            "_view_count": null,
            "_view_module": "@jupyter-widgets/base",
            "_view_module_version": "1.2.0",
            "_view_name": "LayoutView",
            "align_content": null,
            "align_items": null,
            "align_self": null,
            "border": null,
            "bottom": null,
            "display": null,
            "flex": null,
            "flex_flow": null,
            "grid_area": null,
            "grid_auto_columns": null,
            "grid_auto_flow": null,
            "grid_auto_rows": null,
            "grid_column": null,
            "grid_gap": null,
            "grid_row": null,
            "grid_template_areas": null,
            "grid_template_columns": null,
            "grid_template_rows": null,
            "height": null,
            "justify_content": null,
            "justify_items": null,
            "left": null,
            "margin": null,
            "max_height": null,
            "max_width": null,
            "min_height": null,
            "min_width": null,
            "object_fit": null,
            "object_position": null,
            "order": null,
            "overflow": null,
            "overflow_x": null,
            "overflow_y": null,
            "padding": null,
            "right": null,
            "top": null,
            "visibility": null,
            "width": null
          }
        },
        "b3c487c6d1f6419594483f0901d9373d": {
          "model_module": "@jupyter-widgets/controls",
          "model_name": "DescriptionStyleModel",
          "model_module_version": "1.5.0",
          "state": {
            "_model_module": "@jupyter-widgets/controls",
            "_model_module_version": "1.5.0",
            "_model_name": "DescriptionStyleModel",
            "_view_count": null,
            "_view_module": "@jupyter-widgets/base",
            "_view_module_version": "1.2.0",
            "_view_name": "StyleView",
            "description_width": ""
          }
        },
        "df0cc7c5da42471e8d01732d48ebc266": {
          "model_module": "@jupyter-widgets/base",
          "model_name": "LayoutModel",
          "model_module_version": "1.2.0",
          "state": {
            "_model_module": "@jupyter-widgets/base",
            "_model_module_version": "1.2.0",
            "_model_name": "LayoutModel",
            "_view_count": null,
            "_view_module": "@jupyter-widgets/base",
            "_view_module_version": "1.2.0",
            "_view_name": "LayoutView",
            "align_content": null,
            "align_items": null,
            "align_self": null,
            "border": null,
            "bottom": null,
            "display": null,
            "flex": null,
            "flex_flow": null,
            "grid_area": null,
            "grid_auto_columns": null,
            "grid_auto_flow": null,
            "grid_auto_rows": null,
            "grid_column": null,
            "grid_gap": null,
            "grid_row": null,
            "grid_template_areas": null,
            "grid_template_columns": null,
            "grid_template_rows": null,
            "height": null,
            "justify_content": null,
            "justify_items": null,
            "left": null,
            "margin": null,
            "max_height": null,
            "max_width": null,
            "min_height": null,
            "min_width": null,
            "object_fit": null,
            "object_position": null,
            "order": null,
            "overflow": null,
            "overflow_x": null,
            "overflow_y": null,
            "padding": null,
            "right": null,
            "top": null,
            "visibility": null,
            "width": null
          }
        },
        "fb734dc141794b56a15cfb44d0869eac": {
          "model_module": "@jupyter-widgets/controls",
          "model_name": "ProgressStyleModel",
          "model_module_version": "1.5.0",
          "state": {
            "_model_module": "@jupyter-widgets/controls",
            "_model_module_version": "1.5.0",
            "_model_name": "ProgressStyleModel",
            "_view_count": null,
            "_view_module": "@jupyter-widgets/base",
            "_view_module_version": "1.2.0",
            "_view_name": "StyleView",
            "bar_color": null,
            "description_width": ""
          }
        },
        "abb6a5e5cde447e8bfaf709c22db4c24": {
          "model_module": "@jupyter-widgets/base",
          "model_name": "LayoutModel",
          "model_module_version": "1.2.0",
          "state": {
            "_model_module": "@jupyter-widgets/base",
            "_model_module_version": "1.2.0",
            "_model_name": "LayoutModel",
            "_view_count": null,
            "_view_module": "@jupyter-widgets/base",
            "_view_module_version": "1.2.0",
            "_view_name": "LayoutView",
            "align_content": null,
            "align_items": null,
            "align_self": null,
            "border": null,
            "bottom": null,
            "display": null,
            "flex": null,
            "flex_flow": null,
            "grid_area": null,
            "grid_auto_columns": null,
            "grid_auto_flow": null,
            "grid_auto_rows": null,
            "grid_column": null,
            "grid_gap": null,
            "grid_row": null,
            "grid_template_areas": null,
            "grid_template_columns": null,
            "grid_template_rows": null,
            "height": null,
            "justify_content": null,
            "justify_items": null,
            "left": null,
            "margin": null,
            "max_height": null,
            "max_width": null,
            "min_height": null,
            "min_width": null,
            "object_fit": null,
            "object_position": null,
            "order": null,
            "overflow": null,
            "overflow_x": null,
            "overflow_y": null,
            "padding": null,
            "right": null,
            "top": null,
            "visibility": null,
            "width": null
          }
        },
        "ed91c1e4ebe94416a2a668cc92af8ccd": {
          "model_module": "@jupyter-widgets/controls",
          "model_name": "DescriptionStyleModel",
          "model_module_version": "1.5.0",
          "state": {
            "_model_module": "@jupyter-widgets/controls",
            "_model_module_version": "1.5.0",
            "_model_name": "DescriptionStyleModel",
            "_view_count": null,
            "_view_module": "@jupyter-widgets/base",
            "_view_module_version": "1.2.0",
            "_view_name": "StyleView",
            "description_width": ""
          }
        },
        "c0d53726080c40c7bae4d107837264c4": {
          "model_module": "@jupyter-widgets/controls",
          "model_name": "HBoxModel",
          "model_module_version": "1.5.0",
          "state": {
            "_dom_classes": [],
            "_model_module": "@jupyter-widgets/controls",
            "_model_module_version": "1.5.0",
            "_model_name": "HBoxModel",
            "_view_count": null,
            "_view_module": "@jupyter-widgets/controls",
            "_view_module_version": "1.5.0",
            "_view_name": "HBoxView",
            "box_style": "",
            "children": [
              "IPY_MODEL_9498b3b975fc4fbaa38d9c97990909c0",
              "IPY_MODEL_f3c6d4ebabef45858a69b25afbf6f12a",
              "IPY_MODEL_fbdf2c534ae84eb6b1386c7242b10511"
            ],
            "layout": "IPY_MODEL_3cb0c31aa4834a9badce461caea9a750"
          }
        },
        "9498b3b975fc4fbaa38d9c97990909c0": {
          "model_module": "@jupyter-widgets/controls",
          "model_name": "HTMLModel",
          "model_module_version": "1.5.0",
          "state": {
            "_dom_classes": [],
            "_model_module": "@jupyter-widgets/controls",
            "_model_module_version": "1.5.0",
            "_model_name": "HTMLModel",
            "_view_count": null,
            "_view_module": "@jupyter-widgets/controls",
            "_view_module_version": "1.5.0",
            "_view_name": "HTMLView",
            "description": "",
            "description_tooltip": null,
            "layout": "IPY_MODEL_16d42131a7aa402fb88612e935e65faf",
            "placeholder": "​",
            "style": "IPY_MODEL_f2315efece1442ed9cfcdbf0b278852b",
            "value": "Downloading (…)okenizer_config.json: 100%"
          }
        },
        "f3c6d4ebabef45858a69b25afbf6f12a": {
          "model_module": "@jupyter-widgets/controls",
          "model_name": "FloatProgressModel",
          "model_module_version": "1.5.0",
          "state": {
            "_dom_classes": [],
            "_model_module": "@jupyter-widgets/controls",
            "_model_module_version": "1.5.0",
            "_model_name": "FloatProgressModel",
            "_view_count": null,
            "_view_module": "@jupyter-widgets/controls",
            "_view_module_version": "1.5.0",
            "_view_name": "ProgressView",
            "bar_style": "success",
            "description": "",
            "description_tooltip": null,
            "layout": "IPY_MODEL_45d5351ced51466389edcf25d6b94fe7",
            "max": 28,
            "min": 0,
            "orientation": "horizontal",
            "style": "IPY_MODEL_92d29601c27049baa073fdfd143e44d1",
            "value": 28
          }
        },
        "fbdf2c534ae84eb6b1386c7242b10511": {
          "model_module": "@jupyter-widgets/controls",
          "model_name": "HTMLModel",
          "model_module_version": "1.5.0",
          "state": {
            "_dom_classes": [],
            "_model_module": "@jupyter-widgets/controls",
            "_model_module_version": "1.5.0",
            "_model_name": "HTMLModel",
            "_view_count": null,
            "_view_module": "@jupyter-widgets/controls",
            "_view_module_version": "1.5.0",
            "_view_name": "HTMLView",
            "description": "",
            "description_tooltip": null,
            "layout": "IPY_MODEL_00c6539c85064fae973f91e263ae140f",
            "placeholder": "​",
            "style": "IPY_MODEL_25f07cf59512411385d448cd1440dc82",
            "value": " 28.0/28.0 [00:00&lt;00:00, 1.57kB/s]"
          }
        },
        "3cb0c31aa4834a9badce461caea9a750": {
          "model_module": "@jupyter-widgets/base",
          "model_name": "LayoutModel",
          "model_module_version": "1.2.0",
          "state": {
            "_model_module": "@jupyter-widgets/base",
            "_model_module_version": "1.2.0",
            "_model_name": "LayoutModel",
            "_view_count": null,
            "_view_module": "@jupyter-widgets/base",
            "_view_module_version": "1.2.0",
            "_view_name": "LayoutView",
            "align_content": null,
            "align_items": null,
            "align_self": null,
            "border": null,
            "bottom": null,
            "display": null,
            "flex": null,
            "flex_flow": null,
            "grid_area": null,
            "grid_auto_columns": null,
            "grid_auto_flow": null,
            "grid_auto_rows": null,
            "grid_column": null,
            "grid_gap": null,
            "grid_row": null,
            "grid_template_areas": null,
            "grid_template_columns": null,
            "grid_template_rows": null,
            "height": null,
            "justify_content": null,
            "justify_items": null,
            "left": null,
            "margin": null,
            "max_height": null,
            "max_width": null,
            "min_height": null,
            "min_width": null,
            "object_fit": null,
            "object_position": null,
            "order": null,
            "overflow": null,
            "overflow_x": null,
            "overflow_y": null,
            "padding": null,
            "right": null,
            "top": null,
            "visibility": null,
            "width": null
          }
        },
        "16d42131a7aa402fb88612e935e65faf": {
          "model_module": "@jupyter-widgets/base",
          "model_name": "LayoutModel",
          "model_module_version": "1.2.0",
          "state": {
            "_model_module": "@jupyter-widgets/base",
            "_model_module_version": "1.2.0",
            "_model_name": "LayoutModel",
            "_view_count": null,
            "_view_module": "@jupyter-widgets/base",
            "_view_module_version": "1.2.0",
            "_view_name": "LayoutView",
            "align_content": null,
            "align_items": null,
            "align_self": null,
            "border": null,
            "bottom": null,
            "display": null,
            "flex": null,
            "flex_flow": null,
            "grid_area": null,
            "grid_auto_columns": null,
            "grid_auto_flow": null,
            "grid_auto_rows": null,
            "grid_column": null,
            "grid_gap": null,
            "grid_row": null,
            "grid_template_areas": null,
            "grid_template_columns": null,
            "grid_template_rows": null,
            "height": null,
            "justify_content": null,
            "justify_items": null,
            "left": null,
            "margin": null,
            "max_height": null,
            "max_width": null,
            "min_height": null,
            "min_width": null,
            "object_fit": null,
            "object_position": null,
            "order": null,
            "overflow": null,
            "overflow_x": null,
            "overflow_y": null,
            "padding": null,
            "right": null,
            "top": null,
            "visibility": null,
            "width": null
          }
        },
        "f2315efece1442ed9cfcdbf0b278852b": {
          "model_module": "@jupyter-widgets/controls",
          "model_name": "DescriptionStyleModel",
          "model_module_version": "1.5.0",
          "state": {
            "_model_module": "@jupyter-widgets/controls",
            "_model_module_version": "1.5.0",
            "_model_name": "DescriptionStyleModel",
            "_view_count": null,
            "_view_module": "@jupyter-widgets/base",
            "_view_module_version": "1.2.0",
            "_view_name": "StyleView",
            "description_width": ""
          }
        },
        "45d5351ced51466389edcf25d6b94fe7": {
          "model_module": "@jupyter-widgets/base",
          "model_name": "LayoutModel",
          "model_module_version": "1.2.0",
          "state": {
            "_model_module": "@jupyter-widgets/base",
            "_model_module_version": "1.2.0",
            "_model_name": "LayoutModel",
            "_view_count": null,
            "_view_module": "@jupyter-widgets/base",
            "_view_module_version": "1.2.0",
            "_view_name": "LayoutView",
            "align_content": null,
            "align_items": null,
            "align_self": null,
            "border": null,
            "bottom": null,
            "display": null,
            "flex": null,
            "flex_flow": null,
            "grid_area": null,
            "grid_auto_columns": null,
            "grid_auto_flow": null,
            "grid_auto_rows": null,
            "grid_column": null,
            "grid_gap": null,
            "grid_row": null,
            "grid_template_areas": null,
            "grid_template_columns": null,
            "grid_template_rows": null,
            "height": null,
            "justify_content": null,
            "justify_items": null,
            "left": null,
            "margin": null,
            "max_height": null,
            "max_width": null,
            "min_height": null,
            "min_width": null,
            "object_fit": null,
            "object_position": null,
            "order": null,
            "overflow": null,
            "overflow_x": null,
            "overflow_y": null,
            "padding": null,
            "right": null,
            "top": null,
            "visibility": null,
            "width": null
          }
        },
        "92d29601c27049baa073fdfd143e44d1": {
          "model_module": "@jupyter-widgets/controls",
          "model_name": "ProgressStyleModel",
          "model_module_version": "1.5.0",
          "state": {
            "_model_module": "@jupyter-widgets/controls",
            "_model_module_version": "1.5.0",
            "_model_name": "ProgressStyleModel",
            "_view_count": null,
            "_view_module": "@jupyter-widgets/base",
            "_view_module_version": "1.2.0",
            "_view_name": "StyleView",
            "bar_color": null,
            "description_width": ""
          }
        },
        "00c6539c85064fae973f91e263ae140f": {
          "model_module": "@jupyter-widgets/base",
          "model_name": "LayoutModel",
          "model_module_version": "1.2.0",
          "state": {
            "_model_module": "@jupyter-widgets/base",
            "_model_module_version": "1.2.0",
            "_model_name": "LayoutModel",
            "_view_count": null,
            "_view_module": "@jupyter-widgets/base",
            "_view_module_version": "1.2.0",
            "_view_name": "LayoutView",
            "align_content": null,
            "align_items": null,
            "align_self": null,
            "border": null,
            "bottom": null,
            "display": null,
            "flex": null,
            "flex_flow": null,
            "grid_area": null,
            "grid_auto_columns": null,
            "grid_auto_flow": null,
            "grid_auto_rows": null,
            "grid_column": null,
            "grid_gap": null,
            "grid_row": null,
            "grid_template_areas": null,
            "grid_template_columns": null,
            "grid_template_rows": null,
            "height": null,
            "justify_content": null,
            "justify_items": null,
            "left": null,
            "margin": null,
            "max_height": null,
            "max_width": null,
            "min_height": null,
            "min_width": null,
            "object_fit": null,
            "object_position": null,
            "order": null,
            "overflow": null,
            "overflow_x": null,
            "overflow_y": null,
            "padding": null,
            "right": null,
            "top": null,
            "visibility": null,
            "width": null
          }
        },
        "25f07cf59512411385d448cd1440dc82": {
          "model_module": "@jupyter-widgets/controls",
          "model_name": "DescriptionStyleModel",
          "model_module_version": "1.5.0",
          "state": {
            "_model_module": "@jupyter-widgets/controls",
            "_model_module_version": "1.5.0",
            "_model_name": "DescriptionStyleModel",
            "_view_count": null,
            "_view_module": "@jupyter-widgets/base",
            "_view_module_version": "1.2.0",
            "_view_name": "StyleView",
            "description_width": ""
          }
        },
        "d12bcc4a4cc0481fbc5dfd5a5727ef00": {
          "model_module": "@jupyter-widgets/controls",
          "model_name": "HBoxModel",
          "model_module_version": "1.5.0",
          "state": {
            "_dom_classes": [],
            "_model_module": "@jupyter-widgets/controls",
            "_model_module_version": "1.5.0",
            "_model_name": "HBoxModel",
            "_view_count": null,
            "_view_module": "@jupyter-widgets/controls",
            "_view_module_version": "1.5.0",
            "_view_name": "HBoxView",
            "box_style": "",
            "children": [
              "IPY_MODEL_cadb9993672540d19d9d5cf334703f91",
              "IPY_MODEL_151a5bd869d84badbdf96d280c12bb3a",
              "IPY_MODEL_bf21a9e305f643ebaa76d5be5769271a"
            ],
            "layout": "IPY_MODEL_d4f3fee1747c4dbd977a2a4bd21ee601"
          }
        },
        "cadb9993672540d19d9d5cf334703f91": {
          "model_module": "@jupyter-widgets/controls",
          "model_name": "HTMLModel",
          "model_module_version": "1.5.0",
          "state": {
            "_dom_classes": [],
            "_model_module": "@jupyter-widgets/controls",
            "_model_module_version": "1.5.0",
            "_model_name": "HTMLModel",
            "_view_count": null,
            "_view_module": "@jupyter-widgets/controls",
            "_view_module_version": "1.5.0",
            "_view_name": "HTMLView",
            "description": "",
            "description_tooltip": null,
            "layout": "IPY_MODEL_fda3c5929e374e3fac6b65ee6ba8af93",
            "placeholder": "​",
            "style": "IPY_MODEL_04d18367f2f14452adb0d01f99892731",
            "value": "Downloading (…)lve/main/config.json: 100%"
          }
        },
        "151a5bd869d84badbdf96d280c12bb3a": {
          "model_module": "@jupyter-widgets/controls",
          "model_name": "FloatProgressModel",
          "model_module_version": "1.5.0",
          "state": {
            "_dom_classes": [],
            "_model_module": "@jupyter-widgets/controls",
            "_model_module_version": "1.5.0",
            "_model_name": "FloatProgressModel",
            "_view_count": null,
            "_view_module": "@jupyter-widgets/controls",
            "_view_module_version": "1.5.0",
            "_view_name": "ProgressView",
            "bar_style": "success",
            "description": "",
            "description_tooltip": null,
            "layout": "IPY_MODEL_1144fd8157f4478d9ed1fb7f5a98d66b",
            "max": 570,
            "min": 0,
            "orientation": "horizontal",
            "style": "IPY_MODEL_a200e7525beb4710a680a47e2c98ec29",
            "value": 570
          }
        },
        "bf21a9e305f643ebaa76d5be5769271a": {
          "model_module": "@jupyter-widgets/controls",
          "model_name": "HTMLModel",
          "model_module_version": "1.5.0",
          "state": {
            "_dom_classes": [],
            "_model_module": "@jupyter-widgets/controls",
            "_model_module_version": "1.5.0",
            "_model_name": "HTMLModel",
            "_view_count": null,
            "_view_module": "@jupyter-widgets/controls",
            "_view_module_version": "1.5.0",
            "_view_name": "HTMLView",
            "description": "",
            "description_tooltip": null,
            "layout": "IPY_MODEL_c198a696374c490ea619dcaba83f48fb",
            "placeholder": "​",
            "style": "IPY_MODEL_1a8906406afe416da03245f1770fed51",
            "value": " 570/570 [00:00&lt;00:00, 24.3kB/s]"
          }
        },
        "d4f3fee1747c4dbd977a2a4bd21ee601": {
          "model_module": "@jupyter-widgets/base",
          "model_name": "LayoutModel",
          "model_module_version": "1.2.0",
          "state": {
            "_model_module": "@jupyter-widgets/base",
            "_model_module_version": "1.2.0",
            "_model_name": "LayoutModel",
            "_view_count": null,
            "_view_module": "@jupyter-widgets/base",
            "_view_module_version": "1.2.0",
            "_view_name": "LayoutView",
            "align_content": null,
            "align_items": null,
            "align_self": null,
            "border": null,
            "bottom": null,
            "display": null,
            "flex": null,
            "flex_flow": null,
            "grid_area": null,
            "grid_auto_columns": null,
            "grid_auto_flow": null,
            "grid_auto_rows": null,
            "grid_column": null,
            "grid_gap": null,
            "grid_row": null,
            "grid_template_areas": null,
            "grid_template_columns": null,
            "grid_template_rows": null,
            "height": null,
            "justify_content": null,
            "justify_items": null,
            "left": null,
            "margin": null,
            "max_height": null,
            "max_width": null,
            "min_height": null,
            "min_width": null,
            "object_fit": null,
            "object_position": null,
            "order": null,
            "overflow": null,
            "overflow_x": null,
            "overflow_y": null,
            "padding": null,
            "right": null,
            "top": null,
            "visibility": null,
            "width": null
          }
        },
        "fda3c5929e374e3fac6b65ee6ba8af93": {
          "model_module": "@jupyter-widgets/base",
          "model_name": "LayoutModel",
          "model_module_version": "1.2.0",
          "state": {
            "_model_module": "@jupyter-widgets/base",
            "_model_module_version": "1.2.0",
            "_model_name": "LayoutModel",
            "_view_count": null,
            "_view_module": "@jupyter-widgets/base",
            "_view_module_version": "1.2.0",
            "_view_name": "LayoutView",
            "align_content": null,
            "align_items": null,
            "align_self": null,
            "border": null,
            "bottom": null,
            "display": null,
            "flex": null,
            "flex_flow": null,
            "grid_area": null,
            "grid_auto_columns": null,
            "grid_auto_flow": null,
            "grid_auto_rows": null,
            "grid_column": null,
            "grid_gap": null,
            "grid_row": null,
            "grid_template_areas": null,
            "grid_template_columns": null,
            "grid_template_rows": null,
            "height": null,
            "justify_content": null,
            "justify_items": null,
            "left": null,
            "margin": null,
            "max_height": null,
            "max_width": null,
            "min_height": null,
            "min_width": null,
            "object_fit": null,
            "object_position": null,
            "order": null,
            "overflow": null,
            "overflow_x": null,
            "overflow_y": null,
            "padding": null,
            "right": null,
            "top": null,
            "visibility": null,
            "width": null
          }
        },
        "04d18367f2f14452adb0d01f99892731": {
          "model_module": "@jupyter-widgets/controls",
          "model_name": "DescriptionStyleModel",
          "model_module_version": "1.5.0",
          "state": {
            "_model_module": "@jupyter-widgets/controls",
            "_model_module_version": "1.5.0",
            "_model_name": "DescriptionStyleModel",
            "_view_count": null,
            "_view_module": "@jupyter-widgets/base",
            "_view_module_version": "1.2.0",
            "_view_name": "StyleView",
            "description_width": ""
          }
        },
        "1144fd8157f4478d9ed1fb7f5a98d66b": {
          "model_module": "@jupyter-widgets/base",
          "model_name": "LayoutModel",
          "model_module_version": "1.2.0",
          "state": {
            "_model_module": "@jupyter-widgets/base",
            "_model_module_version": "1.2.0",
            "_model_name": "LayoutModel",
            "_view_count": null,
            "_view_module": "@jupyter-widgets/base",
            "_view_module_version": "1.2.0",
            "_view_name": "LayoutView",
            "align_content": null,
            "align_items": null,
            "align_self": null,
            "border": null,
            "bottom": null,
            "display": null,
            "flex": null,
            "flex_flow": null,
            "grid_area": null,
            "grid_auto_columns": null,
            "grid_auto_flow": null,
            "grid_auto_rows": null,
            "grid_column": null,
            "grid_gap": null,
            "grid_row": null,
            "grid_template_areas": null,
            "grid_template_columns": null,
            "grid_template_rows": null,
            "height": null,
            "justify_content": null,
            "justify_items": null,
            "left": null,
            "margin": null,
            "max_height": null,
            "max_width": null,
            "min_height": null,
            "min_width": null,
            "object_fit": null,
            "object_position": null,
            "order": null,
            "overflow": null,
            "overflow_x": null,
            "overflow_y": null,
            "padding": null,
            "right": null,
            "top": null,
            "visibility": null,
            "width": null
          }
        },
        "a200e7525beb4710a680a47e2c98ec29": {
          "model_module": "@jupyter-widgets/controls",
          "model_name": "ProgressStyleModel",
          "model_module_version": "1.5.0",
          "state": {
            "_model_module": "@jupyter-widgets/controls",
            "_model_module_version": "1.5.0",
            "_model_name": "ProgressStyleModel",
            "_view_count": null,
            "_view_module": "@jupyter-widgets/base",
            "_view_module_version": "1.2.0",
            "_view_name": "StyleView",
            "bar_color": null,
            "description_width": ""
          }
        },
        "c198a696374c490ea619dcaba83f48fb": {
          "model_module": "@jupyter-widgets/base",
          "model_name": "LayoutModel",
          "model_module_version": "1.2.0",
          "state": {
            "_model_module": "@jupyter-widgets/base",
            "_model_module_version": "1.2.0",
            "_model_name": "LayoutModel",
            "_view_count": null,
            "_view_module": "@jupyter-widgets/base",
            "_view_module_version": "1.2.0",
            "_view_name": "LayoutView",
            "align_content": null,
            "align_items": null,
            "align_self": null,
            "border": null,
            "bottom": null,
            "display": null,
            "flex": null,
            "flex_flow": null,
            "grid_area": null,
            "grid_auto_columns": null,
            "grid_auto_flow": null,
            "grid_auto_rows": null,
            "grid_column": null,
            "grid_gap": null,
            "grid_row": null,
            "grid_template_areas": null,
            "grid_template_columns": null,
            "grid_template_rows": null,
            "height": null,
            "justify_content": null,
            "justify_items": null,
            "left": null,
            "margin": null,
            "max_height": null,
            "max_width": null,
            "min_height": null,
            "min_width": null,
            "object_fit": null,
            "object_position": null,
            "order": null,
            "overflow": null,
            "overflow_x": null,
            "overflow_y": null,
            "padding": null,
            "right": null,
            "top": null,
            "visibility": null,
            "width": null
          }
        },
        "1a8906406afe416da03245f1770fed51": {
          "model_module": "@jupyter-widgets/controls",
          "model_name": "DescriptionStyleModel",
          "model_module_version": "1.5.0",
          "state": {
            "_model_module": "@jupyter-widgets/controls",
            "_model_module_version": "1.5.0",
            "_model_name": "DescriptionStyleModel",
            "_view_count": null,
            "_view_module": "@jupyter-widgets/base",
            "_view_module_version": "1.2.0",
            "_view_name": "StyleView",
            "description_width": ""
          }
        },
        "3453504817cb47c3a7b2ecf2c430ab5a": {
          "model_module": "@jupyter-widgets/controls",
          "model_name": "HBoxModel",
          "model_module_version": "1.5.0",
          "state": {
            "_dom_classes": [],
            "_model_module": "@jupyter-widgets/controls",
            "_model_module_version": "1.5.0",
            "_model_name": "HBoxModel",
            "_view_count": null,
            "_view_module": "@jupyter-widgets/controls",
            "_view_module_version": "1.5.0",
            "_view_name": "HBoxView",
            "box_style": "",
            "children": [
              "IPY_MODEL_f836a258325f4ffd9ffaaf3330bee670",
              "IPY_MODEL_d6797cc8fba64b898fa33d9d98dddcf0",
              "IPY_MODEL_f887a1086e6e497eb1e92a2fc63de2fa"
            ],
            "layout": "IPY_MODEL_190ac8e694a34e90b7d9a2caf367a9f2"
          }
        },
        "f836a258325f4ffd9ffaaf3330bee670": {
          "model_module": "@jupyter-widgets/controls",
          "model_name": "HTMLModel",
          "model_module_version": "1.5.0",
          "state": {
            "_dom_classes": [],
            "_model_module": "@jupyter-widgets/controls",
            "_model_module_version": "1.5.0",
            "_model_name": "HTMLModel",
            "_view_count": null,
            "_view_module": "@jupyter-widgets/controls",
            "_view_module_version": "1.5.0",
            "_view_name": "HTMLView",
            "description": "",
            "description_tooltip": null,
            "layout": "IPY_MODEL_761b113f23eb4308906ceb9d33bb03dc",
            "placeholder": "​",
            "style": "IPY_MODEL_3213553e3ecb43c08ec9006234c34c11",
            "value": "Downloading tf_model.h5: 100%"
          }
        },
        "d6797cc8fba64b898fa33d9d98dddcf0": {
          "model_module": "@jupyter-widgets/controls",
          "model_name": "FloatProgressModel",
          "model_module_version": "1.5.0",
          "state": {
            "_dom_classes": [],
            "_model_module": "@jupyter-widgets/controls",
            "_model_module_version": "1.5.0",
            "_model_name": "FloatProgressModel",
            "_view_count": null,
            "_view_module": "@jupyter-widgets/controls",
            "_view_module_version": "1.5.0",
            "_view_name": "ProgressView",
            "bar_style": "success",
            "description": "",
            "description_tooltip": null,
            "layout": "IPY_MODEL_3aea1d9fce6c4d89bc62d508483e8df2",
            "max": 536063208,
            "min": 0,
            "orientation": "horizontal",
            "style": "IPY_MODEL_626877c27b7f41999d8be879a6ba0e05",
            "value": 536063208
          }
        },
        "f887a1086e6e497eb1e92a2fc63de2fa": {
          "model_module": "@jupyter-widgets/controls",
          "model_name": "HTMLModel",
          "model_module_version": "1.5.0",
          "state": {
            "_dom_classes": [],
            "_model_module": "@jupyter-widgets/controls",
            "_model_module_version": "1.5.0",
            "_model_name": "HTMLModel",
            "_view_count": null,
            "_view_module": "@jupyter-widgets/controls",
            "_view_module_version": "1.5.0",
            "_view_name": "HTMLView",
            "description": "",
            "description_tooltip": null,
            "layout": "IPY_MODEL_1a05a2175802431bb180b3c334a1105c",
            "placeholder": "​",
            "style": "IPY_MODEL_2b73905d5adb47b9bfd0d985ed894a77",
            "value": " 536M/536M [00:05&lt;00:00, 108MB/s]"
          }
        },
        "190ac8e694a34e90b7d9a2caf367a9f2": {
          "model_module": "@jupyter-widgets/base",
          "model_name": "LayoutModel",
          "model_module_version": "1.2.0",
          "state": {
            "_model_module": "@jupyter-widgets/base",
            "_model_module_version": "1.2.0",
            "_model_name": "LayoutModel",
            "_view_count": null,
            "_view_module": "@jupyter-widgets/base",
            "_view_module_version": "1.2.0",
            "_view_name": "LayoutView",
            "align_content": null,
            "align_items": null,
            "align_self": null,
            "border": null,
            "bottom": null,
            "display": null,
            "flex": null,
            "flex_flow": null,
            "grid_area": null,
            "grid_auto_columns": null,
            "grid_auto_flow": null,
            "grid_auto_rows": null,
            "grid_column": null,
            "grid_gap": null,
            "grid_row": null,
            "grid_template_areas": null,
            "grid_template_columns": null,
            "grid_template_rows": null,
            "height": null,
            "justify_content": null,
            "justify_items": null,
            "left": null,
            "margin": null,
            "max_height": null,
            "max_width": null,
            "min_height": null,
            "min_width": null,
            "object_fit": null,
            "object_position": null,
            "order": null,
            "overflow": null,
            "overflow_x": null,
            "overflow_y": null,
            "padding": null,
            "right": null,
            "top": null,
            "visibility": null,
            "width": null
          }
        },
        "761b113f23eb4308906ceb9d33bb03dc": {
          "model_module": "@jupyter-widgets/base",
          "model_name": "LayoutModel",
          "model_module_version": "1.2.0",
          "state": {
            "_model_module": "@jupyter-widgets/base",
            "_model_module_version": "1.2.0",
            "_model_name": "LayoutModel",
            "_view_count": null,
            "_view_module": "@jupyter-widgets/base",
            "_view_module_version": "1.2.0",
            "_view_name": "LayoutView",
            "align_content": null,
            "align_items": null,
            "align_self": null,
            "border": null,
            "bottom": null,
            "display": null,
            "flex": null,
            "flex_flow": null,
            "grid_area": null,
            "grid_auto_columns": null,
            "grid_auto_flow": null,
            "grid_auto_rows": null,
            "grid_column": null,
            "grid_gap": null,
            "grid_row": null,
            "grid_template_areas": null,
            "grid_template_columns": null,
            "grid_template_rows": null,
            "height": null,
            "justify_content": null,
            "justify_items": null,
            "left": null,
            "margin": null,
            "max_height": null,
            "max_width": null,
            "min_height": null,
            "min_width": null,
            "object_fit": null,
            "object_position": null,
            "order": null,
            "overflow": null,
            "overflow_x": null,
            "overflow_y": null,
            "padding": null,
            "right": null,
            "top": null,
            "visibility": null,
            "width": null
          }
        },
        "3213553e3ecb43c08ec9006234c34c11": {
          "model_module": "@jupyter-widgets/controls",
          "model_name": "DescriptionStyleModel",
          "model_module_version": "1.5.0",
          "state": {
            "_model_module": "@jupyter-widgets/controls",
            "_model_module_version": "1.5.0",
            "_model_name": "DescriptionStyleModel",
            "_view_count": null,
            "_view_module": "@jupyter-widgets/base",
            "_view_module_version": "1.2.0",
            "_view_name": "StyleView",
            "description_width": ""
          }
        },
        "3aea1d9fce6c4d89bc62d508483e8df2": {
          "model_module": "@jupyter-widgets/base",
          "model_name": "LayoutModel",
          "model_module_version": "1.2.0",
          "state": {
            "_model_module": "@jupyter-widgets/base",
            "_model_module_version": "1.2.0",
            "_model_name": "LayoutModel",
            "_view_count": null,
            "_view_module": "@jupyter-widgets/base",
            "_view_module_version": "1.2.0",
            "_view_name": "LayoutView",
            "align_content": null,
            "align_items": null,
            "align_self": null,
            "border": null,
            "bottom": null,
            "display": null,
            "flex": null,
            "flex_flow": null,
            "grid_area": null,
            "grid_auto_columns": null,
            "grid_auto_flow": null,
            "grid_auto_rows": null,
            "grid_column": null,
            "grid_gap": null,
            "grid_row": null,
            "grid_template_areas": null,
            "grid_template_columns": null,
            "grid_template_rows": null,
            "height": null,
            "justify_content": null,
            "justify_items": null,
            "left": null,
            "margin": null,
            "max_height": null,
            "max_width": null,
            "min_height": null,
            "min_width": null,
            "object_fit": null,
            "object_position": null,
            "order": null,
            "overflow": null,
            "overflow_x": null,
            "overflow_y": null,
            "padding": null,
            "right": null,
            "top": null,
            "visibility": null,
            "width": null
          }
        },
        "626877c27b7f41999d8be879a6ba0e05": {
          "model_module": "@jupyter-widgets/controls",
          "model_name": "ProgressStyleModel",
          "model_module_version": "1.5.0",
          "state": {
            "_model_module": "@jupyter-widgets/controls",
            "_model_module_version": "1.5.0",
            "_model_name": "ProgressStyleModel",
            "_view_count": null,
            "_view_module": "@jupyter-widgets/base",
            "_view_module_version": "1.2.0",
            "_view_name": "StyleView",
            "bar_color": null,
            "description_width": ""
          }
        },
        "1a05a2175802431bb180b3c334a1105c": {
          "model_module": "@jupyter-widgets/base",
          "model_name": "LayoutModel",
          "model_module_version": "1.2.0",
          "state": {
            "_model_module": "@jupyter-widgets/base",
            "_model_module_version": "1.2.0",
            "_model_name": "LayoutModel",
            "_view_count": null,
            "_view_module": "@jupyter-widgets/base",
            "_view_module_version": "1.2.0",
            "_view_name": "LayoutView",
            "align_content": null,
            "align_items": null,
            "align_self": null,
            "border": null,
            "bottom": null,
            "display": null,
            "flex": null,
            "flex_flow": null,
            "grid_area": null,
            "grid_auto_columns": null,
            "grid_auto_flow": null,
            "grid_auto_rows": null,
            "grid_column": null,
            "grid_gap": null,
            "grid_row": null,
            "grid_template_areas": null,
            "grid_template_columns": null,
            "grid_template_rows": null,
            "height": null,
            "justify_content": null,
            "justify_items": null,
            "left": null,
            "margin": null,
            "max_height": null,
            "max_width": null,
            "min_height": null,
            "min_width": null,
            "object_fit": null,
            "object_position": null,
            "order": null,
            "overflow": null,
            "overflow_x": null,
            "overflow_y": null,
            "padding": null,
            "right": null,
            "top": null,
            "visibility": null,
            "width": null
          }
        },
        "2b73905d5adb47b9bfd0d985ed894a77": {
          "model_module": "@jupyter-widgets/controls",
          "model_name": "DescriptionStyleModel",
          "model_module_version": "1.5.0",
          "state": {
            "_model_module": "@jupyter-widgets/controls",
            "_model_module_version": "1.5.0",
            "_model_name": "DescriptionStyleModel",
            "_view_count": null,
            "_view_module": "@jupyter-widgets/base",
            "_view_module_version": "1.2.0",
            "_view_name": "StyleView",
            "description_width": ""
          }
        }
      }
    }
  },
  "cells": [
    {
      "cell_type": "markdown",
      "metadata": {
        "id": "view-in-github",
        "colab_type": "text"
      },
      "source": [
        "<a href=\"https://colab.research.google.com/github/prof4321/classificationApp/blob/main/complete.ipynb\" target=\"_parent\"><img src=\"https://colab.research.google.com/assets/colab-badge.svg\" alt=\"Open In Colab\"/></a>"
      ]
    },
    {
      "cell_type": "markdown",
      "source": [
        "# Automatic Classification of Companies based on their descriptions using machine learning models\n",
        "\n"
      ],
      "metadata": {
        "id": "Adu1K2XmHX8r"
      }
    },
    {
      "cell_type": "markdown",
      "source": [
        "## Introduction\n",
        "\n",
        "The objective of this MSc project is to create an automated company classification system that can accurately classify companies based on their descriptions using various machine learning techniques, such as data pre-processing, feature engineering, and model selection. The key benefit of automated classification is the ability to simplify and improve the classification process, resulting in increased efficiency and accuracy. Machine learning algorithms enable models to learn from past classification cases and improve over time, leading to greater accuracy and less time and effort spent analyzing company data.\n",
        "\n",
        "Finally, we save the models and deploy them on streamlit application for easy interaction"
      ],
      "metadata": {
        "id": "jm9xHU3dHYlY"
      }
    },
    {
      "cell_type": "code",
      "source": [
        "pip install transformers"
      ],
      "metadata": {
        "colab": {
          "base_uri": "https://localhost:8080/"
        },
        "id": "9ZO5DC6hYsNz",
        "outputId": "1cbcb1b8-61fc-4f2d-d935-0e5df66c6218"
      },
      "execution_count": null,
      "outputs": [
        {
          "output_type": "stream",
          "name": "stdout",
          "text": [
            "Looking in indexes: https://pypi.org/simple, https://us-python.pkg.dev/colab-wheels/public/simple/\n",
            "Collecting transformers\n",
            "  Downloading transformers-4.28.1-py3-none-any.whl (7.0 MB)\n",
            "\u001b[2K     \u001b[90m━━━━━━━━━━━━━━━━━━━━━━━━━━━━━━━━━━━━━━━━\u001b[0m \u001b[32m7.0/7.0 MB\u001b[0m \u001b[31m34.9 MB/s\u001b[0m eta \u001b[36m0:00:00\u001b[0m\n",
            "\u001b[?25hRequirement already satisfied: numpy>=1.17 in /usr/local/lib/python3.9/dist-packages (from transformers) (1.22.4)\n",
            "Collecting huggingface-hub<1.0,>=0.11.0\n",
            "  Downloading huggingface_hub-0.13.4-py3-none-any.whl (200 kB)\n",
            "\u001b[2K     \u001b[90m━━━━━━━━━━━━━━━━━━━━━━━━━━━━━━━━━━━━━━\u001b[0m \u001b[32m200.1/200.1 kB\u001b[0m \u001b[31m13.4 MB/s\u001b[0m eta \u001b[36m0:00:00\u001b[0m\n",
            "\u001b[?25hRequirement already satisfied: pyyaml>=5.1 in /usr/local/lib/python3.9/dist-packages (from transformers) (6.0)\n",
            "Collecting tokenizers!=0.11.3,<0.14,>=0.11.1\n",
            "  Downloading tokenizers-0.13.3-cp39-cp39-manylinux_2_17_x86_64.manylinux2014_x86_64.whl (7.8 MB)\n",
            "\u001b[2K     \u001b[90m━━━━━━━━━━━━━━━━━━━━━━━━━━━━━━━━━━━━━━━━\u001b[0m \u001b[32m7.8/7.8 MB\u001b[0m \u001b[31m59.2 MB/s\u001b[0m eta \u001b[36m0:00:00\u001b[0m\n",
            "\u001b[?25hRequirement already satisfied: regex!=2019.12.17 in /usr/local/lib/python3.9/dist-packages (from transformers) (2022.10.31)\n",
            "Requirement already satisfied: requests in /usr/local/lib/python3.9/dist-packages (from transformers) (2.27.1)\n",
            "Requirement already satisfied: tqdm>=4.27 in /usr/local/lib/python3.9/dist-packages (from transformers) (4.65.0)\n",
            "Requirement already satisfied: packaging>=20.0 in /usr/local/lib/python3.9/dist-packages (from transformers) (23.0)\n",
            "Requirement already satisfied: filelock in /usr/local/lib/python3.9/dist-packages (from transformers) (3.11.0)\n",
            "Requirement already satisfied: typing-extensions>=3.7.4.3 in /usr/local/lib/python3.9/dist-packages (from huggingface-hub<1.0,>=0.11.0->transformers) (4.5.0)\n",
            "Requirement already satisfied: urllib3<1.27,>=1.21.1 in /usr/local/lib/python3.9/dist-packages (from requests->transformers) (1.26.15)\n",
            "Requirement already satisfied: charset-normalizer~=2.0.0 in /usr/local/lib/python3.9/dist-packages (from requests->transformers) (2.0.12)\n",
            "Requirement already satisfied: certifi>=2017.4.17 in /usr/local/lib/python3.9/dist-packages (from requests->transformers) (2022.12.7)\n",
            "Requirement already satisfied: idna<4,>=2.5 in /usr/local/lib/python3.9/dist-packages (from requests->transformers) (3.4)\n",
            "Installing collected packages: tokenizers, huggingface-hub, transformers\n",
            "Successfully installed huggingface-hub-0.13.4 tokenizers-0.13.3 transformers-4.28.1\n"
          ]
        }
      ]
    },
    {
      "cell_type": "code",
      "source": [
        "from google.colab import drive\n",
        "drive.mount('/content/drive')\n",
        "path = \"/content/drive/MyDrive/MSc Project/Code/Automatic-Categorization-of-Companies-based-on-their-Names/dataset.csv\""
      ],
      "metadata": {
        "colab": {
          "base_uri": "https://localhost:8080/"
        },
        "id": "n6uW1K2F7sox",
        "outputId": "53b76c89-8295-4549-88c5-11668f033e47"
      },
      "execution_count": null,
      "outputs": [
        {
          "output_type": "stream",
          "name": "stdout",
          "text": [
            "Mounted at /content/drive\n"
          ]
        }
      ]
    },
    {
      "cell_type": "code",
      "source": [
        "# Data processing\n",
        "import numpy as np # linear algebra\n",
        "import pandas as pd # data processing, CSV file I/O (e.g. pd.read_csv)\n",
        "\n",
        "# Input data files are available in the \"../input/\" directory.\n",
        "# For example, running this (by clicking run or pressing Shift+Enter) will list the files in the input directory\n",
        "# libraries for dataset preparation, feature engineering, model training\n",
        "from sklearn import model_selection, preprocessing, linear_model, naive_bayes, metrics, svm\n",
        "from sklearn.feature_extraction.text import TfidfVectorizer, CountVectorizer\n",
        "from sklearn import decomposition, ensemble\n",
        "from sklearn.linear_model import LogisticRegression\n",
        "from sklearn.naive_bayes import MultinomialNB\n",
        "from sklearn.ensemble import RandomForestClassifier\n",
        "from sklearn.svm import LinearSVC\n",
        "from sklearn.model_selection import cross_val_score\n",
        "from sklearn.metrics import confusion_matrix\n",
        "from sklearn import metrics\n",
        "from sklearn.model_selection import GridSearchCV\n",
        "from sklearn.metrics import accuracy_score\n",
        "import xgboost, textblob, string\n",
        "from keras.preprocessing import text, sequence\n",
        "from keras import layers, models, optimizers\n",
        "from keras.preprocessing.text import Tokenizer\n",
        "from keras.models import Sequential, Model\n",
        "from keras.layers import Activation, Dense, Dropout\n",
        "from sklearn.preprocessing import LabelBinarizer\n",
        "from xgboost import XGBClassifier\n",
        "from sklearn.model_selection import train_test_split\n",
        "from sklearn.metrics import confusion_matrix, precision_score, recall_score, f1_score\n",
        "\n",
        "from sklearn.pipeline import Pipeline\n",
        "from sklearn.feature_extraction.text import CountVectorizer\n",
        "from sklearn.svm import LinearSVC\n",
        "from sklearn.feature_extraction.text import TfidfTransformer\n",
        "from sklearn.multiclass import OneVsRestClassifier\n",
        "import time\n",
        "from sklearn.feature_selection import chi2\n",
        "import os\n",
        "\n",
        "#Visualization\n",
        "import matplotlib.pyplot as plt\n",
        "import seaborn as sns\n",
        "\n",
        "#Preprocessing related libraries\n",
        "import string\n",
        "import re\n",
        "import nltk\n",
        "nltk.download('stopwords')\n",
        "nltk.download('wordnet')\n",
        "nltk.download('omw-1.4')\n",
        "import gensim\n",
        "import gensim.downloader as api\n",
        "from nltk.corpus import stopwords\n",
        "from nltk.classify import SklearnClassifier\n",
        "from wordcloud import WordCloud,STOPWORDS\n",
        "import warnings\n",
        "warnings.filterwarnings(\"ignore\", category=DeprecationWarning)\n",
        "\n",
        "# Machine Learning\n",
        "import sklearn\n",
        "from sklearn.model_selection import train_test_split\n",
        "from sklearn.feature_extraction.text import CountVectorizer, TfidfVectorizer\n",
        "from sklearn.linear_model import LogisticRegression, SGDClassifier\n",
        "from sklearn.pipeline import Pipeline\n",
        "from sklearn.metrics import accuracy_score\n",
        "from sklearn.preprocessing import LabelBinarizer\n",
        "from sklearn.preprocessing import StandardScaler\n",
        "\n",
        "import tensorflow as tf\n",
        "from tensorflow.keras import preprocessing as kprocessing\n",
        "from tensorflow.keras import models, layers, optimizers\n",
        "\n",
        "import transformers\n",
        "\n",
        "# Visualization\n",
        "import matplotlib\n",
        "from matplotlib import pyplot as plt\n",
        "\n",
        "# Various\n",
        "from datetime import datetime\n",
        "\n",
        "# Showing the versions used\n",
        "print('Pandas version: {}'.format(pd.__version__))\n",
        "print('Numpy version: {}'.format(np.__version__))\n",
        "print('PyPlot version: {}'.format(matplotlib.__version__))\n",
        "print('Scikit Learn version: {}'.format(sklearn.__version__))\n",
        "print('Tensorflow version: {}'.format(tf.__version__))\n",
        "print('Transformers version: {}'.format(transformers.__version__))\n",
        "print('Regex version: {}'.format(re.__version__))\n",
        "print('NLTK version: {}'.format(nltk.__version__))\n",
        "print('Gensim version: {}'.format(gensim.__version__))\n",
        "# set plot style\n",
        "sns.set()"
      ],
      "metadata": {
        "colab": {
          "base_uri": "https://localhost:8080/"
        },
        "id": "cqnkvOpsBe23",
        "outputId": "de31c774-e48e-4f62-a2e6-acfcd69ce7fe"
      },
      "execution_count": null,
      "outputs": [
        {
          "output_type": "stream",
          "name": "stderr",
          "text": [
            "[nltk_data] Downloading package stopwords to /root/nltk_data...\n",
            "[nltk_data]   Unzipping corpora/stopwords.zip.\n",
            "[nltk_data] Downloading package wordnet to /root/nltk_data...\n",
            "[nltk_data] Downloading package omw-1.4 to /root/nltk_data...\n"
          ]
        },
        {
          "output_type": "stream",
          "name": "stdout",
          "text": [
            "Pandas version: 1.5.3\n",
            "Numpy version: 1.22.4\n",
            "PyPlot version: 3.7.1\n",
            "Scikit Learn version: 1.2.2\n",
            "Tensorflow version: 2.12.0\n",
            "Transformers version: 4.28.1\n",
            "Regex version: 2.2.1\n",
            "NLTK version: 3.8.1\n",
            "Gensim version: 4.3.1\n"
          ]
        }
      ]
    },
    {
      "cell_type": "markdown",
      "source": [
        "### Let's load the data and reformat before pre-processing"
      ],
      "metadata": {
        "id": "W5Ofw-zg8QxD"
      }
    },
    {
      "cell_type": "code",
      "execution_count": null,
      "metadata": {
        "id": "zE4QmgVI6wWB"
      },
      "outputs": [],
      "source": [
        "# read the files and basic stats of the dataset\n",
        "import pandas as pd\n",
        "\n",
        "def read_file(file_path):\n",
        "    if file_path.endswith('.csv'):\n",
        "        df = pd.read_csv(file_path)\n",
        "        # Get the number of rows and columns in the dataset\n",
        "        df = df[['Category', 'meta_description']]\n",
        "        df = df[pd.notnull(df['meta_description'])]\n",
        "        # Renaming second column for a simpler name\n",
        "        df.columns = ['category', 'text']\n",
        "    elif file_path.endswith('.xlsx'):\n",
        "        df = pd.read_excel(file_path, header =1)\n",
        "    # Identifying the first Tag for all rows\n",
        "        first_tag = []\n",
        "        for str in df['Industry Classifications']:\n",
        "            first_tag.append(str.split(';')[0])\n",
        "    # Number of unique and Total Records in First_Tag\n",
        "        print ('Number of unique and Total Records in First_Tag:', len(set(first_tag)), len(first_tag))\n",
        "\n",
        "        clean_first_tag = []\n",
        "        for str in first_tag:\n",
        "            clean_first_tag.append(str.replace(\"(Primary)\",\"\"))\n",
        "        #Adding a new feature into the dataset\n",
        "        df['Category'] = clean_first_tag\n",
        "        df = df[['Category', 'Business Description']]\n",
        "        df = df[pd.notnull(df['Business Description'])]\n",
        "        # Renaming second column for a simpler name\n",
        "        df.columns = ['category', 'text']\n",
        "    else:\n",
        "        raise ValueError('File must be either a CSV or XLSX file.')\n",
        "\n",
        "    # Get basic statistics of the numerical columns in the dataset\n",
        "    num_rows, num_cols = df.shape\n",
        "    print(f'The dataset has {num_rows} rows and {num_cols} columns.')\n",
        "\n",
        "    nume_cols = df.select_dtypes(include=['int', 'float']).columns\n",
        "    if nume_cols == True:\n",
        "      num_stats = df[nume_cols].describe()\n",
        "      print(num_stats)\n",
        "      # Get the correlation matrix of the numerical columns\n",
        "      corr_matrix = df[nume_cols].corr()\n",
        "      print('Correlation matrix:\\n', corr_matrix)\n",
        "    else:\n",
        "      print('No numerical column')\n",
        "\n",
        "    # Get the counts of unique values in a categorical column\n",
        "    cat_cols = df.select_dtypes(include=['object']).columns\n",
        "    cat_counts = df[cat_cols].value_counts()\n",
        "    print(f'The {cat_cols} column has {len(cat_counts)}')\n",
        "\n",
        "    return df\n"
      ]
    },
    {
      "cell_type": "code",
      "source": [
        "df = read_file(path)\n",
        "df.head()\n"
      ],
      "metadata": {
        "colab": {
          "base_uri": "https://localhost:8080/",
          "height": 258
        },
        "id": "qhPwXREkKKHN",
        "outputId": "a86ff856-6499-41f1-bd0a-19603c039faa"
      },
      "execution_count": null,
      "outputs": [
        {
          "output_type": "stream",
          "name": "stdout",
          "text": [
            "The dataset has 66886 rows and 2 columns.\n",
            "No numerical column\n",
            "The Index(['category', 'text'], dtype='object') column has 65875\n"
          ]
        },
        {
          "output_type": "execute_result",
          "data": {
            "text/plain": [
              "                         category  \\\n",
              "0  Commercial Services & Supplies   \n",
              "1                      Healthcare   \n",
              "2  Commercial Services & Supplies   \n",
              "3                      Healthcare   \n",
              "4  Commercial Services & Supplies   \n",
              "\n",
              "                                                text  \n",
              "0  Providing quality, reliable full service resid...  \n",
              "1  For the best value in Bakersfield skin care tr...  \n",
              "2  Koops Overhead Doors specializes in the sales,...  \n",
              "3  We would like to welcome you to Midtown Eyecar...  \n",
              "4  Repro Security provide a range of tailor made ...  "
            ],
            "text/html": [
              "\n",
              "  <div id=\"df-8a4459c9-38bc-4567-8772-eee2b3ec470e\">\n",
              "    <div class=\"colab-df-container\">\n",
              "      <div>\n",
              "<style scoped>\n",
              "    .dataframe tbody tr th:only-of-type {\n",
              "        vertical-align: middle;\n",
              "    }\n",
              "\n",
              "    .dataframe tbody tr th {\n",
              "        vertical-align: top;\n",
              "    }\n",
              "\n",
              "    .dataframe thead th {\n",
              "        text-align: right;\n",
              "    }\n",
              "</style>\n",
              "<table border=\"1\" class=\"dataframe\">\n",
              "  <thead>\n",
              "    <tr style=\"text-align: right;\">\n",
              "      <th></th>\n",
              "      <th>category</th>\n",
              "      <th>text</th>\n",
              "    </tr>\n",
              "  </thead>\n",
              "  <tbody>\n",
              "    <tr>\n",
              "      <th>0</th>\n",
              "      <td>Commercial Services &amp; Supplies</td>\n",
              "      <td>Providing quality, reliable full service resid...</td>\n",
              "    </tr>\n",
              "    <tr>\n",
              "      <th>1</th>\n",
              "      <td>Healthcare</td>\n",
              "      <td>For the best value in Bakersfield skin care tr...</td>\n",
              "    </tr>\n",
              "    <tr>\n",
              "      <th>2</th>\n",
              "      <td>Commercial Services &amp; Supplies</td>\n",
              "      <td>Koops Overhead Doors specializes in the sales,...</td>\n",
              "    </tr>\n",
              "    <tr>\n",
              "      <th>3</th>\n",
              "      <td>Healthcare</td>\n",
              "      <td>We would like to welcome you to Midtown Eyecar...</td>\n",
              "    </tr>\n",
              "    <tr>\n",
              "      <th>4</th>\n",
              "      <td>Commercial Services &amp; Supplies</td>\n",
              "      <td>Repro Security provide a range of tailor made ...</td>\n",
              "    </tr>\n",
              "  </tbody>\n",
              "</table>\n",
              "</div>\n",
              "      <button class=\"colab-df-convert\" onclick=\"convertToInteractive('df-8a4459c9-38bc-4567-8772-eee2b3ec470e')\"\n",
              "              title=\"Convert this dataframe to an interactive table.\"\n",
              "              style=\"display:none;\">\n",
              "        \n",
              "  <svg xmlns=\"http://www.w3.org/2000/svg\" height=\"24px\"viewBox=\"0 0 24 24\"\n",
              "       width=\"24px\">\n",
              "    <path d=\"M0 0h24v24H0V0z\" fill=\"none\"/>\n",
              "    <path d=\"M18.56 5.44l.94 2.06.94-2.06 2.06-.94-2.06-.94-.94-2.06-.94 2.06-2.06.94zm-11 1L8.5 8.5l.94-2.06 2.06-.94-2.06-.94L8.5 2.5l-.94 2.06-2.06.94zm10 10l.94 2.06.94-2.06 2.06-.94-2.06-.94-.94-2.06-.94 2.06-2.06.94z\"/><path d=\"M17.41 7.96l-1.37-1.37c-.4-.4-.92-.59-1.43-.59-.52 0-1.04.2-1.43.59L10.3 9.45l-7.72 7.72c-.78.78-.78 2.05 0 2.83L4 21.41c.39.39.9.59 1.41.59.51 0 1.02-.2 1.41-.59l7.78-7.78 2.81-2.81c.8-.78.8-2.07 0-2.86zM5.41 20L4 18.59l7.72-7.72 1.47 1.35L5.41 20z\"/>\n",
              "  </svg>\n",
              "      </button>\n",
              "      \n",
              "  <style>\n",
              "    .colab-df-container {\n",
              "      display:flex;\n",
              "      flex-wrap:wrap;\n",
              "      gap: 12px;\n",
              "    }\n",
              "\n",
              "    .colab-df-convert {\n",
              "      background-color: #E8F0FE;\n",
              "      border: none;\n",
              "      border-radius: 50%;\n",
              "      cursor: pointer;\n",
              "      display: none;\n",
              "      fill: #1967D2;\n",
              "      height: 32px;\n",
              "      padding: 0 0 0 0;\n",
              "      width: 32px;\n",
              "    }\n",
              "\n",
              "    .colab-df-convert:hover {\n",
              "      background-color: #E2EBFA;\n",
              "      box-shadow: 0px 1px 2px rgba(60, 64, 67, 0.3), 0px 1px 3px 1px rgba(60, 64, 67, 0.15);\n",
              "      fill: #174EA6;\n",
              "    }\n",
              "\n",
              "    [theme=dark] .colab-df-convert {\n",
              "      background-color: #3B4455;\n",
              "      fill: #D2E3FC;\n",
              "    }\n",
              "\n",
              "    [theme=dark] .colab-df-convert:hover {\n",
              "      background-color: #434B5C;\n",
              "      box-shadow: 0px 1px 3px 1px rgba(0, 0, 0, 0.15);\n",
              "      filter: drop-shadow(0px 1px 2px rgba(0, 0, 0, 0.3));\n",
              "      fill: #FFFFFF;\n",
              "    }\n",
              "  </style>\n",
              "\n",
              "      <script>\n",
              "        const buttonEl =\n",
              "          document.querySelector('#df-8a4459c9-38bc-4567-8772-eee2b3ec470e button.colab-df-convert');\n",
              "        buttonEl.style.display =\n",
              "          google.colab.kernel.accessAllowed ? 'block' : 'none';\n",
              "\n",
              "        async function convertToInteractive(key) {\n",
              "          const element = document.querySelector('#df-8a4459c9-38bc-4567-8772-eee2b3ec470e');\n",
              "          const dataTable =\n",
              "            await google.colab.kernel.invokeFunction('convertToInteractive',\n",
              "                                                     [key], {});\n",
              "          if (!dataTable) return;\n",
              "\n",
              "          const docLinkHtml = 'Like what you see? Visit the ' +\n",
              "            '<a target=\"_blank\" href=https://colab.research.google.com/notebooks/data_table.ipynb>data table notebook</a>'\n",
              "            + ' to learn more about interactive tables.';\n",
              "          element.innerHTML = '';\n",
              "          dataTable['output_type'] = 'display_data';\n",
              "          await google.colab.output.renderOutput(dataTable, element);\n",
              "          const docLink = document.createElement('div');\n",
              "          docLink.innerHTML = docLinkHtml;\n",
              "          element.appendChild(docLink);\n",
              "        }\n",
              "      </script>\n",
              "    </div>\n",
              "  </div>\n",
              "  "
            ]
          },
          "metadata": {},
          "execution_count": 5
        }
      ]
    },
    {
      "cell_type": "code",
      "source": [
        "def perform_EDA(df, n):\n",
        "    # Basic EDA to know the data more\n",
        "    total_categories = len(df)\n",
        "    split_by_category = df[\"category\"].value_counts()\n",
        "    nr_categories = len(df[\"category\"].unique())\n",
        "    category = df['category'][n]\n",
        "    text = df['text'][n]\n",
        "\n",
        "    return {\n",
        "        \"Total number of Categories\": total_categories,\n",
        "        \"Split by category\": split_by_category,\n",
        "        \"Number of categories\": nr_categories,\n",
        "        \"Category\": category,\n",
        "        \"Text\": text\n",
        "    }\n"
      ],
      "metadata": {
        "id": "5UVO9bS_0saI"
      },
      "execution_count": null,
      "outputs": []
    },
    {
      "cell_type": "code",
      "source": [
        "perform_EDA(df, 100)"
      ],
      "metadata": {
        "colab": {
          "base_uri": "https://localhost:8080/"
        },
        "id": "1FFsBU-676BW",
        "outputId": "7745cc0b-23a9-4554-f00f-e0865bf264cb"
      },
      "execution_count": null,
      "outputs": [
        {
          "output_type": "stream",
          "name": "stdout",
          "text": [
            "Total number of Categories: 66886\n",
            "----------------------------------------\n",
            "Split by category:\n",
            "Professional Services             6655\n",
            "Healthcare                        6534\n",
            "Corporate Services                6442\n",
            "Financials                        6278\n",
            "Commercial Services & Supplies    5856\n",
            "Media, Marketing & Sales          5798\n",
            "Transportation & Logistics        5727\n",
            "Information Technology            5426\n",
            "Energy & Utilities                5162\n",
            "Consumer Staples                  4906\n",
            "Industrials                       3073\n",
            "Consumer Discretionary            2611\n",
            "Materials                         2418\n",
            "Name: category, dtype: int64\n",
            "----------------------------------------\n",
            "Number of categories: 13\n",
            "Category:  Financials\n",
            "----------------------------------------------------------------------------------------------------\n",
            "Text:\n",
            "We’ve moved! Miller Insurance Brokers are now part of Premier Insurance Centre. We still offer the great level of service you’ve come to expect of Miller Insurance, but now we can bring our customers a much wider offering of services. Please don’t hesitate to contact...\n"
          ]
        }
      ]
    },
    {
      "cell_type": "code",
      "source": [
        "# Percentage of Description with text\n",
        "total = df['text'].notnull().sum()\n",
        "round((total/len(df)*100),1)"
      ],
      "metadata": {
        "colab": {
          "base_uri": "https://localhost:8080/"
        },
        "id": "9AtrIu05Dcpg",
        "outputId": "ad62d5e4-156d-4e62-90d6-45eb4b195f6a"
      },
      "execution_count": null,
      "outputs": [
        {
          "output_type": "execute_result",
          "data": {
            "text/plain": [
              "100.0"
            ]
          },
          "metadata": {},
          "execution_count": 8
        }
      ]
    },
    {
      "cell_type": "markdown",
      "source": [
        "# Pre-process the dataset"
      ],
      "metadata": {
        "id": "GDE56ALCSoZM"
      }
    },
    {
      "cell_type": "code",
      "source": [
        "# Reference: Text Classification with NLP: Tf-Idf vs Word2Vec vs BERT from Medium\n",
        "\n",
        "# Use stopwords list from nltk (that is used in the function below)\n",
        "\n",
        "lst_stopwords = nltk.corpus.stopwords.words(\"english\")\n",
        "def utils_preprocess_text(text, flg_stemm=False, flg_lemm=True, lst_stopwords=None):\n",
        "    # Clean (convert to lowercase and remove punctuations and characters and then strip)\n",
        "    # The function is not optimized for speed but split into various steps for pedagogical purpose\n",
        "    text = str(text).lower()\n",
        "    text = text.strip()\n",
        "    text = re.sub(r'[^\\w\\s]', '', text)\n",
        "\n",
        "    # Tokenize (convert from string to list)\n",
        "    lst_text = text.split()\n",
        "    # remove Stopwords\n",
        "    if lst_stopwords is not None:\n",
        "        lst_text = [word for word in lst_text if word not in lst_stopwords]\n",
        "\n",
        "    # Stemming (remove -ing, -ly, ...)\n",
        "    if flg_stemm == True:\n",
        "        ps = nltk.stem.porter.PorterStemmer()\n",
        "        lst_text = [ps.stem(word) for word in lst_text]\n",
        "\n",
        "    # Lemmatisation (convert the word into root word)\n",
        "    if flg_lemm == True:\n",
        "        lem = nltk.stem.wordnet.WordNetLemmatizer()\n",
        "        lst_text = [lem.lemmatize(word) for word in lst_text]\n",
        "\n",
        "    # back to string from list\n",
        "    text = \" \".join(lst_text)\n",
        "    return text"
      ],
      "metadata": {
        "id": "4zMUSBHlCuO3"
      },
      "execution_count": null,
      "outputs": []
    },
    {
      "cell_type": "code",
      "source": [
        "# Let's apply this function to the whole corpus\n",
        "df[\"text_clean\"] = df[\"text\"].apply(lambda x: utils_preprocess_text(x, flg_stemm=False, flg_lemm=True, lst_stopwords=lst_stopwords))\n",
        "df[\"text_clean\"] = df[\"text_clean\"].apply(lambda x: x.translate({ord(c):'' for c in \"[!”#$%&’()*+,-./:;<=>?@[\\]^_`{|}~]\"}))\n",
        "# Let's look at the output\n",
        "df.head()"
      ],
      "metadata": {
        "colab": {
          "base_uri": "https://localhost:8080/",
          "height": 206
        },
        "id": "yH1DOVwEC8pf",
        "outputId": "d11ccafc-212c-41f3-aae9-304d1c0ed715"
      },
      "execution_count": null,
      "outputs": [
        {
          "output_type": "execute_result",
          "data": {
            "text/plain": [
              "                         category  \\\n",
              "0  Commercial Services & Supplies   \n",
              "1                      Healthcare   \n",
              "2  Commercial Services & Supplies   \n",
              "3                      Healthcare   \n",
              "4  Commercial Services & Supplies   \n",
              "\n",
              "                                                text  \\\n",
              "0  Providing quality, reliable full service resid...   \n",
              "1  For the best value in Bakersfield skin care tr...   \n",
              "2  Koops Overhead Doors specializes in the sales,...   \n",
              "3  We would like to welcome you to Midtown Eyecar...   \n",
              "4  Repro Security provide a range of tailor made ...   \n",
              "\n",
              "                                          text_clean  \n",
              "0  providing quality reliable full service reside...  \n",
              "1  best value bakersfield skin care treatment med...  \n",
              "2  koops overhead door specializes sale service r...  \n",
              "3  would like welcome midtown eyecare professiona...  \n",
              "4  repro security provide range tailor made secur...  "
            ],
            "text/html": [
              "\n",
              "  <div id=\"df-eac4e833-4afa-4e38-adfa-9cbd11f109cf\">\n",
              "    <div class=\"colab-df-container\">\n",
              "      <div>\n",
              "<style scoped>\n",
              "    .dataframe tbody tr th:only-of-type {\n",
              "        vertical-align: middle;\n",
              "    }\n",
              "\n",
              "    .dataframe tbody tr th {\n",
              "        vertical-align: top;\n",
              "    }\n",
              "\n",
              "    .dataframe thead th {\n",
              "        text-align: right;\n",
              "    }\n",
              "</style>\n",
              "<table border=\"1\" class=\"dataframe\">\n",
              "  <thead>\n",
              "    <tr style=\"text-align: right;\">\n",
              "      <th></th>\n",
              "      <th>category</th>\n",
              "      <th>text</th>\n",
              "      <th>text_clean</th>\n",
              "    </tr>\n",
              "  </thead>\n",
              "  <tbody>\n",
              "    <tr>\n",
              "      <th>0</th>\n",
              "      <td>Commercial Services &amp; Supplies</td>\n",
              "      <td>Providing quality, reliable full service resid...</td>\n",
              "      <td>providing quality reliable full service reside...</td>\n",
              "    </tr>\n",
              "    <tr>\n",
              "      <th>1</th>\n",
              "      <td>Healthcare</td>\n",
              "      <td>For the best value in Bakersfield skin care tr...</td>\n",
              "      <td>best value bakersfield skin care treatment med...</td>\n",
              "    </tr>\n",
              "    <tr>\n",
              "      <th>2</th>\n",
              "      <td>Commercial Services &amp; Supplies</td>\n",
              "      <td>Koops Overhead Doors specializes in the sales,...</td>\n",
              "      <td>koops overhead door specializes sale service r...</td>\n",
              "    </tr>\n",
              "    <tr>\n",
              "      <th>3</th>\n",
              "      <td>Healthcare</td>\n",
              "      <td>We would like to welcome you to Midtown Eyecar...</td>\n",
              "      <td>would like welcome midtown eyecare professiona...</td>\n",
              "    </tr>\n",
              "    <tr>\n",
              "      <th>4</th>\n",
              "      <td>Commercial Services &amp; Supplies</td>\n",
              "      <td>Repro Security provide a range of tailor made ...</td>\n",
              "      <td>repro security provide range tailor made secur...</td>\n",
              "    </tr>\n",
              "  </tbody>\n",
              "</table>\n",
              "</div>\n",
              "      <button class=\"colab-df-convert\" onclick=\"convertToInteractive('df-eac4e833-4afa-4e38-adfa-9cbd11f109cf')\"\n",
              "              title=\"Convert this dataframe to an interactive table.\"\n",
              "              style=\"display:none;\">\n",
              "        \n",
              "  <svg xmlns=\"http://www.w3.org/2000/svg\" height=\"24px\"viewBox=\"0 0 24 24\"\n",
              "       width=\"24px\">\n",
              "    <path d=\"M0 0h24v24H0V0z\" fill=\"none\"/>\n",
              "    <path d=\"M18.56 5.44l.94 2.06.94-2.06 2.06-.94-2.06-.94-.94-2.06-.94 2.06-2.06.94zm-11 1L8.5 8.5l.94-2.06 2.06-.94-2.06-.94L8.5 2.5l-.94 2.06-2.06.94zm10 10l.94 2.06.94-2.06 2.06-.94-2.06-.94-.94-2.06-.94 2.06-2.06.94z\"/><path d=\"M17.41 7.96l-1.37-1.37c-.4-.4-.92-.59-1.43-.59-.52 0-1.04.2-1.43.59L10.3 9.45l-7.72 7.72c-.78.78-.78 2.05 0 2.83L4 21.41c.39.39.9.59 1.41.59.51 0 1.02-.2 1.41-.59l7.78-7.78 2.81-2.81c.8-.78.8-2.07 0-2.86zM5.41 20L4 18.59l7.72-7.72 1.47 1.35L5.41 20z\"/>\n",
              "  </svg>\n",
              "      </button>\n",
              "      \n",
              "  <style>\n",
              "    .colab-df-container {\n",
              "      display:flex;\n",
              "      flex-wrap:wrap;\n",
              "      gap: 12px;\n",
              "    }\n",
              "\n",
              "    .colab-df-convert {\n",
              "      background-color: #E8F0FE;\n",
              "      border: none;\n",
              "      border-radius: 50%;\n",
              "      cursor: pointer;\n",
              "      display: none;\n",
              "      fill: #1967D2;\n",
              "      height: 32px;\n",
              "      padding: 0 0 0 0;\n",
              "      width: 32px;\n",
              "    }\n",
              "\n",
              "    .colab-df-convert:hover {\n",
              "      background-color: #E2EBFA;\n",
              "      box-shadow: 0px 1px 2px rgba(60, 64, 67, 0.3), 0px 1px 3px 1px rgba(60, 64, 67, 0.15);\n",
              "      fill: #174EA6;\n",
              "    }\n",
              "\n",
              "    [theme=dark] .colab-df-convert {\n",
              "      background-color: #3B4455;\n",
              "      fill: #D2E3FC;\n",
              "    }\n",
              "\n",
              "    [theme=dark] .colab-df-convert:hover {\n",
              "      background-color: #434B5C;\n",
              "      box-shadow: 0px 1px 3px 1px rgba(0, 0, 0, 0.15);\n",
              "      filter: drop-shadow(0px 1px 2px rgba(0, 0, 0, 0.3));\n",
              "      fill: #FFFFFF;\n",
              "    }\n",
              "  </style>\n",
              "\n",
              "      <script>\n",
              "        const buttonEl =\n",
              "          document.querySelector('#df-eac4e833-4afa-4e38-adfa-9cbd11f109cf button.colab-df-convert');\n",
              "        buttonEl.style.display =\n",
              "          google.colab.kernel.accessAllowed ? 'block' : 'none';\n",
              "\n",
              "        async function convertToInteractive(key) {\n",
              "          const element = document.querySelector('#df-eac4e833-4afa-4e38-adfa-9cbd11f109cf');\n",
              "          const dataTable =\n",
              "            await google.colab.kernel.invokeFunction('convertToInteractive',\n",
              "                                                     [key], {});\n",
              "          if (!dataTable) return;\n",
              "\n",
              "          const docLinkHtml = 'Like what you see? Visit the ' +\n",
              "            '<a target=\"_blank\" href=https://colab.research.google.com/notebooks/data_table.ipynb>data table notebook</a>'\n",
              "            + ' to learn more about interactive tables.';\n",
              "          element.innerHTML = '';\n",
              "          dataTable['output_type'] = 'display_data';\n",
              "          await google.colab.output.renderOutput(dataTable, element);\n",
              "          const docLink = document.createElement('div');\n",
              "          docLink.innerHTML = docLinkHtml;\n",
              "          element.appendChild(docLink);\n",
              "        }\n",
              "      </script>\n",
              "    </div>\n",
              "  </div>\n",
              "  "
            ]
          },
          "metadata": {},
          "execution_count": 10
        }
      ]
    },
    {
      "cell_type": "markdown",
      "source": [
        "#### Count Vectors as features"
      ],
      "metadata": {
        "id": "T9OwJFwrGRfv"
      }
    },
    {
      "cell_type": "code",
      "source": [
        "def filter_top_categories(df):\n",
        "    # get the value counts of each category\n",
        "    category_counts = df['category'].value_counts()\n",
        "\n",
        "    # get the first 15 unique categories with the highest counts\n",
        "    top_categories = category_counts[:15].index.tolist()\n",
        "\n",
        "    # check if the number of unique categories is less than or equal to 15\n",
        "    if category_counts.nunique() <= 15:\n",
        "        # return all the dataframe\n",
        "        filtered_df = df\n",
        "    else:\n",
        "        # return the filtered dataframe on the top 15 categories\n",
        "        filtered_df = df[df['category'].isin(top_categories)]\n",
        "\n",
        "    return filtered_df\n"
      ],
      "metadata": {
        "id": "lQI3yglA6uAM"
      },
      "execution_count": null,
      "outputs": []
    },
    {
      "cell_type": "code",
      "source": [
        "filtered_df = filter_top_categories(df)\n",
        "# check the categories and their counter\n",
        "from collections import Counter\n",
        "Counter(filtered_df['category'])"
      ],
      "metadata": {
        "colab": {
          "base_uri": "https://localhost:8080/"
        },
        "id": "Y5gmKXzML0qq",
        "outputId": "fad8b753-d97a-4ac1-9ee9-6053907a1b40"
      },
      "execution_count": null,
      "outputs": [
        {
          "output_type": "execute_result",
          "data": {
            "text/plain": [
              "Counter({'Commercial Services & Supplies': 5856,\n",
              "         'Healthcare': 6534,\n",
              "         'Materials': 2418,\n",
              "         'Financials': 6278,\n",
              "         'Energy & Utilities': 5162,\n",
              "         'Professional Services': 6655,\n",
              "         'Corporate Services': 6442,\n",
              "         'Media, Marketing & Sales': 5798,\n",
              "         'Information Technology': 5426,\n",
              "         'Consumer Discretionary': 2611,\n",
              "         'Industrials': 3073,\n",
              "         'Transportation & Logistics': 5727,\n",
              "         'Consumer Staples': 4906})"
            ]
          },
          "metadata": {},
          "execution_count": 12
        }
      ]
    },
    {
      "cell_type": "markdown",
      "source": [
        "Now we need to represent each class as a number, for the machine to understand better."
      ],
      "metadata": {
        "id": "i4INeoJNPooB"
      }
    },
    {
      "cell_type": "code",
      "source": [
        "# Select only the needed columns\n",
        "filtered_df = df[['category', 'text_clean']]\n",
        "# Rename the second column for a simpler name\n",
        "filtered_df.columns = ['category', 'description']\n",
        "\n",
        "# Create a new column 'category_id' with encoded categories\n",
        "filtered_df['category_id'] = filtered_df['category'].factorize()[0]\n",
        "category_id_df = filtered_df[['category', 'category_id']].drop_duplicates()\n",
        "\n",
        "# Dictionaries for future use\n",
        "category_to_id = dict(category_id_df.values)\n",
        "id_to_category = dict(category_id_df[['category_id', 'category']].values)\n",
        "\n",
        "filtered_df.head(2)"
      ],
      "metadata": {
        "id": "ydTUR5NjFBR2",
        "colab": {
          "base_uri": "https://localhost:8080/",
          "height": 112
        },
        "outputId": "0578d63a-ac41-4e4f-c4e2-aa2d2dbe06d0"
      },
      "execution_count": null,
      "outputs": [
        {
          "output_type": "execute_result",
          "data": {
            "text/plain": [
              "                         category  \\\n",
              "0  Commercial Services & Supplies   \n",
              "1                      Healthcare   \n",
              "\n",
              "                                         description  category_id  \n",
              "0  providing quality reliable full service reside...            0  \n",
              "1  best value bakersfield skin care treatment med...            1  "
            ],
            "text/html": [
              "\n",
              "  <div id=\"df-479d813d-7659-4c09-ae52-a8893684a744\">\n",
              "    <div class=\"colab-df-container\">\n",
              "      <div>\n",
              "<style scoped>\n",
              "    .dataframe tbody tr th:only-of-type {\n",
              "        vertical-align: middle;\n",
              "    }\n",
              "\n",
              "    .dataframe tbody tr th {\n",
              "        vertical-align: top;\n",
              "    }\n",
              "\n",
              "    .dataframe thead th {\n",
              "        text-align: right;\n",
              "    }\n",
              "</style>\n",
              "<table border=\"1\" class=\"dataframe\">\n",
              "  <thead>\n",
              "    <tr style=\"text-align: right;\">\n",
              "      <th></th>\n",
              "      <th>category</th>\n",
              "      <th>description</th>\n",
              "      <th>category_id</th>\n",
              "    </tr>\n",
              "  </thead>\n",
              "  <tbody>\n",
              "    <tr>\n",
              "      <th>0</th>\n",
              "      <td>Commercial Services &amp; Supplies</td>\n",
              "      <td>providing quality reliable full service reside...</td>\n",
              "      <td>0</td>\n",
              "    </tr>\n",
              "    <tr>\n",
              "      <th>1</th>\n",
              "      <td>Healthcare</td>\n",
              "      <td>best value bakersfield skin care treatment med...</td>\n",
              "      <td>1</td>\n",
              "    </tr>\n",
              "  </tbody>\n",
              "</table>\n",
              "</div>\n",
              "      <button class=\"colab-df-convert\" onclick=\"convertToInteractive('df-479d813d-7659-4c09-ae52-a8893684a744')\"\n",
              "              title=\"Convert this dataframe to an interactive table.\"\n",
              "              style=\"display:none;\">\n",
              "        \n",
              "  <svg xmlns=\"http://www.w3.org/2000/svg\" height=\"24px\"viewBox=\"0 0 24 24\"\n",
              "       width=\"24px\">\n",
              "    <path d=\"M0 0h24v24H0V0z\" fill=\"none\"/>\n",
              "    <path d=\"M18.56 5.44l.94 2.06.94-2.06 2.06-.94-2.06-.94-.94-2.06-.94 2.06-2.06.94zm-11 1L8.5 8.5l.94-2.06 2.06-.94-2.06-.94L8.5 2.5l-.94 2.06-2.06.94zm10 10l.94 2.06.94-2.06 2.06-.94-2.06-.94-.94-2.06-.94 2.06-2.06.94z\"/><path d=\"M17.41 7.96l-1.37-1.37c-.4-.4-.92-.59-1.43-.59-.52 0-1.04.2-1.43.59L10.3 9.45l-7.72 7.72c-.78.78-.78 2.05 0 2.83L4 21.41c.39.39.9.59 1.41.59.51 0 1.02-.2 1.41-.59l7.78-7.78 2.81-2.81c.8-.78.8-2.07 0-2.86zM5.41 20L4 18.59l7.72-7.72 1.47 1.35L5.41 20z\"/>\n",
              "  </svg>\n",
              "      </button>\n",
              "      \n",
              "  <style>\n",
              "    .colab-df-container {\n",
              "      display:flex;\n",
              "      flex-wrap:wrap;\n",
              "      gap: 12px;\n",
              "    }\n",
              "\n",
              "    .colab-df-convert {\n",
              "      background-color: #E8F0FE;\n",
              "      border: none;\n",
              "      border-radius: 50%;\n",
              "      cursor: pointer;\n",
              "      display: none;\n",
              "      fill: #1967D2;\n",
              "      height: 32px;\n",
              "      padding: 0 0 0 0;\n",
              "      width: 32px;\n",
              "    }\n",
              "\n",
              "    .colab-df-convert:hover {\n",
              "      background-color: #E2EBFA;\n",
              "      box-shadow: 0px 1px 2px rgba(60, 64, 67, 0.3), 0px 1px 3px 1px rgba(60, 64, 67, 0.15);\n",
              "      fill: #174EA6;\n",
              "    }\n",
              "\n",
              "    [theme=dark] .colab-df-convert {\n",
              "      background-color: #3B4455;\n",
              "      fill: #D2E3FC;\n",
              "    }\n",
              "\n",
              "    [theme=dark] .colab-df-convert:hover {\n",
              "      background-color: #434B5C;\n",
              "      box-shadow: 0px 1px 3px 1px rgba(0, 0, 0, 0.15);\n",
              "      filter: drop-shadow(0px 1px 2px rgba(0, 0, 0, 0.3));\n",
              "      fill: #FFFFFF;\n",
              "    }\n",
              "  </style>\n",
              "\n",
              "      <script>\n",
              "        const buttonEl =\n",
              "          document.querySelector('#df-479d813d-7659-4c09-ae52-a8893684a744 button.colab-df-convert');\n",
              "        buttonEl.style.display =\n",
              "          google.colab.kernel.accessAllowed ? 'block' : 'none';\n",
              "\n",
              "        async function convertToInteractive(key) {\n",
              "          const element = document.querySelector('#df-479d813d-7659-4c09-ae52-a8893684a744');\n",
              "          const dataTable =\n",
              "            await google.colab.kernel.invokeFunction('convertToInteractive',\n",
              "                                                     [key], {});\n",
              "          if (!dataTable) return;\n",
              "\n",
              "          const docLinkHtml = 'Like what you see? Visit the ' +\n",
              "            '<a target=\"_blank\" href=https://colab.research.google.com/notebooks/data_table.ipynb>data table notebook</a>'\n",
              "            + ' to learn more about interactive tables.';\n",
              "          element.innerHTML = '';\n",
              "          dataTable['output_type'] = 'display_data';\n",
              "          await google.colab.output.renderOutput(dataTable, element);\n",
              "          const docLink = document.createElement('div');\n",
              "          docLink.innerHTML = docLinkHtml;\n",
              "          element.appendChild(docLink);\n",
              "        }\n",
              "      </script>\n",
              "    </div>\n",
              "  </div>\n",
              "  "
            ]
          },
          "metadata": {},
          "execution_count": 13
        }
      ]
    },
    {
      "cell_type": "markdown",
      "source": [
        "The bar chart below shows the number of company's descriptions per category. It can be observed that most of descriptions are related to:\n",
        "* Professional Services (9.95%)\n",
        "* Healthcare (9.77%)\n",
        "* Corporate Services (9.63%)"
      ],
      "metadata": {
        "id": "JYrwWgouQjSg"
      }
    },
    {
      "cell_type": "code",
      "source": [
        "import numpy as np\n",
        "import matplotlib.pyplot as plt\n",
        "plt.style.use('ggplot')\n",
        "\n",
        "\n",
        "num_classes = len(filtered_df [\"category\"].value_counts())\n",
        "\n",
        "colors = plt.cm.Dark2(np.linspace(0, 1, num_classes))\n",
        "iter_color = iter(colors)\n",
        "\n",
        "filtered_df ['category'].value_counts().plot.barh(title=\"Reviews for each Category (n, %)\",\n",
        "                                                 ylabel=\"Categories\",\n",
        "                                                 color=colors,\n",
        "                                                 figsize=(20,12))\n",
        "\n",
        "for i, v in enumerate(filtered_df ['category'].value_counts()):\n",
        "  c = next(iter_color)\n",
        "  plt.text(v, i,\n",
        "           \" \"+str(v)+\", \"+str(round(v*100/df.shape[0],2))+\"%\",\n",
        "           color=c,\n",
        "           va='center',\n",
        "           fontweight='bold')\n",
        "\n"
      ],
      "metadata": {
        "colab": {
          "base_uri": "https://localhost:8080/",
          "height": 675
        },
        "id": "IoQ45yJvvMhq",
        "outputId": "8ed62da3-1146-4a8a-bcb8-b3754ffb02ed"
      },
      "execution_count": null,
      "outputs": [
        {
          "output_type": "display_data",
          "data": {
            "text/plain": [
              "<Figure size 2000x1200 with 1 Axes>"
            ],
            "image/png": "[encoded data removed]"
          },
          "metadata": {}
        }
      ]
    },
    {
      "cell_type": "markdown",
      "source": [
        "<a id='pre'></a>\n",
        "## Text Preprocessing\n",
        "\n",
        "The text needs to be transformed to vectors so as the algorithms will be able make predictions. In this case it will be used the Term Frequency – Inverse Document Frequency (TFIDF) weight to evaluate __how important a word is to a document in a collection of documents__.\n",
        "\n",
        "After removing __punctuation__ and __lower casing__ the words, importance of a word is determined in terms of its frequency."
      ],
      "metadata": {
        "id": "nuPc-8BASOBf"
      }
    },
    {
      "cell_type": "code",
      "source": [
        "tfidf = TfidfVectorizer(sublinear_tf=True, min_df=5,\n",
        "                        ngram_range=(1, 2),\n",
        "                        stop_words='english')\n",
        "\n",
        "# We transform each description into a vector\n",
        "features = tfidf.fit_transform(filtered_df.description).toarray()\n",
        "\n",
        "labels = filtered_df.category_id\n",
        "\n",
        "print(\"Each of the %d companies is represented by %d features (TF-IDF score of unigrams and bigrams)\" %(features.shape))"
      ],
      "metadata": {
        "colab": {
          "base_uri": "https://localhost:8080/"
        },
        "id": "ow4oo5MdSNfk",
        "outputId": "ccebeee2-72be-41c0-83ea-4d813dad2913"
      },
      "execution_count": null,
      "outputs": [
        {
          "output_type": "stream",
          "name": "stdout",
          "text": [
            "Each of the 66886 companies is represented by 37689 features (TF-IDF score of unigrams and bigrams)\n"
          ]
        }
      ]
    },
    {
      "cell_type": "code",
      "source": [
        "# Finding the three most correlated terms with each of the company categories\n",
        "tfidf = TfidfVectorizer(sublinear_tf=True, min_df=5,\n",
        "                        ngram_range=(1, 2),\n",
        "                        stop_words='english')\n",
        "\n",
        "# We transform each description into a vector\n",
        "features = tfidf.fit_transform(filtered_df.description).toarray()\n",
        "\n",
        "labels = filtered_df.category_id\n",
        "N = 3\n",
        "# Loop through the categories and find the most correlated terms\n",
        "for Category, category_id in sorted(category_to_id.items()):\n",
        "    # Calculate the chi-squared test statistic for each term\n",
        "    chi2score = chi2(features, labels == category_id)[0]\n",
        "    # Sort the indices in decreasing order of chi-squared test statistic\n",
        "    indices = np.argsort(chi2score)[::-1]\n",
        "    # Get the feature names in decreasing order of chi-squared test statistic\n",
        "    feature_names = np.array(tfidf.get_feature_names_out())[indices]\n",
        "    # Get the top N correlated terms\n",
        "    unigrams = [v for v in feature_names if len(v.split(' ')) == 1][:N]\n",
        "    bigrams = [v for v in feature_names if len(v.split(' ')) == 2][:N]\n",
        "    # Print the most correlated unigrams and bigrams for each category\n",
        "    print(\"\\n==> %s:\" %(Category))\n",
        "    print(\"  * Most Correlated Unigrams are: %s\" %(', '.join(unigrams[-N:])))\n",
        "    print(\"  * Most Correlated Bigrams are: %s\" %(', '.join(bigrams[-N:])))\n",
        "\n"
      ],
      "metadata": {
        "colab": {
          "base_uri": "https://localhost:8080/"
        },
        "id": "yS9zfsCjTL_R",
        "outputId": "b652db4a-c14e-4b47-8075-3ea09f062c64"
      },
      "execution_count": null,
      "outputs": [
        {
          "output_type": "stream",
          "name": "stdout",
          "text": [
            "\n",
            "==> Commercial Services & Supplies:\n",
            "  * Most Correlated Unigrams are: security, furniture, electrical\n",
            "  * Most Correlated Bigrams are: electrical service, office furniture, electrical contractor\n",
            "\n",
            "==> Consumer Discretionary:\n",
            "  * Most Correlated Unigrams are: carpet, apparel, education\n",
            "  * Most Correlated Bigrams are: higher education, carpet cleaning, appliance repair\n",
            "\n",
            "==> Consumer Staples:\n",
            "  * Most Correlated Unigrams are: beer, coffee, food\n",
            "  * Most Correlated Bigrams are: specialty coffee, food service, coffee roaster\n",
            "\n",
            "==> Corporate Services:\n",
            "  * Most Correlated Unigrams are: recruitment, property, hotel\n",
            "  * Most Correlated Bigrams are: recruitment agency, real estate, property management\n",
            "\n",
            "==> Energy & Utilities:\n",
            "  * Most Correlated Unigrams are: oil, solar, energy\n",
            "  * Most Correlated Bigrams are: solar panel, renewable energy, oil gas\n",
            "\n",
            "==> Financials:\n",
            "  * Most Correlated Unigrams are: mortgage, financial, insurance\n",
            "  * Most Correlated Bigrams are: business insurance, independent insurance, insurance agency\n",
            "\n",
            "==> Healthcare:\n",
            "  * Most Correlated Unigrams are: medical, care, hospital\n",
            "  * Most Correlated Bigrams are: veterinary hospital, eye care, animal hospital\n",
            "\n",
            "==> Industrials:\n",
            "  * Most Correlated Unigrams are: machining, machinery, machine\n",
            "  * Most Correlated Bigrams are: cnc machining, machine shop, machine tool\n",
            "\n",
            "==> Information Technology:\n",
            "  * Most Correlated Unigrams are: solution, computer, software\n",
            "  * Most Correlated Bigrams are: managed service, software solution, software development\n",
            "\n",
            "==> Materials:\n",
            "  * Most Correlated Unigrams are: chemical, metal, steel\n",
            "  * Most Correlated Bigrams are: scrap metal, specialty chemical, stainless steel\n",
            "\n",
            "==> Media, Marketing & Sales:\n",
            "  * Most Correlated Unigrams are: photography, medium, marketing\n",
            "  * Most Correlated Bigrams are: video production, marketing agency, social medium\n",
            "\n",
            "==> Professional Services:\n",
            "  * Most Correlated Unigrams are: attorney, lawyer, law\n",
            "  * Most Correlated Bigrams are: family law, personal injury, law firm\n",
            "\n",
            "==> Transportation & Logistics:\n",
            "  * Most Correlated Unigrams are: freight, transportation, logistics\n",
            "  * Most Correlated Bigrams are: trucking company, transportation service, supply chain\n"
          ]
        }
      ]
    },
    {
      "cell_type": "markdown",
      "source": [
        "The pre-processing makes the text more suitable to read and to feed into a machine for modelling!"
      ],
      "metadata": {
        "id": "qDHHoR0TTvLw"
      }
    },
    {
      "cell_type": "markdown",
      "source": [
        "### Split into Train and Test data"
      ],
      "metadata": {
        "id": "PYSJqK72T9UT"
      }
    },
    {
      "cell_type": "markdown",
      "source": [
        "To examine the algorithm's accuracy, we must divide the dataset into a training dataset (to train the model) and a test dataset (to assess the model). This is accomplished using normal tools. We divided the dataset 75/25, as is common for relatively size datasets.\n",
        "\n",
        "To conform with machine learning standard notations, we rename the input (description) to X and the output (category) to y.\n",
        "\n",
        "The dataset is not that big. As a result, it makes sense to generate training/test sets that are representative of the dataset. We do this by dividing the datasets so that the amount of datasets in each group is similar."
      ],
      "metadata": {
        "id": "20TpoHavT8vy"
      }
    },
    {
      "cell_type": "code",
      "source": [
        "# Renaming, Input -> X, Output -> y\n",
        "X = filtered_df['description']\n",
        "y = filtered_df['category']"
      ],
      "metadata": {
        "id": "zX5JAeoTWXO0"
      },
      "execution_count": null,
      "outputs": []
    },
    {
      "cell_type": "code",
      "source": [
        "# Split into Training and Test sets\n",
        "X_train, X_test, y_train, y_test = train_test_split(X, y, test_size=0.25, random_state=42, stratify=filtered_df['category'])"
      ],
      "metadata": {
        "id": "SflJ_oHtT20d"
      },
      "execution_count": null,
      "outputs": []
    },
    {
      "cell_type": "markdown",
      "source": [
        "Take a look at the split by category: you can see that both the training and test sets are reflective of the dataset.\n"
      ],
      "metadata": {
        "id": "Ca93Hn4dW3Kv"
      }
    },
    {
      "cell_type": "code",
      "source": [
        "y_train.value_counts()/y.value_counts()"
      ],
      "metadata": {
        "colab": {
          "base_uri": "https://localhost:8080/"
        },
        "id": "cyTPq0_OWoqq",
        "outputId": "1d39c47a-d519-4b3b-fb86-e92c97bc3284"
      },
      "execution_count": null,
      "outputs": [
        {
          "output_type": "execute_result",
          "data": {
            "text/plain": [
              "Professional Services             0.749962\n",
              "Healthcare                        0.749923\n",
              "Corporate Services                0.749922\n",
              "Financials                        0.749920\n",
              "Commercial Services & Supplies    0.750000\n",
              "Media, Marketing & Sales          0.749914\n",
              "Transportation & Logistics        0.749956\n",
              "Information Technology            0.750092\n",
              "Energy & Utilities                0.750097\n",
              "Consumer Staples                  0.750102\n",
              "Industrials                       0.750081\n",
              "Consumer Discretionary            0.749904\n",
              "Materials                         0.750207\n",
              "Name: category, dtype: float64"
            ]
          },
          "metadata": {},
          "execution_count": 19
        }
      ]
    },
    {
      "cell_type": "markdown",
      "source": [
        "## TF-IDF Model\n",
        "\n",
        "\n",
        "\n"
      ],
      "metadata": {
        "id": "djTXl-xFbeLd"
      }
    },
    {
      "cell_type": "markdown",
      "source": [
        "The TF-IDF model (Term Frequency - Inverse Document Frequency) models a text by measuring how frequently a single word (called uni-gram), a combination of two words (called bi-gram), or even more (called n-gram) appears in the text. As a result, the \"term frequency\" is created. It is then divided by the document frequency, which is the frequency with which a term appears across all entries (i.e. all documents). The final step allows you to distinguish between underweight words that appear frequently and overweight words that appear infrequently.\n",
        "\n",
        "The TF-IDF model does not consider word order (save for two consecutive words) and hence belongs to the \"Bag of Words\" family of models. We will see later models that take word order into account.\n",
        "\n",
        "To convert text to this format, we \"vectorize\" it. When we do this, we define the vocabulary size (i.e. the total number of words considered) as well as the n-gram range. Then, a word (or word pair in the case of bi-grams) is represented by a vector of the same size as the vocabulary, with values in just one element and zero in the others. This is referred to as a one-hot vector.\n",
        "\n",
        "We fit the vectorizer to the complete training set once we initialised it.\n",
        "\n",
        "We also save all the models for reusability and show the comparison, we also look at the training time"
      ],
      "metadata": {
        "id": "TLOL_xutzoeG"
      }
    },
    {
      "cell_type": "markdown",
      "source": [
        "Let's get started on the model. After converting an entry to a vector with the vectorizer, we apply an error-minimizing technique, which means that the output predicted by the model y(X) should be as close to the label y as possible.\n",
        "\n",
        "We employ logistics regression because it performed better than other models (such as SVM, Naive Bayes, etc.) used.\n",
        "\n",
        "We build the model as a pipeline, consisting of:\n",
        "- vectorization\n",
        "- classifier\n",
        "\n",
        "We fit the model to the training data\n"
      ],
      "metadata": {
        "id": "QTgNBttvdkBd"
      }
    },
    {
      "cell_type": "markdown",
      "source": [
        "<a id='ml'></a>\n",
        "## Multi-Classification models\n",
        "\n",
        "The classification models evaluated are:\n",
        "* Random Forest\n",
        "* Linear Support Vector Machine\n",
        "* Multinomial Naive Bayes\n",
        "* Logistic Regression."
      ],
      "metadata": {
        "id": "n0qzMwMVez1Q"
      }
    },
    {
      "cell_type": "code",
      "source": [
        "import pickle\n",
        "# Initizalize the vectorizer with max nr words and ngrams (1: single words, 2: two words in a row)\n",
        "vectorizer_tfidf = TfidfVectorizer(max_features=15000, ngram_range=(1,2))\n",
        "\n",
        "# Fit the vectorizer to the training data\n",
        "vectorizer_tfidf.fit(X_train)\n",
        "\n",
        "# Define classifiers\n",
        "rf = RandomForestClassifier(n_estimators=100, max_depth=5, random_state=0)\n",
        "svm = LinearSVC()\n",
        "nb = MultinomialNB()\n",
        "lr = LogisticRegression(solver='lbfgs', class_weight='balanced', max_iter=10000)\n",
        "\n",
        "# Define pipelines\n",
        "model_rf = Pipeline([(\"vectorizer\", vectorizer_tfidf), (\"classifier\", rf)])\n",
        "model_svm = Pipeline([(\"vectorizer\", vectorizer_tfidf), (\"classifier\", svm)])\n",
        "model_nb = Pipeline([(\"vectorizer\", vectorizer_tfidf), (\"classifier\", nb)])\n",
        "model_lr = Pipeline([(\"vectorizer\", vectorizer_tfidf), (\"classifier\", lr)])\n",
        "\n",
        "# Train models\n",
        "models = [model_rf, model_svm, model_nb, model_lr]\n",
        "model_names = ['Random Forest', 'LinearSVC', 'MultinomialNB', 'Logistic Regression']\n",
        "\n",
        "mean_accuracies = []\n",
        "training_times = []\n",
        "best_accuracy = 0\n",
        "best_model_name = \"\"\n",
        "best_model_training_time = 0\n",
        "\n",
        "for i, model in enumerate(models):\n",
        "    start_time = datetime.now()\n",
        "    model.fit(X_train, y_train)\n",
        "    end_time = datetime.now()\n",
        "\n",
        "    training_time = (end_time - start_time).total_seconds()\n",
        "    accuracy = model.score(X_test, y_test)\n",
        "\n",
        "    mean_accuracies.append(accuracy)\n",
        "    training_times.append(training_time)\n",
        "\n",
        "    if accuracy > best_accuracy:\n",
        "        best_accuracy = accuracy\n",
        "        best_model_name = model_names[i]\n",
        "        best_model_training_time = training_time\n",
        "\n",
        "    print(f\"{model_names[i]} Model\\nTraining time: {training_time:.2f}s\\nAccuracy: {accuracy:.4f}\\n\")\n",
        "\n",
        "    # Save the model to a file\n",
        "    with open(f\"{model_names[i]}.pkl\", \"wb\") as f:\n",
        "        pickle.dump(model, f)\n",
        "# Create a DataFrame to display the data in a table\n",
        "results_df = pd.DataFrame({\n",
        "    \"Model Name\": model_names,\n",
        "    \"Model Accuracy\": mean_accuracies,\n",
        "    \"Training Time (s)\": training_times\n",
        "})\n",
        "\n",
        "# Print the results table\n",
        "results_df\n",
        "\n",
        "# Print the training time for the best model\n",
        "print(f\"Training time for the best model ({best_model_name}): {best_model_training_time:.2f}s\")\n",
        "\n"
      ],
      "metadata": {
        "colab": {
          "base_uri": "https://localhost:8080/"
        },
        "id": "N48_UJc8Haw4",
        "outputId": "b613d201-fdd6-487d-e158-2d9e48fc14fe"
      },
      "execution_count": null,
      "outputs": [
        {
          "output_type": "stream",
          "name": "stdout",
          "text": [
            "Random Forest Model\n",
            "Training time: 7.25s\n",
            "Accuracy: 0.5767\n",
            "\n",
            "LinearSVC Model\n",
            "Training time: 9.22s\n",
            "Accuracy: 0.8362\n",
            "\n",
            "MultinomialNB Model\n",
            "Training time: 5.73s\n",
            "Accuracy: 0.8119\n",
            "\n",
            "Logistic Regression Model\n",
            "Training time: 32.37s\n",
            "Accuracy: 0.8387\n",
            "\n",
            "Training time for the best model (Logistic Regression): 32.37s\n"
          ]
        }
      ]
    },
    {
      "cell_type": "markdown",
      "source": [
        "<a id='sum'></a>\n",
        "## Comparison of model performance\n",
        "\n",
        "The best mean acuracy was obtained with Logistic Regression Model, closely followed by LinearSVC with a less training time"
      ],
      "metadata": {
        "id": "9vVZw6onftTU"
      }
    },
    {
      "cell_type": "code",
      "source": [
        "plt.figure(figsize=(8,5))\n",
        "sns.boxplot(x=model_names, y=mean_accuracies,\n",
        "            data=results_df,\n",
        "            color='lightblue',\n",
        "            showmeans=True)\n",
        "plt.title(\"MEAN ACCURACY\", size=14);"
      ],
      "metadata": {
        "colab": {
          "base_uri": "https://localhost:8080/",
          "height": 473
        },
        "id": "oiZULkoXdgdx",
        "outputId": "23eefdc9-fb34-46ba-b696-4e72baaf43c8"
      },
      "execution_count": null,
      "outputs": [
        {
          "output_type": "display_data",
          "data": {
            "text/plain": [
              "<Figure size 800x500 with 1 Axes>"
            ],
            "image/png": "[encoded data removed]"
          },
          "metadata": {}
        }
      ]
    },
    {
      "cell_type": "markdown",
      "source": [
        "<a id='ev'></a>\n",
        "## Model Evaluation"
      ],
      "metadata": {
        "id": "H8BB1h8dgPeo"
      }
    },
    {
      "cell_type": "markdown",
      "source": [
        "We evaluate the model's accuracy after training by comparing the model's predictions to the labels for both the training and test data. We compare it for both because the difference in accuracies is an important indicator of overfitting (the model is overly fitted to the training data).\n"
      ],
      "metadata": {
        "id": "CCxf3zYNbdma"
      }
    },
    {
      "cell_type": "code",
      "source": [
        "training_time_tfidf = best_model_training_time\n",
        "print(training_time_tfidf)"
      ],
      "metadata": {
        "colab": {
          "base_uri": "https://localhost:8080/"
        },
        "id": "yQaMj6Nra9gc",
        "outputId": "7cf54d61-3b8f-4480-9108-b839565ed7e3"
      },
      "execution_count": null,
      "outputs": [
        {
          "output_type": "stream",
          "name": "stdout",
          "text": [
            "32.369445\n"
          ]
        }
      ]
    },
    {
      "cell_type": "code",
      "source": [
        "# Load the saved model object from disk\n",
        "\n",
        "with open(f\"Logistic Regression.pkl\", \"rb\") as f:\n",
        "    best_model = pickle.load(f)\n",
        "\n",
        "predicted_train_tfidf = best_model.predict(X_train)\n",
        "accuracy_train_tfidf = accuracy_score(y_train, predicted_train_tfidf)\n",
        "print('Accuracy Training data: {:.1%}'.format(accuracy_train_tfidf))\n",
        "\n",
        "predicted_test_tfidf = best_model.predict(X_test)\n",
        "accuracy_test_tfidf = accuracy_score(y_test, predicted_test_tfidf)\n",
        "accuracy_tfidf = accuracy_test_tfidf\n",
        "print('Accuracy Test data: {:.1%}'.format(accuracy_test_tfidf))\n"
      ],
      "metadata": {
        "colab": {
          "base_uri": "https://localhost:8080/"
        },
        "id": "KplUbpaU1WgH",
        "outputId": "7ff110fb-5220-4eee-e366-92a52624e65a"
      },
      "execution_count": null,
      "outputs": [
        {
          "output_type": "stream",
          "name": "stdout",
          "text": [
            "Accuracy Training data: 89.1%\n",
            "Accuracy Test data: 83.9%\n"
          ]
        }
      ]
    },
    {
      "cell_type": "markdown",
      "source": [
        "We achieve incredible precision! Because the model's training and test accuracy are comparable, it is not overfitted. If the model was overfitted, it might be improved by modifying the regularization, which comes with the sci-kit logistic regression model by default. LR's converge fast and reach the \"exact\" solution, however once a model is optimized, there is little room for improvement.\n"
      ],
      "metadata": {
        "id": "HQ6gxFEJ1rHs"
      }
    },
    {
      "cell_type": "markdown",
      "source": [
        "With other models, we can see the best parameters to achieving the best accuracy"
      ],
      "metadata": {
        "id": "Kj1Mr_yS1VCf"
      }
    },
    {
      "cell_type": "markdown",
      "source": [
        "<a id='m'></a>\n",
        "### Precision, Recall, F1-score"
      ],
      "metadata": {
        "id": "FBNxLqNp1nVb"
      }
    },
    {
      "cell_type": "code",
      "source": [
        "# Classification report\n",
        "print('\\t\\t\\t\\tCLASSIFICATIION METRICS\\n')\n",
        "print(metrics.classification_report(y_test, predicted_test_tfidf,\n",
        "                                    target_names= filtered_df['category'].unique()))"
      ],
      "metadata": {
        "colab": {
          "base_uri": "https://localhost:8080/"
        },
        "id": "HEIULHe81f3D",
        "outputId": "c2aeac18-6251-484d-cc64-efdae570f0ed"
      },
      "execution_count": null,
      "outputs": [
        {
          "output_type": "stream",
          "name": "stdout",
          "text": [
            "\t\t\t\tCLASSIFICATIION METRICS\n",
            "\n",
            "                                precision    recall  f1-score   support\n",
            "\n",
            "Commercial Services & Supplies       0.82      0.82      0.82      1464\n",
            "                    Healthcare       0.71      0.83      0.76       653\n",
            "                     Materials       0.82      0.88      0.85      1226\n",
            "                    Financials       0.86      0.83      0.84      1611\n",
            "            Energy & Utilities       0.88      0.84      0.86      1290\n",
            "         Professional Services       0.93      0.85      0.89      1570\n",
            "            Corporate Services       0.92      0.89      0.90      1634\n",
            "      Media, Marketing & Sales       0.73      0.80      0.76       768\n",
            "        Information Technology       0.76      0.79      0.78      1356\n",
            "        Consumer Discretionary       0.78      0.82      0.80       604\n",
            "                   Industrials       0.85      0.84      0.84      1450\n",
            "    Transportation & Logistics       0.86      0.84      0.85      1664\n",
            "              Consumer Staples       0.85      0.84      0.84      1432\n",
            "\n",
            "                      accuracy                           0.84     16722\n",
            "                     macro avg       0.83      0.84      0.83     16722\n",
            "                  weighted avg       0.84      0.84      0.84     16722\n",
            "\n"
          ]
        }
      ]
    },
    {
      "cell_type": "markdown",
      "source": [
        "It is possible to observe that the classes with more support (number of occurrences) tend to have a better f1-score. This is because the algorithm was trained with more data.<br><br>\n",
        "The classes that can be classified with more precision are __‘Professional Services'__, __‘Corporate Services’__, __‘Energy & Utilities’__, __and__, __'Financials’__."
      ],
      "metadata": {
        "id": "9xwdo5ye1zLL"
      }
    },
    {
      "cell_type": "markdown",
      "source": [
        "<a id='cm'></a>\n",
        "### Confusion Matrix\n",
        "\n",
        "A Confusion Matrix is a table in which the rows are the actual class and the columns are the predicted class.\n",
        "\n",
        "If we had a perfect model that always properly classified a new category, the confusion matrix would only contain values in the diagonal (where predicted label = actual label).\n"
      ],
      "metadata": {
        "id": "NvlC9hS6ARAt"
      }
    },
    {
      "cell_type": "code",
      "source": [
        "conf_mat = confusion_matrix(y_test, predicted_test_tfidf)\n",
        "fig, ax = plt.subplots(figsize=(8,8))\n",
        "sns.heatmap(conf_mat, annot=True, cmap=\"Blues\", fmt='d',\n",
        "            xticklabels=category_id_df.category.values,\n",
        "            yticklabels=category_id_df.category.values)\n",
        "plt.ylabel('Actual')\n",
        "plt.xlabel('Predicted')\n",
        "plt.title(\"CONFUSION MATRIX - LogisticRegression\\n\", size=16);"
      ],
      "metadata": {
        "colab": {
          "base_uri": "https://localhost:8080/",
          "height": 985
        },
        "id": "scnl2DHlAsoI",
        "outputId": "6a4f46d9-d73f-4875-e6aa-5f301f0d43d6"
      },
      "execution_count": null,
      "outputs": [
        {
          "output_type": "display_data",
          "data": {
            "text/plain": [
              "<Figure size 800x800 with 2 Axes>"
            ],
            "image/png": "[encoded data removed]"
          },
          "metadata": {}
        }
      ]
    },
    {
      "cell_type": "markdown",
      "source": [
        "In general, the confusion matrix appears to be in good shape (clean diagonal representing correct classifications). Nonetheless, there are instances where the descriptions were categorised incorrectly.\n",
        "\n",
        "#### Misclassification of descriptions\n",
        "Let's take a look at the cases that were categorised incorrectly.\n"
      ],
      "metadata": {
        "id": "zxy6EdHVBc7N"
      }
    },
    {
      "cell_type": "code",
      "source": [
        "indices_test = X_test.index\n",
        "for predicted in category_id_df.category_id:\n",
        "  for actual in category_id_df.category_id:\n",
        "    if predicted != actual and conf_mat[actual, predicted] <= 10:\n",
        "      print(\"'{}' predicted as '{}' : {} examples.\".format(id_to_category[actual],\n",
        "                                                           id_to_category[predicted],\n",
        "                                                           conf_mat[actual, predicted]))\n",
        "\n",
        "      # display(filtered_df.loc[indices_test[(y_test == actual) & (predicted_test_tfidf == predicted)]][['category',\n",
        "      #                                                           'description']])\n",
        "      print('')"
      ],
      "metadata": {
        "colab": {
          "base_uri": "https://localhost:8080/"
        },
        "id": "6QZ0-25GBlJQ",
        "outputId": "eb1ccc94-fe6d-4a88-9d53-4db19140daae"
      },
      "execution_count": null,
      "outputs": [
        {
          "output_type": "stream",
          "name": "stdout",
          "text": [
            "'Materials' predicted as 'Commercial Services & Supplies' : 8 examples.\n",
            "\n",
            "'Professional Services' predicted as 'Commercial Services & Supplies' : 8 examples.\n",
            "\n",
            "'Corporate Services' predicted as 'Commercial Services & Supplies' : 10 examples.\n",
            "\n",
            "'Energy & Utilities' predicted as 'Healthcare' : 9 examples.\n",
            "\n",
            "'Media, Marketing & Sales' predicted as 'Healthcare' : 6 examples.\n",
            "\n",
            "'Consumer Discretionary' predicted as 'Healthcare' : 6 examples.\n",
            "\n",
            "'Healthcare' predicted as 'Materials' : 9 examples.\n",
            "\n",
            "'Energy & Utilities' predicted as 'Materials' : 10 examples.\n",
            "\n",
            "'Energy & Utilities' predicted as 'Financials' : 8 examples.\n",
            "\n",
            "'Media, Marketing & Sales' predicted as 'Financials' : 4 examples.\n",
            "\n",
            "'Consumer Discretionary' predicted as 'Financials' : 2 examples.\n",
            "\n",
            "'Healthcare' predicted as 'Energy & Utilities' : 3 examples.\n",
            "\n",
            "'Financials' predicted as 'Energy & Utilities' : 7 examples.\n",
            "\n",
            "'Professional Services' predicted as 'Energy & Utilities' : 5 examples.\n",
            "\n",
            "'Corporate Services' predicted as 'Energy & Utilities' : 6 examples.\n",
            "\n",
            "'Industrials' predicted as 'Energy & Utilities' : 10 examples.\n",
            "\n",
            "'Transportation & Logistics' predicted as 'Energy & Utilities' : 10 examples.\n",
            "\n",
            "'Commercial Services & Supplies' predicted as 'Professional Services' : 8 examples.\n",
            "\n",
            "'Healthcare' predicted as 'Professional Services' : 5 examples.\n",
            "\n",
            "'Materials' predicted as 'Professional Services' : 4 examples.\n",
            "\n",
            "'Energy & Utilities' predicted as 'Professional Services' : 5 examples.\n",
            "\n",
            "'Corporate Services' predicted as 'Professional Services' : 9 examples.\n",
            "\n",
            "'Media, Marketing & Sales' predicted as 'Professional Services' : 2 examples.\n",
            "\n",
            "'Consumer Discretionary' predicted as 'Professional Services' : 1 examples.\n",
            "\n",
            "'Industrials' predicted as 'Professional Services' : 6 examples.\n",
            "\n",
            "'Consumer Staples' predicted as 'Professional Services' : 3 examples.\n",
            "\n",
            "'Commercial Services & Supplies' predicted as 'Corporate Services' : 9 examples.\n",
            "\n",
            "'Materials' predicted as 'Corporate Services' : 10 examples.\n",
            "\n",
            "'Energy & Utilities' predicted as 'Corporate Services' : 2 examples.\n",
            "\n",
            "'Media, Marketing & Sales' predicted as 'Corporate Services' : 0 examples.\n",
            "\n",
            "'Consumer Discretionary' predicted as 'Corporate Services' : 3 examples.\n",
            "\n",
            "'Industrials' predicted as 'Corporate Services' : 6 examples.\n",
            "\n",
            "'Healthcare' predicted as 'Media, Marketing & Sales' : 8 examples.\n",
            "\n",
            "'Materials' predicted as 'Media, Marketing & Sales' : 8 examples.\n",
            "\n",
            "'Financials' predicted as 'Media, Marketing & Sales' : 10 examples.\n",
            "\n",
            "'Professional Services' predicted as 'Media, Marketing & Sales' : 9 examples.\n",
            "\n",
            "'Transportation & Logistics' predicted as 'Media, Marketing & Sales' : 9 examples.\n",
            "\n",
            "'Consumer Discretionary' predicted as 'Information Technology' : 8 examples.\n",
            "\n",
            "'Healthcare' predicted as 'Consumer Discretionary' : 2 examples.\n",
            "\n",
            "'Financials' predicted as 'Consumer Discretionary' : 6 examples.\n",
            "\n",
            "'Professional Services' predicted as 'Consumer Discretionary' : 7 examples.\n",
            "\n",
            "'Corporate Services' predicted as 'Consumer Discretionary' : 9 examples.\n",
            "\n",
            "'Information Technology' predicted as 'Consumer Discretionary' : 3 examples.\n",
            "\n",
            "'Industrials' predicted as 'Consumer Discretionary' : 3 examples.\n",
            "\n",
            "'Transportation & Logistics' predicted as 'Consumer Discretionary' : 2 examples.\n",
            "\n",
            "'Consumer Staples' predicted as 'Consumer Discretionary' : 10 examples.\n",
            "\n",
            "'Commercial Services & Supplies' predicted as 'Industrials' : 8 examples.\n",
            "\n",
            "'Energy & Utilities' predicted as 'Industrials' : 9 examples.\n",
            "\n",
            "'Media, Marketing & Sales' predicted as 'Industrials' : 7 examples.\n",
            "\n",
            "'Consumer Discretionary' predicted as 'Industrials' : 1 examples.\n",
            "\n",
            "'Materials' predicted as 'Transportation & Logistics' : 4 examples.\n",
            "\n",
            "'Media, Marketing & Sales' predicted as 'Transportation & Logistics' : 4 examples.\n",
            "\n",
            "'Consumer Discretionary' predicted as 'Transportation & Logistics' : 4 examples.\n",
            "\n",
            "'Consumer Staples' predicted as 'Transportation & Logistics' : 6 examples.\n",
            "\n",
            "'Healthcare' predicted as 'Consumer Staples' : 7 examples.\n",
            "\n",
            "'Consumer Discretionary' predicted as 'Consumer Staples' : 8 examples.\n",
            "\n"
          ]
        }
      ]
    },
    {
      "cell_type": "markdown",
      "source": [
        "#### Most correlated terms with each category"
      ],
      "metadata": {
        "id": "Yz4KDM0HCAjI"
      }
    },
    {
      "cell_type": "code",
      "source": [
        "N = 4\n",
        "for Category, category_id in sorted(category_to_id.items()):\n",
        "  indices = np.argsort(best_model.named_steps['classifier'].coef_[category_id])\n",
        "  feature_names = np.array(tfidf.get_feature_names_out())[indices]\n",
        "  unigrams = [v for v in feature_names if len(v.split(' ')) == 1]\n",
        "  bigrams = [v for v in feature_names if len(v.split(' ')) == 2]\n",
        "  # print(\"\\n==> %s:\" %(Category))\n",
        "  # print(\"  * Most Correlated Unigrams are: %s\" %(', '.join(unigrams[-N:])))\n",
        "  # print(\"  * Most Correlated Bigrams are: %s\" %(', '.join(bigrams[-N:])))\n",
        "\n"
      ],
      "metadata": {
        "id": "FCkLosrXCCUg"
      },
      "execution_count": null,
      "outputs": []
    },
    {
      "cell_type": "markdown",
      "source": [
        "\n",
        "### Model Interpretation"
      ],
      "metadata": {
        "id": "cTTC3SX1SKdT"
      }
    },
    {
      "cell_type": "markdown",
      "source": [
        "The linear algorithm has the advantage of being simple to interpret. Because each model parameter corresponds to a word, knowing which parameters count the most naturally tells us which words count the most.\n",
        "\n",
        "Let's take a deeper look at the model's parameters, extracting the top 10 terms from each category:\n"
      ],
      "metadata": {
        "id": "8wt6DuOkSUQe"
      }
    },
    {
      "cell_type": "code",
      "source": [
        "print('Classes of the model: ',lr.classes_)\n",
        "print(80*'-')\n",
        "print('Shape of the coefficients of the model (categories x vocabulary size): ',lr.coef_.shape)\n",
        "print(80*'-')\n",
        "NN = 10\n",
        "# Get the 10 (here: NN, which you can adjust yourself) ids of the words with highest weights per category\n",
        "top_words = np.argsort(lr.coef_,axis=1)[:,-NN:]\n",
        "\n",
        "# Get the vocabulary of the model (mapping of words to ids):\n",
        "voc = vectorizer_tfidf.vocabulary_\n",
        "# Get the inverse vocabulary to map the ids of the words to the words:\n",
        "inv_voc = {v: k for k, v in voc.items()}\n",
        "\n",
        "# Get for each category (=class) the top ten words\n",
        "for n, w in enumerate(lr.classes_):\n",
        "    t = w + ': '\n",
        "    for i in range(NN):\n",
        "        t += inv_voc[top_words[n,i]]\n",
        "        if i!=NN:\n",
        "            t+=', '\n",
        "    print(t)\n",
        "    print(80*'-')"
      ],
      "metadata": {
        "colab": {
          "base_uri": "https://localhost:8080/"
        },
        "id": "xjmgjPffSmVC",
        "outputId": "4df74642-8f2f-42be-de47-0f9e82ad6d7c"
      },
      "execution_count": null,
      "outputs": [
        {
          "output_type": "stream",
          "name": "stdout",
          "text": [
            "Classes of the model:  ['Commercial Services & Supplies' 'Consumer Discretionary'\n",
            " 'Consumer Staples' 'Corporate Services' 'Energy & Utilities' 'Financials'\n",
            " 'Healthcare' 'Industrials' 'Information Technology' 'Materials'\n",
            " 'Media, Marketing & Sales' 'Professional Services'\n",
            " 'Transportation & Logistics']\n",
            "--------------------------------------------------------------------------------\n",
            "Shape of the coefficients of the model (categories x vocabulary size):  (13, 15000)\n",
            "--------------------------------------------------------------------------------\n",
            "Commercial Services & Supplies: heating, office, cleaning, contracting, electric, contractor, electrical, security, environmental, furniture, \n",
            "--------------------------------------------------------------------------------\n",
            "Consumer Discretionary: clothing, fabric, student, school, educational, appliance, carpet, textile, apparel, education, \n",
            "--------------------------------------------------------------------------------\n",
            "Consumer Staples: fruit, brewery, dairy, beverage, cosmetic, bakery, beer, beauty, coffee, food, \n",
            "--------------------------------------------------------------------------------\n",
            "Corporate Services: estate, apartment, housing, recruiting, training, staffing, restaurant, recruitment, property, hotel, \n",
            "--------------------------------------------------------------------------------\n",
            "Energy & Utilities: electricity, gas, drilling, petroleum, fuel, oilfield, utility, oil, solar, energy, \n",
            "--------------------------------------------------------------------------------\n",
            "Financials: financing, funding, fund, finance, investment, loan, bank, mortgage, financial, insurance, \n",
            "--------------------------------------------------------------------------------\n",
            "Healthcare: health, clinical, patient, eye, veterinary, pharmacy, care, healthcare, hospital, medical, \n",
            "--------------------------------------------------------------------------------\n",
            "Industrials: machining, aircraft, industry, equipment, pump, tool, industrial, aerospace, machinery, machine, \n",
            "--------------------------------------------------------------------------------\n",
            "Information Technology: digital, technology, business, data, wireless, support, cloud, solution, computer, software, \n",
            "--------------------------------------------------------------------------------\n",
            "Materials: adhesive, paint, material, concrete, gold, coating, timber, steel, metal, chemical, \n",
            "--------------------------------------------------------------------------------\n",
            "Media, Marketing & Sales: wedding, creative, magazine, advertising, production, photographer, photography, event, medium, marketing, \n",
            "--------------------------------------------------------------------------------\n",
            "Professional Services: accountant, accounting, research, attorney, legal, architecture, consulting, lawyer, architect, law, \n",
            "--------------------------------------------------------------------------------\n",
            "Transportation & Logistics: shipping, airport, trailer, truck, trucking, freight, marine, transport, logistics, transportation, \n",
            "--------------------------------------------------------------------------------\n"
          ]
        }
      ]
    },
    {
      "cell_type": "markdown",
      "source": [
        "The model seems to be okay!"
      ],
      "metadata": {
        "id": "OEDQZof5TDFR"
      }
    },
    {
      "cell_type": "markdown",
      "source": [
        "<a id='pred'></a>\n",
        "## Predictions\n",
        "\n",
        "Now let's make a few predictions on unseen data.<br>"
      ],
      "metadata": {
        "id": "7QysGc_DDDXO"
      }
    },
    {
      "cell_type": "code",
      "source": [
        "df_test = read_file(path)\n",
        "# Let's apply this function to the whole corpus\n",
        "df_test[\"clean\"] = df_test[\"text\"].apply(lambda x: utils_preprocess_text(x, flg_stemm=False, flg_lemm=True, lst_stopwords=lst_stopwords))\n",
        "df_test[\"clean\"] = df_test[\"clean\"].apply(lambda x: x.translate({ord(c):'' for c in \"[!”#$%&’()*+,-./:;<=>?@[\\]^_`{|}~]\"}))\n",
        "# Let's look at the output\n",
        "df_test.head(2)"
      ],
      "metadata": {
        "colab": {
          "base_uri": "https://localhost:8080/",
          "height": 164
        },
        "id": "EdaCP9FgbkvB",
        "outputId": "c8415606-df95-4ded-b65d-518caedb82ef"
      },
      "execution_count": null,
      "outputs": [
        {
          "output_type": "stream",
          "name": "stdout",
          "text": [
            "The dataset has 66886 rows and 2 columns.\n",
            "No numerical column\n",
            "The Index(['category', 'text'], dtype='object') column has 65875\n"
          ]
        },
        {
          "output_type": "execute_result",
          "data": {
            "text/plain": [
              "                         category  \\\n",
              "0  Commercial Services & Supplies   \n",
              "1                      Healthcare   \n",
              "\n",
              "                                                text  \\\n",
              "0  Providing quality, reliable full service resid...   \n",
              "1  For the best value in Bakersfield skin care tr...   \n",
              "\n",
              "                                               clean  \n",
              "0  providing quality reliable full service reside...  \n",
              "1  best value bakersfield skin care treatment med...  "
            ],
            "text/html": [
              "\n",
              "  <div id=\"df-87377952-aa94-4aae-8d76-67748c3697dd\">\n",
              "    <div class=\"colab-df-container\">\n",
              "      <div>\n",
              "<style scoped>\n",
              "    .dataframe tbody tr th:only-of-type {\n",
              "        vertical-align: middle;\n",
              "    }\n",
              "\n",
              "    .dataframe tbody tr th {\n",
              "        vertical-align: top;\n",
              "    }\n",
              "\n",
              "    .dataframe thead th {\n",
              "        text-align: right;\n",
              "    }\n",
              "</style>\n",
              "<table border=\"1\" class=\"dataframe\">\n",
              "  <thead>\n",
              "    <tr style=\"text-align: right;\">\n",
              "      <th></th>\n",
              "      <th>category</th>\n",
              "      <th>text</th>\n",
              "      <th>clean</th>\n",
              "    </tr>\n",
              "  </thead>\n",
              "  <tbody>\n",
              "    <tr>\n",
              "      <th>0</th>\n",
              "      <td>Commercial Services &amp; Supplies</td>\n",
              "      <td>Providing quality, reliable full service resid...</td>\n",
              "      <td>providing quality reliable full service reside...</td>\n",
              "    </tr>\n",
              "    <tr>\n",
              "      <th>1</th>\n",
              "      <td>Healthcare</td>\n",
              "      <td>For the best value in Bakersfield skin care tr...</td>\n",
              "      <td>best value bakersfield skin care treatment med...</td>\n",
              "    </tr>\n",
              "  </tbody>\n",
              "</table>\n",
              "</div>\n",
              "      <button class=\"colab-df-convert\" onclick=\"convertToInteractive('df-87377952-aa94-4aae-8d76-67748c3697dd')\"\n",
              "              title=\"Convert this dataframe to an interactive table.\"\n",
              "              style=\"display:none;\">\n",
              "        \n",
              "  <svg xmlns=\"http://www.w3.org/2000/svg\" height=\"24px\"viewBox=\"0 0 24 24\"\n",
              "       width=\"24px\">\n",
              "    <path d=\"M0 0h24v24H0V0z\" fill=\"none\"/>\n",
              "    <path d=\"M18.56 5.44l.94 2.06.94-2.06 2.06-.94-2.06-.94-.94-2.06-.94 2.06-2.06.94zm-11 1L8.5 8.5l.94-2.06 2.06-.94-2.06-.94L8.5 2.5l-.94 2.06-2.06.94zm10 10l.94 2.06.94-2.06 2.06-.94-2.06-.94-.94-2.06-.94 2.06-2.06.94z\"/><path d=\"M17.41 7.96l-1.37-1.37c-.4-.4-.92-.59-1.43-.59-.52 0-1.04.2-1.43.59L10.3 9.45l-7.72 7.72c-.78.78-.78 2.05 0 2.83L4 21.41c.39.39.9.59 1.41.59.51 0 1.02-.2 1.41-.59l7.78-7.78 2.81-2.81c.8-.78.8-2.07 0-2.86zM5.41 20L4 18.59l7.72-7.72 1.47 1.35L5.41 20z\"/>\n",
              "  </svg>\n",
              "      </button>\n",
              "      \n",
              "  <style>\n",
              "    .colab-df-container {\n",
              "      display:flex;\n",
              "      flex-wrap:wrap;\n",
              "      gap: 12px;\n",
              "    }\n",
              "\n",
              "    .colab-df-convert {\n",
              "      background-color: #E8F0FE;\n",
              "      border: none;\n",
              "      border-radius: 50%;\n",
              "      cursor: pointer;\n",
              "      display: none;\n",
              "      fill: #1967D2;\n",
              "      height: 32px;\n",
              "      padding: 0 0 0 0;\n",
              "      width: 32px;\n",
              "    }\n",
              "\n",
              "    .colab-df-convert:hover {\n",
              "      background-color: #E2EBFA;\n",
              "      box-shadow: 0px 1px 2px rgba(60, 64, 67, 0.3), 0px 1px 3px 1px rgba(60, 64, 67, 0.15);\n",
              "      fill: #174EA6;\n",
              "    }\n",
              "\n",
              "    [theme=dark] .colab-df-convert {\n",
              "      background-color: #3B4455;\n",
              "      fill: #D2E3FC;\n",
              "    }\n",
              "\n",
              "    [theme=dark] .colab-df-convert:hover {\n",
              "      background-color: #434B5C;\n",
              "      box-shadow: 0px 1px 3px 1px rgba(0, 0, 0, 0.15);\n",
              "      filter: drop-shadow(0px 1px 2px rgba(0, 0, 0, 0.3));\n",
              "      fill: #FFFFFF;\n",
              "    }\n",
              "  </style>\n",
              "\n",
              "      <script>\n",
              "        const buttonEl =\n",
              "          document.querySelector('#df-87377952-aa94-4aae-8d76-67748c3697dd button.colab-df-convert');\n",
              "        buttonEl.style.display =\n",
              "          google.colab.kernel.accessAllowed ? 'block' : 'none';\n",
              "\n",
              "        async function convertToInteractive(key) {\n",
              "          const element = document.querySelector('#df-87377952-aa94-4aae-8d76-67748c3697dd');\n",
              "          const dataTable =\n",
              "            await google.colab.kernel.invokeFunction('convertToInteractive',\n",
              "                                                     [key], {});\n",
              "          if (!dataTable) return;\n",
              "\n",
              "          const docLinkHtml = 'Like what you see? Visit the ' +\n",
              "            '<a target=\"_blank\" href=https://colab.research.google.com/notebooks/data_table.ipynb>data table notebook</a>'\n",
              "            + ' to learn more about interactive tables.';\n",
              "          element.innerHTML = '';\n",
              "          dataTable['output_type'] = 'display_data';\n",
              "          await google.colab.output.renderOutput(dataTable, element);\n",
              "          const docLink = document.createElement('div');\n",
              "          docLink.innerHTML = docLinkHtml;\n",
              "          element.appendChild(docLink);\n",
              "        }\n",
              "      </script>\n",
              "    </div>\n",
              "  </div>\n",
              "  "
            ]
          },
          "metadata": {},
          "execution_count": 29
        }
      ]
    },
    {
      "cell_type": "code",
      "source": [
        "filtered_df = filter_top_categories(df_test)\n",
        "\n",
        "# selecting only the needed columns\n",
        "filtered_df = filtered_df[['category', 'clean']]\n",
        "# Renaming second column for a simpler name\n",
        "filtered_df.columns = ['category', 'description']\n",
        "\n",
        "# Create a new column 'category_id' with encoded categories\n",
        "filtered_df['category_id'] = filtered_df['category'].factorize()[0]\n",
        "category_id_df = filtered_df[['category', 'category_id']].drop_duplicates()\n",
        "\n",
        "\n",
        "# Dictionaries for future use\n",
        "category_to_id = dict(category_id_df.values)\n",
        "id_to_category = dict(category_id_df[['category_id', 'category']].values)\n",
        "\n",
        "# New dataframe\n",
        "filtered_df.head()"
      ],
      "metadata": {
        "colab": {
          "base_uri": "https://localhost:8080/",
          "height": 206
        },
        "id": "nfV1wGs5ceDf",
        "outputId": "9a292c43-8e5a-4a75-f83b-777a6123f0df"
      },
      "execution_count": null,
      "outputs": [
        {
          "output_type": "execute_result",
          "data": {
            "text/plain": [
              "                         category  \\\n",
              "0  Commercial Services & Supplies   \n",
              "1                      Healthcare   \n",
              "2  Commercial Services & Supplies   \n",
              "3                      Healthcare   \n",
              "4  Commercial Services & Supplies   \n",
              "\n",
              "                                         description  category_id  \n",
              "0  providing quality reliable full service reside...            0  \n",
              "1  best value bakersfield skin care treatment med...            1  \n",
              "2  koops overhead door specializes sale service r...            0  \n",
              "3  would like welcome midtown eyecare professiona...            1  \n",
              "4  repro security provide range tailor made secur...            0  "
            ],
            "text/html": [
              "\n",
              "  <div id=\"df-05e15bfe-fc3b-49c2-b484-c931748f199f\">\n",
              "    <div class=\"colab-df-container\">\n",
              "      <div>\n",
              "<style scoped>\n",
              "    .dataframe tbody tr th:only-of-type {\n",
              "        vertical-align: middle;\n",
              "    }\n",
              "\n",
              "    .dataframe tbody tr th {\n",
              "        vertical-align: top;\n",
              "    }\n",
              "\n",
              "    .dataframe thead th {\n",
              "        text-align: right;\n",
              "    }\n",
              "</style>\n",
              "<table border=\"1\" class=\"dataframe\">\n",
              "  <thead>\n",
              "    <tr style=\"text-align: right;\">\n",
              "      <th></th>\n",
              "      <th>category</th>\n",
              "      <th>description</th>\n",
              "      <th>category_id</th>\n",
              "    </tr>\n",
              "  </thead>\n",
              "  <tbody>\n",
              "    <tr>\n",
              "      <th>0</th>\n",
              "      <td>Commercial Services &amp; Supplies</td>\n",
              "      <td>providing quality reliable full service reside...</td>\n",
              "      <td>0</td>\n",
              "    </tr>\n",
              "    <tr>\n",
              "      <th>1</th>\n",
              "      <td>Healthcare</td>\n",
              "      <td>best value bakersfield skin care treatment med...</td>\n",
              "      <td>1</td>\n",
              "    </tr>\n",
              "    <tr>\n",
              "      <th>2</th>\n",
              "      <td>Commercial Services &amp; Supplies</td>\n",
              "      <td>koops overhead door specializes sale service r...</td>\n",
              "      <td>0</td>\n",
              "    </tr>\n",
              "    <tr>\n",
              "      <th>3</th>\n",
              "      <td>Healthcare</td>\n",
              "      <td>would like welcome midtown eyecare professiona...</td>\n",
              "      <td>1</td>\n",
              "    </tr>\n",
              "    <tr>\n",
              "      <th>4</th>\n",
              "      <td>Commercial Services &amp; Supplies</td>\n",
              "      <td>repro security provide range tailor made secur...</td>\n",
              "      <td>0</td>\n",
              "    </tr>\n",
              "  </tbody>\n",
              "</table>\n",
              "</div>\n",
              "      <button class=\"colab-df-convert\" onclick=\"convertToInteractive('df-05e15bfe-fc3b-49c2-b484-c931748f199f')\"\n",
              "              title=\"Convert this dataframe to an interactive table.\"\n",
              "              style=\"display:none;\">\n",
              "        \n",
              "  <svg xmlns=\"http://www.w3.org/2000/svg\" height=\"24px\"viewBox=\"0 0 24 24\"\n",
              "       width=\"24px\">\n",
              "    <path d=\"M0 0h24v24H0V0z\" fill=\"none\"/>\n",
              "    <path d=\"M18.56 5.44l.94 2.06.94-2.06 2.06-.94-2.06-.94-.94-2.06-.94 2.06-2.06.94zm-11 1L8.5 8.5l.94-2.06 2.06-.94-2.06-.94L8.5 2.5l-.94 2.06-2.06.94zm10 10l.94 2.06.94-2.06 2.06-.94-2.06-.94-.94-2.06-.94 2.06-2.06.94z\"/><path d=\"M17.41 7.96l-1.37-1.37c-.4-.4-.92-.59-1.43-.59-.52 0-1.04.2-1.43.59L10.3 9.45l-7.72 7.72c-.78.78-.78 2.05 0 2.83L4 21.41c.39.39.9.59 1.41.59.51 0 1.02-.2 1.41-.59l7.78-7.78 2.81-2.81c.8-.78.8-2.07 0-2.86zM5.41 20L4 18.59l7.72-7.72 1.47 1.35L5.41 20z\"/>\n",
              "  </svg>\n",
              "      </button>\n",
              "      \n",
              "  <style>\n",
              "    .colab-df-container {\n",
              "      display:flex;\n",
              "      flex-wrap:wrap;\n",
              "      gap: 12px;\n",
              "    }\n",
              "\n",
              "    .colab-df-convert {\n",
              "      background-color: #E8F0FE;\n",
              "      border: none;\n",
              "      border-radius: 50%;\n",
              "      cursor: pointer;\n",
              "      display: none;\n",
              "      fill: #1967D2;\n",
              "      height: 32px;\n",
              "      padding: 0 0 0 0;\n",
              "      width: 32px;\n",
              "    }\n",
              "\n",
              "    .colab-df-convert:hover {\n",
              "      background-color: #E2EBFA;\n",
              "      box-shadow: 0px 1px 2px rgba(60, 64, 67, 0.3), 0px 1px 3px 1px rgba(60, 64, 67, 0.15);\n",
              "      fill: #174EA6;\n",
              "    }\n",
              "\n",
              "    [theme=dark] .colab-df-convert {\n",
              "      background-color: #3B4455;\n",
              "      fill: #D2E3FC;\n",
              "    }\n",
              "\n",
              "    [theme=dark] .colab-df-convert:hover {\n",
              "      background-color: #434B5C;\n",
              "      box-shadow: 0px 1px 3px 1px rgba(0, 0, 0, 0.15);\n",
              "      filter: drop-shadow(0px 1px 2px rgba(0, 0, 0, 0.3));\n",
              "      fill: #FFFFFF;\n",
              "    }\n",
              "  </style>\n",
              "\n",
              "      <script>\n",
              "        const buttonEl =\n",
              "          document.querySelector('#df-05e15bfe-fc3b-49c2-b484-c931748f199f button.colab-df-convert');\n",
              "        buttonEl.style.display =\n",
              "          google.colab.kernel.accessAllowed ? 'block' : 'none';\n",
              "\n",
              "        async function convertToInteractive(key) {\n",
              "          const element = document.querySelector('#df-05e15bfe-fc3b-49c2-b484-c931748f199f');\n",
              "          const dataTable =\n",
              "            await google.colab.kernel.invokeFunction('convertToInteractive',\n",
              "                                                     [key], {});\n",
              "          if (!dataTable) return;\n",
              "\n",
              "          const docLinkHtml = 'Like what you see? Visit the ' +\n",
              "            '<a target=\"_blank\" href=https://colab.research.google.com/notebooks/data_table.ipynb>data table notebook</a>'\n",
              "            + ' to learn more about interactive tables.';\n",
              "          element.innerHTML = '';\n",
              "          dataTable['output_type'] = 'display_data';\n",
              "          await google.colab.output.renderOutput(dataTable, element);\n",
              "          const docLink = document.createElement('div');\n",
              "          docLink.innerHTML = docLinkHtml;\n",
              "          element.appendChild(docLink);\n",
              "        }\n",
              "      </script>\n",
              "    </div>\n",
              "  </div>\n",
              "  "
            ]
          },
          "metadata": {},
          "execution_count": 30
        }
      ]
    },
    {
      "cell_type": "code",
      "source": [
        "# let's look at a specific example to get a concrete impression of company's description\n",
        "# You can adjust n:\n",
        "n=100\n",
        "print('Category: ',filtered_df['category'][n])\n",
        "#print(100*'-')\n",
        "#print('Text:')\n",
        "new_description =filtered_df['description'][n]\n",
        "new_description"
      ],
      "metadata": {
        "colab": {
          "base_uri": "https://localhost:8080/",
          "height": 70
        },
        "id": "3_iSYY67durV",
        "outputId": "9be27dcc-bef0-483d-d911-8a3382507342"
      },
      "execution_count": null,
      "outputs": [
        {
          "output_type": "stream",
          "name": "stdout",
          "text": [
            "Category:  Financials\n"
          ]
        },
        {
          "output_type": "execute_result",
          "data": {
            "text/plain": [
              "'weve moved miller insurance broker part premier insurance centre still offer great level service youve come expect miller insurance bring customer much wider offering service please dont hesitate contact'"
            ],
            "application/vnd.google.colaboratory.intrinsic+json": {
              "type": "string"
            }
          },
          "metadata": {},
          "execution_count": 31
        }
      ]
    },
    {
      "cell_type": "code",
      "source": [
        "#new_description = \"chequamegon food coop memberowned corporation ashland wisconsin speciality include fresh local organic natural food\"\n",
        "# let's look at a specific example to get a concrete impression of company's description\n",
        "# You can adjust n:\n",
        "n=100\n",
        "print('Category: ',filtered_df['category'][n])\n",
        "#print(100*'-')\n",
        "#print('Text:')\n",
        "new_description =filtered_df['description'][n]\n",
        "new_description\n",
        "predicted_category = best_model.predict([new_description])[0]\n",
        "# Find the row in the DataFrame that matches the predicted category\n",
        "filtered_df[filtered_df['description'] == new_description]"
      ],
      "metadata": {
        "colab": {
          "base_uri": "https://localhost:8080/"
        },
        "id": "BMrbJy7BWnnD",
        "outputId": "32ce1da6-a92a-4e01-97db-33ceff0a79c0"
      },
      "execution_count": null,
      "outputs": [
        {
          "output_type": "stream",
          "name": "stdout",
          "text": [
            "Financials\n"
          ]
        }
      ]
    },
    {
      "cell_type": "markdown",
      "source": [
        "Let's see what is the classification that our model gives to this new description."
      ],
      "metadata": {
        "id": "46fw1gKFDjle"
      }
    },
    {
      "cell_type": "code",
      "source": [
        "# Find the row in the DataFrame that matches the predicted category\n",
        "filtered_df[filtered_df['description'] == new_description]"
      ],
      "metadata": {
        "colab": {
          "base_uri": "https://localhost:8080/",
          "height": 81
        },
        "id": "gmD7BvwbWnLn",
        "outputId": "8496a6ef-89c7-46a9-c3b7-63514994c196"
      },
      "execution_count": null,
      "outputs": [
        {
          "output_type": "execute_result",
          "data": {
            "text/plain": [
              "       category                                        description  \\\n",
              "100  Financials  weve moved miller insurance broker part premie...   \n",
              "\n",
              "     category_id  \n",
              "100            3  "
            ],
            "text/html": [
              "\n",
              "  <div id=\"df-a3c28ce9-8586-4a14-b371-5b4264dd9c40\">\n",
              "    <div class=\"colab-df-container\">\n",
              "      <div>\n",
              "<style scoped>\n",
              "    .dataframe tbody tr th:only-of-type {\n",
              "        vertical-align: middle;\n",
              "    }\n",
              "\n",
              "    .dataframe tbody tr th {\n",
              "        vertical-align: top;\n",
              "    }\n",
              "\n",
              "    .dataframe thead th {\n",
              "        text-align: right;\n",
              "    }\n",
              "</style>\n",
              "<table border=\"1\" class=\"dataframe\">\n",
              "  <thead>\n",
              "    <tr style=\"text-align: right;\">\n",
              "      <th></th>\n",
              "      <th>category</th>\n",
              "      <th>description</th>\n",
              "      <th>category_id</th>\n",
              "    </tr>\n",
              "  </thead>\n",
              "  <tbody>\n",
              "    <tr>\n",
              "      <th>100</th>\n",
              "      <td>Financials</td>\n",
              "      <td>weve moved miller insurance broker part premie...</td>\n",
              "      <td>3</td>\n",
              "    </tr>\n",
              "  </tbody>\n",
              "</table>\n",
              "</div>\n",
              "      <button class=\"colab-df-convert\" onclick=\"convertToInteractive('df-a3c28ce9-8586-4a14-b371-5b4264dd9c40')\"\n",
              "              title=\"Convert this dataframe to an interactive table.\"\n",
              "              style=\"display:none;\">\n",
              "        \n",
              "  <svg xmlns=\"http://www.w3.org/2000/svg\" height=\"24px\"viewBox=\"0 0 24 24\"\n",
              "       width=\"24px\">\n",
              "    <path d=\"M0 0h24v24H0V0z\" fill=\"none\"/>\n",
              "    <path d=\"M18.56 5.44l.94 2.06.94-2.06 2.06-.94-2.06-.94-.94-2.06-.94 2.06-2.06.94zm-11 1L8.5 8.5l.94-2.06 2.06-.94-2.06-.94L8.5 2.5l-.94 2.06-2.06.94zm10 10l.94 2.06.94-2.06 2.06-.94-2.06-.94-.94-2.06-.94 2.06-2.06.94z\"/><path d=\"M17.41 7.96l-1.37-1.37c-.4-.4-.92-.59-1.43-.59-.52 0-1.04.2-1.43.59L10.3 9.45l-7.72 7.72c-.78.78-.78 2.05 0 2.83L4 21.41c.39.39.9.59 1.41.59.51 0 1.02-.2 1.41-.59l7.78-7.78 2.81-2.81c.8-.78.8-2.07 0-2.86zM5.41 20L4 18.59l7.72-7.72 1.47 1.35L5.41 20z\"/>\n",
              "  </svg>\n",
              "      </button>\n",
              "      \n",
              "  <style>\n",
              "    .colab-df-container {\n",
              "      display:flex;\n",
              "      flex-wrap:wrap;\n",
              "      gap: 12px;\n",
              "    }\n",
              "\n",
              "    .colab-df-convert {\n",
              "      background-color: #E8F0FE;\n",
              "      border: none;\n",
              "      border-radius: 50%;\n",
              "      cursor: pointer;\n",
              "      display: none;\n",
              "      fill: #1967D2;\n",
              "      height: 32px;\n",
              "      padding: 0 0 0 0;\n",
              "      width: 32px;\n",
              "    }\n",
              "\n",
              "    .colab-df-convert:hover {\n",
              "      background-color: #E2EBFA;\n",
              "      box-shadow: 0px 1px 2px rgba(60, 64, 67, 0.3), 0px 1px 3px 1px rgba(60, 64, 67, 0.15);\n",
              "      fill: #174EA6;\n",
              "    }\n",
              "\n",
              "    [theme=dark] .colab-df-convert {\n",
              "      background-color: #3B4455;\n",
              "      fill: #D2E3FC;\n",
              "    }\n",
              "\n",
              "    [theme=dark] .colab-df-convert:hover {\n",
              "      background-color: #434B5C;\n",
              "      box-shadow: 0px 1px 3px 1px rgba(0, 0, 0, 0.15);\n",
              "      filter: drop-shadow(0px 1px 2px rgba(0, 0, 0, 0.3));\n",
              "      fill: #FFFFFF;\n",
              "    }\n",
              "  </style>\n",
              "\n",
              "      <script>\n",
              "        const buttonEl =\n",
              "          document.querySelector('#df-a3c28ce9-8586-4a14-b371-5b4264dd9c40 button.colab-df-convert');\n",
              "        buttonEl.style.display =\n",
              "          google.colab.kernel.accessAllowed ? 'block' : 'none';\n",
              "\n",
              "        async function convertToInteractive(key) {\n",
              "          const element = document.querySelector('#df-a3c28ce9-8586-4a14-b371-5b4264dd9c40');\n",
              "          const dataTable =\n",
              "            await google.colab.kernel.invokeFunction('convertToInteractive',\n",
              "                                                     [key], {});\n",
              "          if (!dataTable) return;\n",
              "\n",
              "          const docLinkHtml = 'Like what you see? Visit the ' +\n",
              "            '<a target=\"_blank\" href=https://colab.research.google.com/notebooks/data_table.ipynb>data table notebook</a>'\n",
              "            + ' to learn more about interactive tables.';\n",
              "          element.innerHTML = '';\n",
              "          dataTable['output_type'] = 'display_data';\n",
              "          await google.colab.output.renderOutput(dataTable, element);\n",
              "          const docLink = document.createElement('div');\n",
              "          docLink.innerHTML = docLinkHtml;\n",
              "          element.appendChild(docLink);\n",
              "        }\n",
              "      </script>\n",
              "    </div>\n",
              "  </div>\n",
              "  "
            ]
          },
          "metadata": {},
          "execution_count": 33
        }
      ]
    },
    {
      "cell_type": "code",
      "source": [
        "#new_description_2 = \"VCF pays 100% of what the State of Illinois owes you. A Qualified Purchaser in the State of Illinois' Vendor Payment Program and Vendor Support Initiative.\"\n",
        "n=200\n",
        "print('Category: ',filtered_df['category'][n])\n",
        "#print(100*'-')\n",
        "#print('Text:')\n",
        "new_description_2 =filtered_df['description'][n]\n",
        "new_description_2\n"
      ],
      "metadata": {
        "colab": {
          "base_uri": "https://localhost:8080/",
          "height": 53
        },
        "id": "J-q99ID1EOvn",
        "outputId": "8f25fade-b6b1-4ec5-9a91-20c0081b2de4"
      },
      "execution_count": null,
      "outputs": [
        {
          "output_type": "stream",
          "name": "stdout",
          "text": [
            "Category:  Commercial Services & Supplies\n"
          ]
        },
        {
          "output_type": "execute_result",
          "data": {
            "text/plain": [
              "'florence electric offer consulting engineering design installation team electrical building technology market throughout new england'"
            ],
            "application/vnd.google.colaboratory.intrinsic+json": {
              "type": "string"
            }
          },
          "metadata": {},
          "execution_count": 34
        }
      ]
    },
    {
      "cell_type": "code",
      "source": [
        "predictions_2 = best_model.predict([new_description_2])[0]\n",
        "print(predictions_2)"
      ],
      "metadata": {
        "colab": {
          "base_uri": "https://localhost:8080/"
        },
        "id": "SBuSuEg8gN11",
        "outputId": "c8bb77a6-2c48-4ab6-fb73-892f4d0bcf13"
      },
      "execution_count": null,
      "outputs": [
        {
          "output_type": "stream",
          "name": "stdout",
          "text": [
            "Commercial Services & Supplies\n"
          ]
        }
      ]
    },
    {
      "cell_type": "code",
      "source": [
        "# Find the row in the DataFrame that matches the predicted category\n",
        "filtered_df[filtered_df['description'] == new_description_2]"
      ],
      "metadata": {
        "colab": {
          "base_uri": "https://localhost:8080/",
          "height": 81
        },
        "id": "yIvjXD2Q_V04",
        "outputId": "dc397368-945d-4dd2-b177-f93f167ca609"
      },
      "execution_count": null,
      "outputs": [
        {
          "output_type": "execute_result",
          "data": {
            "text/plain": [
              "                           category  \\\n",
              "200  Commercial Services & Supplies   \n",
              "\n",
              "                                           description  category_id  \n",
              "200  florence electric offer consulting engineering...            0  "
            ],
            "text/html": [
              "\n",
              "  <div id=\"df-84767fff-299b-49e0-bf5a-88255b25a58c\">\n",
              "    <div class=\"colab-df-container\">\n",
              "      <div>\n",
              "<style scoped>\n",
              "    .dataframe tbody tr th:only-of-type {\n",
              "        vertical-align: middle;\n",
              "    }\n",
              "\n",
              "    .dataframe tbody tr th {\n",
              "        vertical-align: top;\n",
              "    }\n",
              "\n",
              "    .dataframe thead th {\n",
              "        text-align: right;\n",
              "    }\n",
              "</style>\n",
              "<table border=\"1\" class=\"dataframe\">\n",
              "  <thead>\n",
              "    <tr style=\"text-align: right;\">\n",
              "      <th></th>\n",
              "      <th>category</th>\n",
              "      <th>description</th>\n",
              "      <th>category_id</th>\n",
              "    </tr>\n",
              "  </thead>\n",
              "  <tbody>\n",
              "    <tr>\n",
              "      <th>200</th>\n",
              "      <td>Commercial Services &amp; Supplies</td>\n",
              "      <td>florence electric offer consulting engineering...</td>\n",
              "      <td>0</td>\n",
              "    </tr>\n",
              "  </tbody>\n",
              "</table>\n",
              "</div>\n",
              "      <button class=\"colab-df-convert\" onclick=\"convertToInteractive('df-84767fff-299b-49e0-bf5a-88255b25a58c')\"\n",
              "              title=\"Convert this dataframe to an interactive table.\"\n",
              "              style=\"display:none;\">\n",
              "        \n",
              "  <svg xmlns=\"http://www.w3.org/2000/svg\" height=\"24px\"viewBox=\"0 0 24 24\"\n",
              "       width=\"24px\">\n",
              "    <path d=\"M0 0h24v24H0V0z\" fill=\"none\"/>\n",
              "    <path d=\"M18.56 5.44l.94 2.06.94-2.06 2.06-.94-2.06-.94-.94-2.06-.94 2.06-2.06.94zm-11 1L8.5 8.5l.94-2.06 2.06-.94-2.06-.94L8.5 2.5l-.94 2.06-2.06.94zm10 10l.94 2.06.94-2.06 2.06-.94-2.06-.94-.94-2.06-.94 2.06-2.06.94z\"/><path d=\"M17.41 7.96l-1.37-1.37c-.4-.4-.92-.59-1.43-.59-.52 0-1.04.2-1.43.59L10.3 9.45l-7.72 7.72c-.78.78-.78 2.05 0 2.83L4 21.41c.39.39.9.59 1.41.59.51 0 1.02-.2 1.41-.59l7.78-7.78 2.81-2.81c.8-.78.8-2.07 0-2.86zM5.41 20L4 18.59l7.72-7.72 1.47 1.35L5.41 20z\"/>\n",
              "  </svg>\n",
              "      </button>\n",
              "      \n",
              "  <style>\n",
              "    .colab-df-container {\n",
              "      display:flex;\n",
              "      flex-wrap:wrap;\n",
              "      gap: 12px;\n",
              "    }\n",
              "\n",
              "    .colab-df-convert {\n",
              "      background-color: #E8F0FE;\n",
              "      border: none;\n",
              "      border-radius: 50%;\n",
              "      cursor: pointer;\n",
              "      display: none;\n",
              "      fill: #1967D2;\n",
              "      height: 32px;\n",
              "      padding: 0 0 0 0;\n",
              "      width: 32px;\n",
              "    }\n",
              "\n",
              "    .colab-df-convert:hover {\n",
              "      background-color: #E2EBFA;\n",
              "      box-shadow: 0px 1px 2px rgba(60, 64, 67, 0.3), 0px 1px 3px 1px rgba(60, 64, 67, 0.15);\n",
              "      fill: #174EA6;\n",
              "    }\n",
              "\n",
              "    [theme=dark] .colab-df-convert {\n",
              "      background-color: #3B4455;\n",
              "      fill: #D2E3FC;\n",
              "    }\n",
              "\n",
              "    [theme=dark] .colab-df-convert:hover {\n",
              "      background-color: #434B5C;\n",
              "      box-shadow: 0px 1px 3px 1px rgba(0, 0, 0, 0.15);\n",
              "      filter: drop-shadow(0px 1px 2px rgba(0, 0, 0, 0.3));\n",
              "      fill: #FFFFFF;\n",
              "    }\n",
              "  </style>\n",
              "\n",
              "      <script>\n",
              "        const buttonEl =\n",
              "          document.querySelector('#df-84767fff-299b-49e0-bf5a-88255b25a58c button.colab-df-convert');\n",
              "        buttonEl.style.display =\n",
              "          google.colab.kernel.accessAllowed ? 'block' : 'none';\n",
              "\n",
              "        async function convertToInteractive(key) {\n",
              "          const element = document.querySelector('#df-84767fff-299b-49e0-bf5a-88255b25a58c');\n",
              "          const dataTable =\n",
              "            await google.colab.kernel.invokeFunction('convertToInteractive',\n",
              "                                                     [key], {});\n",
              "          if (!dataTable) return;\n",
              "\n",
              "          const docLinkHtml = 'Like what you see? Visit the ' +\n",
              "            '<a target=\"_blank\" href=https://colab.research.google.com/notebooks/data_table.ipynb>data table notebook</a>'\n",
              "            + ' to learn more about interactive tables.';\n",
              "          element.innerHTML = '';\n",
              "          dataTable['output_type'] = 'display_data';\n",
              "          await google.colab.output.renderOutput(dataTable, element);\n",
              "          const docLink = document.createElement('div');\n",
              "          docLink.innerHTML = docLinkHtml;\n",
              "          element.appendChild(docLink);\n",
              "        }\n",
              "      </script>\n",
              "    </div>\n",
              "  </div>\n",
              "  "
            ]
          },
          "metadata": {},
          "execution_count": 36
        }
      ]
    },
    {
      "cell_type": "code",
      "source": [
        "new_descriptions = [\n",
        "    \"VCF pays 100% of what the State of Illinois owes you. A Qualified Purchaser in the State of Illinois' Vendor Payment Program and Vendor Support Initiative.\",\n",
        "    \"Lorem ipsum dolor sit amet, consectetur adipiscing elit.\",\n",
        "    \"Koops Overhead Doors, Albany Garage Doors, Troy Garage Doors, Capital District Garage Doors, Clifton Park Garage Doors, Capital District Garage Door Repair, Albany Garage Door Repair.\"\n",
        "]\n",
        "predictions = best_model.predict(new_descriptions)\n",
        "print(predictions)\n"
      ],
      "metadata": {
        "colab": {
          "base_uri": "https://localhost:8080/"
        },
        "id": "JyuBm3z4_aJe",
        "outputId": "627c2adf-b611-449c-b0ab-143f616a55ee"
      },
      "execution_count": null,
      "outputs": [
        {
          "output_type": "stream",
          "name": "stdout",
          "text": [
            "['Financials' 'Consumer Staples' 'Commercial Services & Supplies']\n"
          ]
        }
      ]
    },
    {
      "cell_type": "code",
      "source": [
        "#new_description_2 = \"VCF pays 100% of what the State of Illinois owes you. A Qualified Purchaser in the State of Illinois' Vendor Payment Program and Vendor Support Initiative.\"\n",
        "n=1000\n",
        "print('Category: ',filtered_df['category'][n])\n",
        "\n",
        "new_description_3 =filtered_df['description'][n]\n",
        "new_description_3\n"
      ],
      "metadata": {
        "colab": {
          "base_uri": "https://localhost:8080/",
          "height": 53
        },
        "id": "BN3aKaHCbIn3",
        "outputId": "2aff2806-619d-4c3d-f31e-d199c2cc2cc2"
      },
      "execution_count": null,
      "outputs": [
        {
          "output_type": "stream",
          "name": "stdout",
          "text": [
            "Category:  Commercial Services & Supplies\n"
          ]
        },
        {
          "output_type": "execute_result",
          "data": {
            "text/plain": [
              "'contract electrician retford nottingham doncaster worksop'"
            ],
            "application/vnd.google.colaboratory.intrinsic+json": {
              "type": "string"
            }
          },
          "metadata": {},
          "execution_count": 38
        }
      ]
    },
    {
      "cell_type": "code",
      "source": [
        "# Find the row in the DataFrame that matches the predicted category\n",
        "filtered_df[filtered_df['description'] == new_description_3]"
      ],
      "metadata": {
        "colab": {
          "base_uri": "https://localhost:8080/",
          "height": 81
        },
        "id": "TnzVgAYdcvyA",
        "outputId": "19caa830-f9bb-4913-df06-5dff9b443bf7"
      },
      "execution_count": null,
      "outputs": [
        {
          "output_type": "execute_result",
          "data": {
            "text/plain": [
              "                            category  \\\n",
              "1000  Commercial Services & Supplies   \n",
              "\n",
              "                                            description  category_id  \n",
              "1000  contract electrician retford nottingham doncas...            0  "
            ],
            "text/html": [
              "\n",
              "  <div id=\"df-258db314-15c6-41e1-962c-2a82d71ac3be\">\n",
              "    <div class=\"colab-df-container\">\n",
              "      <div>\n",
              "<style scoped>\n",
              "    .dataframe tbody tr th:only-of-type {\n",
              "        vertical-align: middle;\n",
              "    }\n",
              "\n",
              "    .dataframe tbody tr th {\n",
              "        vertical-align: top;\n",
              "    }\n",
              "\n",
              "    .dataframe thead th {\n",
              "        text-align: right;\n",
              "    }\n",
              "</style>\n",
              "<table border=\"1\" class=\"dataframe\">\n",
              "  <thead>\n",
              "    <tr style=\"text-align: right;\">\n",
              "      <th></th>\n",
              "      <th>category</th>\n",
              "      <th>description</th>\n",
              "      <th>category_id</th>\n",
              "    </tr>\n",
              "  </thead>\n",
              "  <tbody>\n",
              "    <tr>\n",
              "      <th>1000</th>\n",
              "      <td>Commercial Services &amp; Supplies</td>\n",
              "      <td>contract electrician retford nottingham doncas...</td>\n",
              "      <td>0</td>\n",
              "    </tr>\n",
              "  </tbody>\n",
              "</table>\n",
              "</div>\n",
              "      <button class=\"colab-df-convert\" onclick=\"convertToInteractive('df-258db314-15c6-41e1-962c-2a82d71ac3be')\"\n",
              "              title=\"Convert this dataframe to an interactive table.\"\n",
              "              style=\"display:none;\">\n",
              "        \n",
              "  <svg xmlns=\"http://www.w3.org/2000/svg\" height=\"24px\"viewBox=\"0 0 24 24\"\n",
              "       width=\"24px\">\n",
              "    <path d=\"M0 0h24v24H0V0z\" fill=\"none\"/>\n",
              "    <path d=\"M18.56 5.44l.94 2.06.94-2.06 2.06-.94-2.06-.94-.94-2.06-.94 2.06-2.06.94zm-11 1L8.5 8.5l.94-2.06 2.06-.94-2.06-.94L8.5 2.5l-.94 2.06-2.06.94zm10 10l.94 2.06.94-2.06 2.06-.94-2.06-.94-.94-2.06-.94 2.06-2.06.94z\"/><path d=\"M17.41 7.96l-1.37-1.37c-.4-.4-.92-.59-1.43-.59-.52 0-1.04.2-1.43.59L10.3 9.45l-7.72 7.72c-.78.78-.78 2.05 0 2.83L4 21.41c.39.39.9.59 1.41.59.51 0 1.02-.2 1.41-.59l7.78-7.78 2.81-2.81c.8-.78.8-2.07 0-2.86zM5.41 20L4 18.59l7.72-7.72 1.47 1.35L5.41 20z\"/>\n",
              "  </svg>\n",
              "      </button>\n",
              "      \n",
              "  <style>\n",
              "    .colab-df-container {\n",
              "      display:flex;\n",
              "      flex-wrap:wrap;\n",
              "      gap: 12px;\n",
              "    }\n",
              "\n",
              "    .colab-df-convert {\n",
              "      background-color: #E8F0FE;\n",
              "      border: none;\n",
              "      border-radius: 50%;\n",
              "      cursor: pointer;\n",
              "      display: none;\n",
              "      fill: #1967D2;\n",
              "      height: 32px;\n",
              "      padding: 0 0 0 0;\n",
              "      width: 32px;\n",
              "    }\n",
              "\n",
              "    .colab-df-convert:hover {\n",
              "      background-color: #E2EBFA;\n",
              "      box-shadow: 0px 1px 2px rgba(60, 64, 67, 0.3), 0px 1px 3px 1px rgba(60, 64, 67, 0.15);\n",
              "      fill: #174EA6;\n",
              "    }\n",
              "\n",
              "    [theme=dark] .colab-df-convert {\n",
              "      background-color: #3B4455;\n",
              "      fill: #D2E3FC;\n",
              "    }\n",
              "\n",
              "    [theme=dark] .colab-df-convert:hover {\n",
              "      background-color: #434B5C;\n",
              "      box-shadow: 0px 1px 3px 1px rgba(0, 0, 0, 0.15);\n",
              "      filter: drop-shadow(0px 1px 2px rgba(0, 0, 0, 0.3));\n",
              "      fill: #FFFFFF;\n",
              "    }\n",
              "  </style>\n",
              "\n",
              "      <script>\n",
              "        const buttonEl =\n",
              "          document.querySelector('#df-258db314-15c6-41e1-962c-2a82d71ac3be button.colab-df-convert');\n",
              "        buttonEl.style.display =\n",
              "          google.colab.kernel.accessAllowed ? 'block' : 'none';\n",
              "\n",
              "        async function convertToInteractive(key) {\n",
              "          const element = document.querySelector('#df-258db314-15c6-41e1-962c-2a82d71ac3be');\n",
              "          const dataTable =\n",
              "            await google.colab.kernel.invokeFunction('convertToInteractive',\n",
              "                                                     [key], {});\n",
              "          if (!dataTable) return;\n",
              "\n",
              "          const docLinkHtml = 'Like what you see? Visit the ' +\n",
              "            '<a target=\"_blank\" href=https://colab.research.google.com/notebooks/data_table.ipynb>data table notebook</a>'\n",
              "            + ' to learn more about interactive tables.';\n",
              "          element.innerHTML = '';\n",
              "          dataTable['output_type'] = 'display_data';\n",
              "          await google.colab.output.renderOutput(dataTable, element);\n",
              "          const docLink = document.createElement('div');\n",
              "          docLink.innerHTML = docLinkHtml;\n",
              "          element.appendChild(docLink);\n",
              "        }\n",
              "      </script>\n",
              "    </div>\n",
              "  </div>\n",
              "  "
            ]
          },
          "metadata": {},
          "execution_count": 39
        }
      ]
    },
    {
      "cell_type": "markdown",
      "source": [
        "### Deep Learning - RNN"
      ],
      "metadata": {
        "id": "z0fE6M8MHhmu"
      }
    },
    {
      "cell_type": "markdown",
      "source": [
        "Words in a text occur in a specific order. Recurrent Neural Networks (RNN) are models that consider word order by processing words sequentially as they appear in the text. It was discovered that RNNs with no \"internal memory\" had a limitation in terms of \"how far they can remember\" the influence of word correlations. Long Short Term Memory (LSTM) cells replaced regular RNNs in Machine Learning to mitigate this. Internal variables in LSTM cells serve as memory. It has slightly greater computational expenses, which are usually acceptable.\n",
        "\n",
        "We use Word2Vec to develop this model, which makes use of word embeddings. This is a technique that was first published in 2013 [1] and has had a significant impact on NLP. It entails describing a word with a vector of a specific size (usually 100 or 300). The vector for a given word is defined by its context inside texts (i.e., words on its left and right - N words on the left, N words on the right, N commonly being 5). Word embeddings are typically trained using massive text corpora. Word2Vec was trained on millions of Google News articles, whereas GloVe, a comparable technique, was trained on Wikipedia. Word2Vec was trained on millions of Google News articles, whereas GloVe, a comparable technique, was trained on Wikipedia. Words having similar meanings (synonyms) are usually near together in this word area. The representation is \"dense\" in comparison to the \"sparse\" one-hot vector representation.\n",
        "\n",
        "The sequential approach of RNN allows for the consideration of word order, but it also slows down training because a sequential approach by design cannot be handled by parallel computing.\n",
        "\n",
        "The training and test data are defined differently than for TF-IDF: we will use unprocessed text. Because of technical reasons, the labelling cannot be handled as text and must be turned into a one-hot vector. The data was then divided into training and test sets, as with TF-IDF.\n"
      ],
      "metadata": {
        "id": "dUIJJcjgHmx5"
      }
    },
    {
      "cell_type": "code",
      "source": [
        "# Renaming, Input -> X, Output -> y\n",
        "X_tf = df['text']\n",
        "y_tf_class = df['category']\n",
        "\n",
        "# Convert labels into a one-hot vector of size 13 (the number of distinct labels)\n",
        "lab = LabelBinarizer()\n",
        "lab.fit(y_tf_class)\n",
        "y_tf = lab.transform(y_tf_class)\n",
        "\n",
        "# Example (you can modify n)\n",
        "n=100\n",
        "print('Coding of labels into a one-hot vector: ' + y_tf_class[n] + ' is ', y_tf[n])\n",
        "\n",
        "# Split into training and test data\n",
        "X_tf_train, X_tf_test, y_tf_train, y_tf_test = train_test_split(X_tf, y_tf, test_size=0.25, random_state=42, stratify=df['category'])"
      ],
      "metadata": {
        "colab": {
          "base_uri": "https://localhost:8080/"
        },
        "id": "ytUyMs3GGTnk",
        "outputId": "9f42fc1a-edc1-4297-ac54-5ec60a047692"
      },
      "execution_count": null,
      "outputs": [
        {
          "output_type": "stream",
          "name": "stdout",
          "text": [
            "Coding of labels into a one-hot vector: Financials is  [1 0 0 0 0 0 0 0 0 0 0 0 0]\n"
          ]
        }
      ]
    },
    {
      "cell_type": "markdown",
      "source": [
        "The text, which is a series of words, must be translated to a series of numbers. TensorFlow's tokenizer is used to tokenize the text.\n",
        "\n",
        "We fit the tokenizer to the training data after initialising it.\n"
      ],
      "metadata": {
        "id": "rRiknBO2JbjV"
      }
    },
    {
      "cell_type": "code",
      "source": [
        "corpus = X_tf_train\n",
        "max_words = 15000\n",
        "tokenizer = kprocessing.text.Tokenizer(lower=True, split=' ', num_words=max_words, oov_token=\"<pad>\", filters='!\"#$%&()*+,-./:;<=>?@[\\\\]^_`{|}~\\t\\n')\n",
        "tokenizer.fit_on_texts(corpus)\n",
        "voc = tokenizer.word_index\n",
        "reverse_voc = dict([(value, key) for (key, value) in voc.items()])"
      ],
      "metadata": {
        "id": "Uauc4d_WJdjI"
      },
      "execution_count": null,
      "outputs": []
    },
    {
      "cell_type": "markdown",
      "source": [
        "Let's utilise the tokenizer to turn the training data (a string of words) into a string of numbers that represent the words. We then pad sequences with TensorFlow's pad_sequences function. We set a length limit for the sequences. Any text that has more words than allowed will be cut.\n",
        "\n",
        "After processing the training data, we examine its shape and explain it with an example.\n"
      ],
      "metadata": {
        "id": "2nvQR36tJnh4"
      }
    },
    {
      "cell_type": "code",
      "source": [
        "max_len = 200\n",
        "\n",
        "sequences = tokenizer.texts_to_sequences(X_tf_train)\n",
        "X_tf_train_seq = kprocessing.sequence.pad_sequences(sequences, maxlen=max_len)\n",
        "\n",
        "# Apply the same to test data\n",
        "X_tf_test_seq = kprocessing.sequence.pad_sequences(tokenizer.texts_to_sequences(X_tf_test), maxlen=max_len)\n",
        "\n",
        "n=10 # You can adjust n\n",
        "print('Shape: ',X_tf_train_seq.shape)\n",
        "print(100*'-')\n",
        "print('Example: ',X_tf_train_seq[n,:])"
      ],
      "metadata": {
        "colab": {
          "base_uri": "https://localhost:8080/"
        },
        "id": "PXzHM9ArKBw2",
        "outputId": "ab754fa3-f91f-4698-a074-6fd2cb3cb950"
      },
      "execution_count": null,
      "outputs": [
        {
          "output_type": "stream",
          "name": "stdout",
          "text": [
            "Shape:  (46820, 200)\n",
            "----------------------------------------------------------------------------------------------------\n",
            "Example:  [   0    0    0    0    0    0    0    0    0    0    0    0    0    0\n",
            "    0    0    0    0    0    0    0    0    0    0    0    0    0    0\n",
            "    0    0    0    0    0    0    0    0    0    0    0    0    0    0\n",
            "    0    0    0    0    0    0    0    0    0    0    0    0    0    0\n",
            "    0    0    0    0    0    0    0    0    0    0    0    0    0    0\n",
            "    0    0    0    0    0    0    0    0    0    0    0    0    0    0\n",
            "    0    0    0    0    0    0    0    0    0    0    0    0    0    0\n",
            "    0    0    0    0    0    0    0    0    0    0    0    0    0    0\n",
            "    0    0    0    0    0    0    0    0    0    0    0    0    0    0\n",
            "    0    0    0    0    0    0    0    0    0    0    0    0    0    0\n",
            "    0    0    0    0    0    0    0    0    0    0    0    0    0    0\n",
            "    0    0    0    0    0    0    0    0    0    0    0    0    0    0\n",
            "    0    0    0    0    0    0    0    0    0    0    0    0    0   46\n",
            "   15    9    3 3839  813    8    3   33  179    2   14    8  100 1635\n",
            " 1512  887    2  442]\n"
          ]
        }
      ]
    },
    {
      "cell_type": "markdown",
      "source": [
        "Each word is now assigned a number (an index). We want to represent it with the best vector possible, based on previously learnt knowledge.\n",
        "\n",
        "This is accomplished by the use of Word2Vec, as previously mentioned. We will not train this word representation ourselves, but will instead download an existing representation from the library gensim. This could take some time. Once we have this word representation, we will map it to our tokenization.\n"
      ],
      "metadata": {
        "id": "2lUbFDiaKh-I"
      }
    },
    {
      "cell_type": "code",
      "source": [
        "# This may take several minutes\n",
        "w2v = api.load(\"word2vec-google-news-300\")\n",
        "# Example of a word representation:\n",
        "w2v['hello'].shape"
      ],
      "metadata": {
        "colab": {
          "base_uri": "https://localhost:8080/"
        },
        "id": "7uZk46hyKjfD",
        "outputId": "08ff15b2-ede2-453e-ef7f-87bdf39c8f97"
      },
      "execution_count": null,
      "outputs": [
        {
          "output_type": "stream",
          "name": "stdout",
          "text": [
            "[==================================================] 100.0% 1662.8/1662.8MB downloaded\n"
          ]
        },
        {
          "output_type": "execute_result",
          "data": {
            "text/plain": [
              "(300,)"
            ]
          },
          "metadata": {},
          "execution_count": 43
        }
      ]
    },
    {
      "cell_type": "code",
      "source": [
        "# Build weights of the embbeddings matrix using w2v\n",
        "emb_matrix=np.zeros((max_words+1, 300))\n",
        "for i in range(max_words):\n",
        "    w = reverse_voc[i+1]\n",
        "    if w in w2v:\n",
        "        emb_matrix[i+1,:] = w2v[w]\n",
        "emb_size = emb_matrix.shape[1]"
      ],
      "metadata": {
        "id": "TegNphvXLPM1"
      },
      "execution_count": null,
      "outputs": []
    },
    {
      "cell_type": "markdown",
      "source": [
        "We develop the model after we have a word representation. We use:\n",
        "- Input layer: to inform the model about the expected input format, so that the model knows what to expect.\n",
        "- Embedding: Using the downloaded Word2Vec matrix, we turn the input (a sequence of word indices) into a sequence of embedded words (a sequence of vectors of size 300).\n",
        "- LSTM layer: To have the most information available, we employ an LSTM layer that moves in both directions (ahead and backward). This layer's output (which is pushed to the next layer) is the output of the previous word (on the right for the forward LSTM and on the left for the reverse LSTM). We set the output vector size to 15 (which is fairly arbitrary). We get a vector of size 30 by combining both outputs (forward and backward).\n",
        "- A dropout layer is used for regularisation.\n",
        "- Dense layer (with relu activation function and 64 neurons): to solve the classification problem.\n",
        "- Dense layer (with softmax activation function): for each label's probability distribution\n",
        "We ran the model through the Adam optimizer, where we experimented with the hyper-parameters. Based on the recommendations of the initial dropout article (2014) [2|, we increase the learning rate compared to TensorFlow's default values.\n"
      ],
      "metadata": {
        "id": "dta4m8sJLT_d"
      }
    },
    {
      "cell_type": "code",
      "source": [
        "from tensorflow.keras import layers, models, optimizers\n",
        "nr_categories = len(df[\"category\"].unique())\n",
        "input_ = layers.Input(shape = X_tf_train_seq[0,:].shape,name='input')\n",
        "# Embedding layer (voc size plus un (\"UNK\", word with index 0)), using the pre-trained emb_matrix obtained from Word2Vec\n",
        "x = layers.Embedding(max_words+1,emb_size,weights=[emb_matrix],trainable=False, name='embedding')(input_)\n",
        "x = layers.Bidirectional(layers.LSTM(15,dropout=0.2),name='bidirectional-lstm')(x) # LSTM layer\n",
        "x = layers.Dropout(0.2, name='dropout')(x)\n",
        "x = layers.Dense(64, activation='relu', name='dense')(x)\n",
        "output = layers.Dense(nr_categories,activation='softmax', name='classification')(x)\n",
        "\n",
        "model = models.Model(input_, output)\n",
        "\n",
        "opt = optimizers.Adam(learning_rate=0.01, beta_1=0.9)\n",
        "model.compile(optimizer=opt,loss='categorical_crossentropy', metrics=['accuracy'])"
      ],
      "metadata": {
        "id": "mAGAzBU_MP5n"
      },
      "execution_count": null,
      "outputs": []
    },
    {
      "cell_type": "markdown",
      "source": [
        "Let's view our model:"
      ],
      "metadata": {
        "id": "ARvQlqVcMoh7"
      }
    },
    {
      "cell_type": "code",
      "source": [
        "model.summary()"
      ],
      "metadata": {
        "colab": {
          "base_uri": "https://localhost:8080/"
        },
        "id": "vN7n9T6UMsvE",
        "outputId": "db8dba7d-b3de-4af1-c0f0-039e1de32d39"
      },
      "execution_count": null,
      "outputs": [
        {
          "output_type": "stream",
          "name": "stdout",
          "text": [
            "Model: \"model\"\n",
            "_________________________________________________________________\n",
            " Layer (type)                Output Shape              Param #   \n",
            "=================================================================\n",
            " input (InputLayer)          [(None, 200)]             0         \n",
            "                                                                 \n",
            " embedding (Embedding)       (None, 200, 300)          4500300   \n",
            "                                                                 \n",
            " bidirectional-lstm (Bidirec  (None, 30)               37920     \n",
            " tional)                                                         \n",
            "                                                                 \n",
            " dropout (Dropout)           (None, 30)                0         \n",
            "                                                                 \n",
            " dense (Dense)               (None, 64)                1984      \n",
            "                                                                 \n",
            " classification (Dense)      (None, 13)                845       \n",
            "                                                                 \n",
            "=================================================================\n",
            "Total params: 4,541,049\n",
            "Trainable params: 40,749\n",
            "Non-trainable params: 4,500,300\n",
            "_________________________________________________________________\n"
          ]
        }
      ]
    },
    {
      "cell_type": "markdown",
      "source": [
        "It is now time to train the model! We train it during ten epochs. When we train the model, we obtain valuable information from the history object, which we present after the training.\n"
      ],
      "metadata": {
        "id": "LGdf1ghMOcsd"
      }
    },
    {
      "cell_type": "code",
      "source": [
        "start_time = datetime.now()\n",
        "history = model.fit(X_tf_train_seq, y_tf_train, batch_size=64, shuffle=True, epochs=10, validation_data=(X_tf_test_seq, y_tf_test))\n",
        "end_time = datetime.now()\n",
        "\n",
        "training_time_rnn = (end_time - start_time).total_seconds()"
      ],
      "metadata": {
        "colab": {
          "base_uri": "https://localhost:8080/"
        },
        "id": "6CRhwEFqOd9F",
        "outputId": "cd0cd008-4210-4aa7-94cf-fa079c9e893a"
      },
      "execution_count": null,
      "outputs": [
        {
          "output_type": "stream",
          "name": "stdout",
          "text": [
            "Epoch 1/10\n",
            "732/732 [==============================] - 151s 199ms/step - loss: 0.9828 - accuracy: 0.7157 - val_loss: 0.6491 - val_accuracy: 0.8207\n",
            "Epoch 2/10\n",
            "732/732 [==============================] - 141s 193ms/step - loss: 0.7126 - accuracy: 0.8075 - val_loss: 0.6311 - val_accuracy: 0.8262\n",
            "Epoch 3/10\n",
            "732/732 [==============================] - 144s 196ms/step - loss: 0.6780 - accuracy: 0.8141 - val_loss: 0.6027 - val_accuracy: 0.8331\n",
            "Epoch 4/10\n",
            "732/732 [==============================] - 145s 199ms/step - loss: 0.6556 - accuracy: 0.8207 - val_loss: 0.5923 - val_accuracy: 0.8345\n",
            "Epoch 5/10\n",
            "732/732 [==============================] - 150s 204ms/step - loss: 0.6448 - accuracy: 0.8231 - val_loss: 0.5912 - val_accuracy: 0.8355\n",
            "Epoch 6/10\n",
            "732/732 [==============================] - 142s 195ms/step - loss: 0.6356 - accuracy: 0.8248 - val_loss: 0.5995 - val_accuracy: 0.8356\n",
            "Epoch 7/10\n",
            "732/732 [==============================] - 143s 196ms/step - loss: 0.6322 - accuracy: 0.8266 - val_loss: 0.5849 - val_accuracy: 0.8378\n",
            "Epoch 8/10\n",
            "732/732 [==============================] - 141s 193ms/step - loss: 0.6251 - accuracy: 0.8277 - val_loss: 0.5917 - val_accuracy: 0.8365\n",
            "Epoch 9/10\n",
            "732/732 [==============================] - 137s 187ms/step - loss: 0.6156 - accuracy: 0.8290 - val_loss: 0.5995 - val_accuracy: 0.8344\n",
            "Epoch 10/10\n",
            "732/732 [==============================] - 154s 211ms/step - loss: 0.6122 - accuracy: 0.8300 - val_loss: 0.5934 - val_accuracy: 0.8353\n"
          ]
        }
      ]
    },
    {
      "cell_type": "code",
      "source": [
        "fig, ax = plt.subplots(nrows=1, ncols=2, figsize=(15, 5))\n",
        "ax[0].set(title='Loss')\n",
        "ax[0].plot(history.history['loss'], label='Training')\n",
        "ax[0].plot(history.history['val_loss'], label='Validation')\n",
        "ax[0].legend(loc=\"upper right\")\n",
        "\n",
        "ax[1].set(title='Accuracy')\n",
        "ax[1].plot(history.history['accuracy'], label='Training')\n",
        "ax[1].plot(history.history['val_accuracy'], label='Validation')\n",
        "ax[1].legend(loc=\"lower right\")"
      ],
      "metadata": {
        "colab": {
          "base_uri": "https://localhost:8080/",
          "height": 490
        },
        "id": "lQNm_4XUOrKU",
        "outputId": "e646d59b-7f09-468b-c23e-4d8423c6c077"
      },
      "execution_count": null,
      "outputs": [
        {
          "output_type": "execute_result",
          "data": {
            "text/plain": [
              "<matplotlib.legend.Legend at 0x7ef963ff9310>"
            ]
          },
          "metadata": {},
          "execution_count": 48
        },
        {
          "output_type": "display_data",
          "data": {
            "text/plain": [
              "<Figure size 1500x500 with 2 Axes>"
            ],
            "image/png": "[encoded data removed]"
          },
          "metadata": {}
        }
      ]
    },
    {
      "cell_type": "code",
      "source": [
        "accuracy_rnn = history.history['val_accuracy'][-1]\n",
        "print('Accuracy Training data: {:.1%}'.format(history.history['accuracy'][-1]))\n",
        "print('Accuracy Test data: {:.1%}'.format(history.history['val_accuracy'][-1]))\n",
        "print('Training time: {:.1f}s'.format(training_time_rnn))"
      ],
      "metadata": {
        "colab": {
          "base_uri": "https://localhost:8080/"
        },
        "id": "wePGq_k6SNuH",
        "outputId": "a6515590-77da-40c8-8477-d28ae8b352dc"
      },
      "execution_count": null,
      "outputs": [
        {
          "output_type": "stream",
          "name": "stdout",
          "text": [
            "Accuracy Training data: 83.0%\n",
            "Accuracy Test data: 83.5%\n",
            "Training time: 1448.7s\n"
          ]
        }
      ]
    },
    {
      "cell_type": "markdown",
      "source": [
        "For this (simple) problem with limited training data, we find that this advanced model has poorer accuracy than the TF-IDF model and takes around ten times longer to train!\n",
        "\n",
        "This could be a letdown. My conclusion is that a simple problem does not always necessitate a sophisticated solution.\n",
        "\n",
        "The Linear TF-IDF model was improved by taking word order into account and employing a pre-learned representation of words in the Recurrent Neural Network model with Word2Vec. However, the words we have does not take into account the context in which the term is used. It is reasonable to believe that context is important and this is what the BERT model is attempting to solve.\n"
      ],
      "metadata": {
        "id": "UUPAGZ8U1Hpk"
      }
    },
    {
      "cell_type": "markdown",
      "source": [
        "## Deep Learning - With Bert Language Model"
      ],
      "metadata": {
        "id": "5bb6peL4UR7R"
      }
    },
    {
      "cell_type": "markdown",
      "source": [
        "BERT stands for Bidirectional Encoder Representations from Transformers. BERT models aid machines in comprehending and interpreting text. It makes use of the content that comes before it to grasp the context. It also examines the relationships of words inside a sentence to determine the true meaning of words.\n",
        "\n",
        "BERT will then turn a given sentence into an embedding vector. The embedding vector is used to represent the unique words in a given document. BERT assures that words with the same meaning have a similar representation.\n",
        "\n",
        "Machine learning does not work with text but performs well with numbers. That is why BERT turns the input text into embedding vectors. The embedding vectors are integers that the model can readily operate with.\n",
        "\n",
        "Since the BERT model is pre-trained, it comes with a tokenizer. This is why we will use the non-processed training data, and will tokenize the sentences using the uncased Bert tokenizer. As for the RNN model, we will have to map the labels to a one-hot vector."
      ],
      "metadata": {
        "id": "H090YRVC2InW"
      }
    },
    {
      "cell_type": "code",
      "source": [
        "# Renaming, Input -> X, Output -> y\n",
        "X_bert = df['text']\n",
        "y_bert_class = df['category']\n",
        "\n",
        "# Convert labels into a one-hot vector of size n (where n is the number of distinct labels)\n",
        "lab = LabelBinarizer()\n",
        "lab.fit(y_bert_class)\n",
        "y_bert = lab.transform(y_bert_class)\n",
        "\n",
        "# Example (you can modify n)\n",
        "n=100\n",
        "print('Coding of labels into a one-hot vector: ' + y_bert_class[n] + ' is ', y_bert[n])"
      ],
      "metadata": {
        "colab": {
          "base_uri": "https://localhost:8080/"
        },
        "id": "-DE5NAW6SOyN",
        "outputId": "9ad66bea-2964-41a9-e719-11e94a8e0c3e"
      },
      "execution_count": null,
      "outputs": [
        {
          "output_type": "stream",
          "name": "stdout",
          "text": [
            "Coding of labels into a one-hot vector: Financials is  [1 0 0 0 0 0 0 0 0 0 0 0 0]\n"
          ]
        }
      ]
    },
    {
      "cell_type": "code",
      "source": [
        "# bert-base-uncased\n",
        "tokenizer_bert = transformers.BertTokenizer.from_pretrained('bert-base-uncased')\n",
        "X_bert = [tokenizer_bert(text, padding='max_length', max_length = 512, truncation=True)['input_ids'] for text in X_bert]\n",
        "X_bert = np.array(X_bert, dtype='int32')"
      ],
      "metadata": {
        "colab": {
          "base_uri": "https://localhost:8080/",
          "height": 113,
          "referenced_widgets": [
            "6164cdcd6ae94f1ba6baeef3c9f5af1e",
            "ebb4b83b88914dc6994790c550b683ec",
            "5bbd64a3e8ba4f3483f319cd385ac981",
            "b6a5c177e60d4f0ebf511741cdaef628",
            "8974f63f76714c108241813799848ae6",
            "be763f14c28d49e98cc64d88987e605e",
            "b3c487c6d1f6419594483f0901d9373d",
            "df0cc7c5da42471e8d01732d48ebc266",
            "fb734dc141794b56a15cfb44d0869eac",
            "abb6a5e5cde447e8bfaf709c22db4c24",
            "ed91c1e4ebe94416a2a668cc92af8ccd",
            "c0d53726080c40c7bae4d107837264c4",
            "9498b3b975fc4fbaa38d9c97990909c0",
            "f3c6d4ebabef45858a69b25afbf6f12a",
            "fbdf2c534ae84eb6b1386c7242b10511",
            "3cb0c31aa4834a9badce461caea9a750",
            "16d42131a7aa402fb88612e935e65faf",
            "f2315efece1442ed9cfcdbf0b278852b",
            "45d5351ced51466389edcf25d6b94fe7",
            "92d29601c27049baa073fdfd143e44d1",
            "00c6539c85064fae973f91e263ae140f",
            "25f07cf59512411385d448cd1440dc82",
            "d12bcc4a4cc0481fbc5dfd5a5727ef00",
            "cadb9993672540d19d9d5cf334703f91",
            "151a5bd869d84badbdf96d280c12bb3a",
            "bf21a9e305f643ebaa76d5be5769271a",
            "d4f3fee1747c4dbd977a2a4bd21ee601",
            "fda3c5929e374e3fac6b65ee6ba8af93",
            "04d18367f2f14452adb0d01f99892731",
            "1144fd8157f4478d9ed1fb7f5a98d66b",
            "a200e7525beb4710a680a47e2c98ec29",
            "c198a696374c490ea619dcaba83f48fb",
            "1a8906406afe416da03245f1770fed51"
          ]
        },
        "id": "Ftr0jEFiWdq7",
        "outputId": "7b1ba5e3-df5b-49ab-86df-48b1dea2731a"
      },
      "execution_count": null,
      "outputs": [
        {
          "output_type": "display_data",
          "data": {
            "text/plain": [
              "Downloading (…)solve/main/vocab.txt:   0%|          | 0.00/232k [00:00<?, ?B/s]"
            ],
            "application/vnd.jupyter.widget-view+json": {
              "version_major": 2,
              "version_minor": 0,
              "model_id": "6164cdcd6ae94f1ba6baeef3c9f5af1e"
            }
          },
          "metadata": {}
        },
        {
          "output_type": "display_data",
          "data": {
            "text/plain": [
              "Downloading (…)okenizer_config.json:   0%|          | 0.00/28.0 [00:00<?, ?B/s]"
            ],
            "application/vnd.jupyter.widget-view+json": {
              "version_major": 2,
              "version_minor": 0,
              "model_id": "c0d53726080c40c7bae4d107837264c4"
            }
          },
          "metadata": {}
        },
        {
          "output_type": "display_data",
          "data": {
            "text/plain": [
              "Downloading (…)lve/main/config.json:   0%|          | 0.00/570 [00:00<?, ?B/s]"
            ],
            "application/vnd.jupyter.widget-view+json": {
              "version_major": 2,
              "version_minor": 0,
              "model_id": "d12bcc4a4cc0481fbc5dfd5a5727ef00"
            }
          },
          "metadata": {}
        }
      ]
    },
    {
      "cell_type": "markdown",
      "source": [
        "Let's split the data into a training and a test set, and have a look at the format of the data."
      ],
      "metadata": {
        "id": "SnhkkUKEXNby"
      }
    },
    {
      "cell_type": "code",
      "source": [
        "# Train/test split\n",
        "X_bert_train, X_bert_test, y_bert_train, y_bert_test = train_test_split(X_bert, y_bert, test_size=0.3, random_state=42, stratify=df['category'])\n",
        "print('Shape of training data: ',X_bert_train.shape)"
      ],
      "metadata": {
        "colab": {
          "base_uri": "https://localhost:8080/"
        },
        "id": "7IZ7u2V_XM38",
        "outputId": "0edfa5f4-f7b0-4eab-82cb-7023c3b9af9d"
      },
      "execution_count": null,
      "outputs": [
        {
          "output_type": "stream",
          "name": "stdout",
          "text": [
            "Shape of training data:  (46820, 512)\n"
          ]
        }
      ]
    },
    {
      "cell_type": "markdown",
      "source": [
        "Let's define the Bert model using a transformers library pre-trained model. This model will be incorporated into the categorization model as a layer. We shall not train the parameters of this layer by specifying trainable=False.\n"
      ],
      "metadata": {
        "id": "v0feBuk_Xrk5"
      }
    },
    {
      "cell_type": "code",
      "source": [
        "from transformers import BertConfig, TFBertModel\n",
        "config = transformers.BertConfig(dropout=0.2, attention_dropout=0.2)\n",
        "bbert = transformers.TFBertModel.from_pretrained('bert-base-uncased', config=config, trainable=False)"
      ],
      "metadata": {
        "colab": {
          "base_uri": "https://localhost:8080/",
          "height": 156,
          "referenced_widgets": [
            "3453504817cb47c3a7b2ecf2c430ab5a",
            "f836a258325f4ffd9ffaaf3330bee670",
            "d6797cc8fba64b898fa33d9d98dddcf0",
            "f887a1086e6e497eb1e92a2fc63de2fa",
            "190ac8e694a34e90b7d9a2caf367a9f2",
            "761b113f23eb4308906ceb9d33bb03dc",
            "3213553e3ecb43c08ec9006234c34c11",
            "3aea1d9fce6c4d89bc62d508483e8df2",
            "626877c27b7f41999d8be879a6ba0e05",
            "1a05a2175802431bb180b3c334a1105c",
            "2b73905d5adb47b9bfd0d985ed894a77"
          ]
        },
        "id": "z4loHAvlXxyo",
        "outputId": "7401ae29-8455-413d-86bd-2d9ef2af81c9"
      },
      "execution_count": null,
      "outputs": [
        {
          "output_type": "display_data",
          "data": {
            "text/plain": [
              "Downloading tf_model.h5:   0%|          | 0.00/536M [00:00<?, ?B/s]"
            ],
            "application/vnd.jupyter.widget-view+json": {
              "version_major": 2,
              "version_minor": 0,
              "model_id": "3453504817cb47c3a7b2ecf2c430ab5a"
            }
          },
          "metadata": {}
        },
        {
          "output_type": "stream",
          "name": "stderr",
          "text": [
            "Some layers from the model checkpoint at bert-base-uncased were not used when initializing TFBertModel: ['nsp___cls', 'mlm___cls']\n",
            "- This IS expected if you are initializing TFBertModel from the checkpoint of a model trained on another task or with another architecture (e.g. initializing a BertForSequenceClassification model from a BertForPreTraining model).\n",
            "- This IS NOT expected if you are initializing TFBertModel from the checkpoint of a model that you expect to be exactly identical (initializing a BertForSequenceClassification model from a BertForSequenceClassification model).\n",
            "All the layers of TFBertModel were initialized from the model checkpoint at bert-base-uncased.\n",
            "If your task is similar to the task the model of the checkpoint was trained on, you can already use TFBertModel for predictions without further training.\n"
          ]
        }
      ]
    },
    {
      "cell_type": "markdown",
      "source": [
        "You might get a warning message. Don't worry about it. In the context where we apply the model, this message can be ignored."
      ],
      "metadata": {
        "id": "2DP3ANDWZHWx"
      }
    },
    {
      "cell_type": "markdown",
      "source": [
        "Let's take a deeper look at the model's output. Let's take a sample from our training dataset (a sample of size n=13) and run it through the model to see what happens.\n"
      ],
      "metadata": {
        "id": "kK5y0h4HZInK"
      }
    },
    {
      "cell_type": "code",
      "source": [
        "# Let's create a sampe of size 13 from the training data\n",
        "sample = X_bert_train[0:13]\n",
        "print('Object type: ', type(bbert(sample)))\n",
        "print('Output format (shape): ',bbert(sample)[0].shape)\n",
        "print('Output used as input for the classifier (shape): ', bbert(sample)[0][:,0,:].shape)"
      ],
      "metadata": {
        "colab": {
          "base_uri": "https://localhost:8080/"
        },
        "id": "eZCEymVIZoF2",
        "outputId": "d0e137d3-9547-4199-a26a-eba75cef5f33"
      },
      "execution_count": null,
      "outputs": [
        {
          "output_type": "stream",
          "name": "stdout",
          "text": [
            "Object type:  <class 'transformers.modeling_tf_outputs.TFBaseModelOutputWithPoolingAndCrossAttentions'>\n",
            "Output format (shape):  (13, 512, 768)\n",
            "Output used as input for the classifier (shape):  (13, 768)\n"
          ]
        }
      ]
    },
    {
      "cell_type": "markdown",
      "source": [
        "The result is a unique Python object. We get a Tensor of size (N, M, S), where N is the size of the dataset (in our case thirteen examples), M is the length of the sample (number of words in a phrase), and S is the size of the output vector (the model's output). As Devlin et al. remark, for a classification task, we often use the first output vector of a phrase as input for the rest of the classification model, because this initial vector \"encodes\" information about the total sentence. Alternatively, all output vectors could be pooled and utilised as input for the rest of the classifier.\n"
      ],
      "metadata": {
        "id": "TfVWk7Y-aAaO"
      }
    },
    {
      "cell_type": "markdown",
      "source": [
        "It's time to start building the classification model! It is made up of the following parts:\n",
        "- Input layer: to inform the model about the expected input format, so that the model knows what to expect.\n",
        "- Bert model: to encode the input data into a new vector sequence (BERT output). The rest of the classifier will only utilise the first vector in this sequence as input.\n",
        "- A dropout layer is used for regularisation.\n",
        "- Dense layer (with relu activation function and 64 neurons): to solve the classification problem.\n",
        "- Dense layer (with softmax activation function): for each label's probability distribution\n"
      ],
      "metadata": {
        "id": "PSI7-KdXaxof"
      }
    },
    {
      "cell_type": "code",
      "source": [
        "input_ids_in = layers.Input(shape=(512,), name='input_token', dtype='int32')\n",
        "\n",
        "x = bbert(input_ids=input_ids_in)[0][:,0,:]\n",
        "x = layers.Dropout(0.2, name='dropout')(x)\n",
        "x = layers.Dense(64, activation='relu', name='dense')(x)\n",
        "x = layers.Dense(13, activation='softmax', name='classification')(x)\n",
        "\n",
        "bmodel = models.Model(inputs=input_ids_in, outputs = x)\n",
        "\n",
        "bmodel.compile(optimizer='adam',loss='categorical_crossentropy', metrics=['accuracy'])"
      ],
      "metadata": {
        "id": "TWaQbgHla5Nd"
      },
      "execution_count": null,
      "outputs": []
    },
    {
      "cell_type": "code",
      "source": [
        "bmodel.summary()"
      ],
      "metadata": {
        "colab": {
          "base_uri": "https://localhost:8080/"
        },
        "id": "Y-IedE0cbD8C",
        "outputId": "63165336-e611-4d85-fa81-4185c718d9e0"
      },
      "execution_count": null,
      "outputs": [
        {
          "output_type": "stream",
          "name": "stdout",
          "text": [
            "Model: \"model_1\"\n",
            "_________________________________________________________________\n",
            " Layer (type)                Output Shape              Param #   \n",
            "=================================================================\n",
            " input_token (InputLayer)    [(None, 512)]             0         \n",
            "                                                                 \n",
            " tf_bert_model (TFBertModel)  TFBaseModelOutputWithPoo  109482240\n",
            "                             lingAndCrossAttentions(l            \n",
            "                             ast_hidden_state=(None,             \n",
            "                             512, 768),                          \n",
            "                              pooler_output=(None, 76            \n",
            "                             8),                                 \n",
            "                              past_key_values=None, h            \n",
            "                             idden_states=None, atten            \n",
            "                             tions=None, cross_attent            \n",
            "                             ions=None)                          \n",
            "                                                                 \n",
            " tf.__operators__.getitem (S  (None, 768)              0         \n",
            " licingOpLambda)                                                 \n",
            "                                                                 \n",
            " dropout (Dropout)           (None, 768)               0         \n",
            "                                                                 \n",
            " dense (Dense)               (None, 64)                49216     \n",
            "                                                                 \n",
            " classification (Dense)      (None, 13)                845       \n",
            "                                                                 \n",
            "=================================================================\n",
            "Total params: 109,532,301\n",
            "Trainable params: 50,061\n",
            "Non-trainable params: 109,482,240\n",
            "_________________________________________________________________\n"
          ]
        }
      ]
    },
    {
      "cell_type": "markdown",
      "source": [
        "Let's see if the number of trainable parameters (which are only in the dense layers because BERT is \"frozen\") makes sense. The vector that emerges from BERT is one vector of size 768 (as defined by the BERT model). Each of these items is coupled to one of the dense layer's 64 neurons, yielding 768x64=49,152 parameters. Each neuron contains an extra parameter, the bias, for a total of 64 parameters. The dense layer's output consists of 64 elements that connect to all five elements of the classification layer, i.e. 64x13. The classification layer contains 5 biases as well.\n",
        "\n",
        "In total, there are 50,061 trainable parameters: 768x64+64+64*13+13! We've arrived:-)\n"
      ],
      "metadata": {
        "id": "ZwQcIlSCcaJT"
      }
    },
    {
      "cell_type": "code",
      "source": [
        "# Train the model\n",
        "start_time = datetime.now()\n",
        "history = bmodel.fit(X_bert_train, y_bert_train, batch_size=32, shuffle=True, epochs=10, validation_data=(X_bert_test, y_bert_test))\n",
        "end_time = datetime.now()\n",
        "\n",
        "training_time_bert = (end_time - start_time).total_seconds()"
      ],
      "metadata": {
        "colab": {
          "base_uri": "https://localhost:8080/"
        },
        "id": "-GCgEe72cqE6",
        "outputId": "0e6cdc37-a168-4d06-c5c1-65aee90004a8"
      },
      "execution_count": null,
      "outputs": [
        {
          "output_type": "stream",
          "name": "stdout",
          "text": [
            "Epoch 1/10\n",
            "  14/1464 [..............................] - ETA: 20:41:03 - loss: 2.5562 - accuracy: 0.1027"
          ]
        }
      ]
    },
    {
      "cell_type": "code",
      "source": [
        "fig, ax = plt.subplots(nrows=1, ncols=2, figsize=(15, 5))\n",
        "ax[0].set(title='Loss')\n",
        "ax[0].plot(history.history['loss'], label='Training')\n",
        "ax[0].plot(history.history['val_loss'], label='Validation')\n",
        "ax[0].legend(loc=\"upper right\")\n",
        "\n",
        "ax[1].set(title='Accuracy')\n",
        "ax[1].plot(history.history['accuracy'], label='Training')\n",
        "ax[1].plot(history.history['val_accuracy'], label='Validation')\n",
        "ax[1].legend(loc=\"lower right\")"
      ],
      "metadata": {
        "id": "eQxMICDic660"
      },
      "execution_count": null,
      "outputs": []
    },
    {
      "cell_type": "code",
      "source": [
        "accuracy_bert = history.history['val_accuracy'][-1]\n",
        "print('Accuracy Training data: {:.1%}'.format(history.history['accuracy'][-1]))\n",
        "print('Accuracy Test data: {:.1%}'.format(history.history['val_accuracy'][-1]))\n",
        "print('Training time: {:.1f}s (or {:.1f} minutes)'.format(training_time_bert, training_time_bert/60))"
      ],
      "metadata": {
        "id": "-0MuENRpdEnR"
      },
      "execution_count": null,
      "outputs": []
    },
    {
      "cell_type": "markdown",
      "source": [
        "For this (simple) problem with little training data, we find that this advanced model performs worse than the TF-IDF model and takes more than 2,000 times longer to train!\n",
        "\n",
        "This could be a letdown. My conclusion, like with the RNN model, is that a simple problem does not always require a sophisticated solution.\n"
      ],
      "metadata": {
        "id": "t_YkPlUHdIdf"
      }
    },
    {
      "cell_type": "markdown",
      "source": [
        "## Conclusion"
      ],
      "metadata": {
        "id": "Xo6MlYzCdeWo"
      }
    },
    {
      "cell_type": "markdown",
      "source": [
        "We used three Machine Learning models to classify news into different categories. We began with a \"classical\" machine learning model, a linear model utilising TF-IDF, and gradually increased the complexity of the models. Then, to exploit pre-learned knowledge, we employed a Recurrent Neutral Network model with word embeddings. Finally, we employed a BERT model, which is a pre-trained model that includes not only single words but also full phrases.\n",
        "The models utilised are as follows:\n",
        "- TF-IDF linear model\n",
        "- Bidirectional LSTM model with word2vec word embedding\n",
        "- BERT\n",
        "\n",
        "These models were evaluated using two metrics:\n",
        "Accuracy - Training Time\n",
        "Let's take a look at the results:\n"
      ],
      "metadata": {
        "id": "KAL_kJq7dgGK"
      }
    },
    {
      "cell_type": "code",
      "source": [
        "method = ['TF-IDF', 'RNN', 'BERT']\n",
        "accuracy = [accuracy_tfidf, accuracy_rnn, accuracy_bert]\n",
        "accuracy = [str(round(acc*100, 1))+'%' for acc in accuracy]\n",
        "training_time = [round(training_time_tfidf,1), round(training_time_rnn,1), round(training_time_bert,1)]\n",
        "training_time_rounded = [round(tt,1) for tt in training_time]\n",
        "training_time = np.array(training_time)\n",
        "training_time_x = list(training_time /min(training_time))\n",
        "training_time_x = [str(round(ttx,1))+'x' for ttx in training_time_x]\n",
        "\n",
        "dict = {'Method' : method,\n",
        "        'Accuracy' : accuracy,\n",
        "        'Training Time [s]' : training_time_rounded,\n",
        "        'Training Time [x]' : training_time_x}\n",
        "df = pd.DataFrame(dict)\n",
        "display(df)"
      ],
      "metadata": {
        "id": "BRYma5rqe2LG"
      },
      "execution_count": null,
      "outputs": []
    },
    {
      "cell_type": "code",
      "source": [
        "bmodel.save('/content/drive/MyDrive/MSc Project/Code/Automatic-Categorization-of-Companies-based-on-their-Names/models/model_tf.h5', save_format='h5')\n",
        "model_tf2 = models.load_model('/content/drive/MyDrive/MSc Project/Code/Automatic-Categorization-of-Companies-based-on-their-Names/models/model_tf.h5', custom_objects={'TFBertModel': bbert})\n",
        "model_tf2.summary()"
      ],
      "metadata": {
        "id": "FYtjzJj0F5YG"
      },
      "execution_count": null,
      "outputs": []
    },
    {
      "cell_type": "markdown",
      "source": [
        "This classification is a straightforward issue. A simple model, such as the linear TF-IDF model, already provides excellent accuracy. Using more sophisticated models does not enhance accuracy, but it takes significantly longer: the RNN model takes 20 times longer than the TF-IDF model. The BERT model requires about 1000 times the duration of the TF-IDF!\n",
        "\n",
        "My conclusion is that it is not always necessary to utilise sophisticated models when basic ones would suffice!\n",
        "\n",
        "As an aside, if we don't acquire a satisfying accuracy right away, the Linear TF-IDF technique can be very annoying. It can be difficult to improve the model in such instances. RNN and BERT models are extremely different. Such models are easily improved: either design a more sophisticated model architecture, or run the model on additional epochs,... It's fascinating to see how the accuracy of the BERT model increases with each epoch. The model appears to be reading the text better and better.\n",
        "\n"
      ],
      "metadata": {
        "id": "umrbeNPuGjol"
      }
    },
    {
      "cell_type": "markdown",
      "source": [
        "These lines load a pre-trained BERT model and tokenizer from the Hugging Face Transformers library. BertForSequenceClassification is a class for sequence classification tasks that uses BERT as the underlying model. num_labels is set to 13, indicating that the model is being trained to classify sequences into one of 13 categories. BertTokenizer is a class for tokenizing text into BERT-compatible input sequences."
      ],
      "metadata": {
        "id": "ThLgxzb8KyzF"
      }
    },
    {
      "cell_type": "code",
      "source": [
        "# Load pre-trained BERT model and tokenizer\n",
        "model = BertForSequenceClassification.from_pretrained('bert-base-uncased', num_labels=13)\n",
        "tokenizer = BertTokenizer.from_pretrained('bert-base-uncased')\n"
      ],
      "metadata": {
        "id": "B09AIgxeK4ex"
      },
      "execution_count": null,
      "outputs": []
    },
    {
      "cell_type": "markdown",
      "source": [
        "These lines extract the description and category columns from a Pandas DataFrame filtered_df and convert them to Python lists. These will be used as the input and target data for the model."
      ],
      "metadata": {
        "id": "u9zOC6RCK8Ef"
      }
    },
    {
      "cell_type": "code",
      "source": [
        "# Preprocess text data\n",
        "X = filtered_df['description'].tolist()\n",
        "y = filtered_df['category'].tolist()"
      ],
      "metadata": {
        "id": "ndH5zLV1LBgG"
      },
      "execution_count": null,
      "outputs": []
    },
    {
      "cell_type": "markdown",
      "source": [
        "This code tokenizes the input text data using the pre-trained tokenizer. batch_encode_plus tokenizes the input text into BERT-compatible input sequences, pads them to a maximum length of 128, and truncates any sequences that exceed this length. The resulting tokenized data is returned as a PyTorch tensor."
      ],
      "metadata": {
        "id": "NSPF9MckLFEG"
      }
    },
    {
      "cell_type": "code",
      "source": [
        "# Tokenize text data\n",
        "max_len = 128 # maximum sequence length for BERT\n",
        "X_tokenized = tokenizer.batch_encode_plus(X, max_length=max_len, padding='max_length', truncation=True, return_tensors='pt')"
      ],
      "metadata": {
        "id": "ZXai8H7bLS3c"
      },
      "execution_count": null,
      "outputs": []
    },
    {
      "cell_type": "markdown",
      "source": [
        "This code maps each unique label in the target data y to a unique integer, and creates a new list y_encoded that contains the integer labels. The resulting integer label mapping is printed to the console."
      ],
      "metadata": {
        "id": "oyJdfwTBLW0q"
      }
    },
    {
      "cell_type": "code",
      "source": [
        "# Convert labels to integers\n",
        "label_map = {label: i for i, label in enumerate(set(y))}\n",
        "y_encoded = [label_map[label] for label in y]\n",
        "print(label_map)"
      ],
      "metadata": {
        "id": "UAZehjWzLb9t"
      },
      "execution_count": null,
      "outputs": []
    },
    {
      "cell_type": "markdown",
      "source": [
        "These lines set random seeds for PyTorch, NumPy, and the built-in Python random module to ensure that the results are reproducible."
      ],
      "metadata": {
        "id": "x6hm6J4YLhJz"
      }
    },
    {
      "cell_type": "code",
      "source": [
        "# Set random seeds for reproducibility\n",
        "torch.backends.cudnn.deterministic = True\n",
        "torch.backends.cudnn.benchmark = False\n",
        "torch.cuda.manual_seed_all(0)\n",
        "seed = 0\n",
        "random.seed(seed)\n",
        "np.random.seed(seed)\n",
        "torch.manual_seed(seed)\n"
      ],
      "metadata": {
        "id": "DKeuBNX5LoMS"
      },
      "execution_count": null,
      "outputs": []
    },
    {
      "cell_type": "markdown",
      "source": [
        "This code creates a TensorDataset object that contains the tokenized input data and target labels. This dataset is split into three subsets: a training set (80% of the data), a validation set (10% of the data), and a test set (10% of the data)."
      ],
      "metadata": {
        "id": "ToiPy7NQLr4g"
      }
    },
    {
      "cell_type": "code",
      "source": [
        "# Create tensor dataset and split into train, validation, and test sets\n",
        "dataset = TensorDataset(X_tokenized['input_ids'], X_tokenized['attention_mask'], torch.tensor(y_encoded))\n",
        "train_size = int(0.8 * len(dataset))\n",
        "val_size = int(0.1 * len(dataset))\n",
        "test_size = len(dataset) - train_size - val_size\n",
        "train_dataset, val_dataset, test_dataset = random_split(dataset, [train_size, val_size, test_size])\n"
      ],
      "metadata": {
        "id": "qb04MRa-LxO5"
      },
      "execution_count": null,
      "outputs": []
    },
    {
      "cell_type": "markdown",
      "source": [
        "Data Loaders Creation: The code first creates three data loaders (train_loader, val_loader, test_loader) for the training, validation, and test datasets. It sets the batch size to 32 and uses a RandomSampler to randomly sample the data at each epoch."
      ],
      "metadata": {
        "id": "G-Z8dj0AL0nM"
      }
    },
    {
      "cell_type": "code",
      "source": [
        "batch_size = 32\n",
        "train_loader = DataLoader(train_dataset, batch_size=batch_size, sampler=RandomSampler(train_dataset))\n",
        "val_loader = DataLoader(val_dataset, batch_size=batch_size, sampler=RandomSampler(val_dataset))\n",
        "test_loader = DataLoader(test_dataset, batch_size=batch_size, sampler=RandomSampler(test_dataset))\n"
      ],
      "metadata": {
        "id": "c_CSWvNkL-Ki"
      },
      "execution_count": null,
      "outputs": []
    },
    {
      "cell_type": "markdown",
      "source": [
        "Setting up Training Parameters: The code then sets up the training parameters, including the number of epochs, empty lists to store losses and accuracies for each epoch, and some other variables."
      ],
      "metadata": {
        "id": "8Xg-3irbMBF3"
      }
    },
    {
      "cell_type": "code",
      "source": [
        "epochs = 10\n",
        "train_losses = []\n",
        "val_losses = []\n",
        "test_losses = []\n",
        "train_accs = []\n",
        "val_accs = []\n",
        "test_accs = []\n",
        "best_val_acc = 0.0\n",
        "best_test_acc = 0.0\n",
        "accumulation_steps = 8\n",
        "torch.manual_seed(0)\n",
        "\n",
        "if torch.cuda.is_available():\n",
        "    device = torch.device(\"cuda\")\n",
        "    torch.backends.cudnn.deterministic = True\n",
        "    torch.backends.cudnn.benchmark = False\n",
        "else:\n",
        "    device = torch.device(\"cpu\")\n"
      ],
      "metadata": {
        "id": "oHjaWxUmME4t"
      },
      "execution_count": null,
      "outputs": []
    },
    {
      "cell_type": "markdown",
      "source": [
        "Moving Model to Device: It moves the model to the device (CPU or GPU) specified in the previous step."
      ],
      "metadata": {
        "id": "7iKRPhYcMJZd"
      }
    },
    {
      "cell_type": "code",
      "source": [
        "model.to(device)"
      ],
      "metadata": {
        "id": "Ugus35fBMPax"
      },
      "execution_count": null,
      "outputs": []
    },
    {
      "cell_type": "markdown",
      "source": [
        "Creating Optimizer and Scheduler: The code creates an AdamW optimizer with a learning rate of 2e-5, and sets up a scheduler using get_linear_schedule_with_warmup() that adjusts the learning rate based on the number of training steps."
      ],
      "metadata": {
        "id": "fvg9YlD2MSpZ"
      }
    },
    {
      "cell_type": "code",
      "source": [
        "optimizer = AdamW(model.parameters(), lr=2e-5, correct_bias=False)\n",
        "total_steps = len(train_loader) // accumulation_steps * epochs\n",
        "scheduler = get_linear_schedule_with_warmup(optimizer, num_warmup_steps=0, num_training_steps=total_steps)"
      ],
      "metadata": {
        "id": "xV2yXpOKMW-L"
      },
      "execution_count": null,
      "outputs": []
    },
    {
      "cell_type": "markdown",
      "source": [
        "Training the Model: The code then enters a loop over the epochs and trains the model on the training dataset. In each epoch, it goes through all the batches in the training dataset, computes the loss, backpropagates the gradients, and updates the model parameters. The code also evaluates the model on the validation dataset at the end of each epoch.\n",
        "\n",
        "Testing the Model: The code also evaluates the model on the test dataset at the end of each epoch.\n",
        "\n",
        "Saving the Best Model: The code saves the best model based on the validation accuracy.\n",
        "\n",
        "Plotting the Results: Finally, the code plots the training, validation, and test losses and accuracies using matplotlib."
      ],
      "metadata": {
        "id": "adUGwaaSMa0-"
      }
    },
    {
      "cell_type": "code",
      "source": [
        "# train the model\n",
        "for epoch in range(epochs):\n",
        "    model.train()\n",
        "    train_loss = 0\n",
        "    for i, batch in enumerate(train_loader):\n",
        "        input_ids = batch[0].to(device)\n",
        "        attention_mask = batch[1].to(device)\n",
        "        labels = batch[2].to(device)\n",
        "\n",
        "        optimizer.zero_grad()\n",
        "        outputs = model(input_ids, attention_mask=attention_mask, labels=labels)\n",
        "        loss = outputs[0]\n",
        "        train_loss += loss.item()\n",
        "\n",
        "        if (i + 1) % accumulation_steps == 0 or i == len(train_loader) - 1:\n",
        "            loss = loss / accumulation_steps\n",
        "            loss.backward()\n",
        "            optimizer.step()\n",
        "            scheduler.step()\n",
        "            optimizer.zero_grad()\n",
        "\n",
        "        if i % 100 == 0:\n",
        "          print(f\"Epoch {epoch+1}, batch {i+1}: train_loss = {train_loss/(i+1):.4f}\")\n",
        "\n",
        "    model.eval()\n",
        "    val_loss = 0\n",
        "    val_preds = []\n",
        "    val_labels = []\n",
        "    with torch.no_grad():\n",
        "        for batch in val_loader:\n",
        "            input_ids = batch[0].to(device)\n",
        "            attention_mask = batch[1].to(device)\n",
        "            labels = batch[2].to(device)\n",
        "\n",
        "            outputs = model(input_ids, attention_mask=attention_mask)\n",
        "            loss = outputs[0]\n",
        "            val_loss += loss.mean().item() # convert tensor to numpy array and access scalar value\n",
        "            preds = torch.argmax(outputs.logits, dim=1)\n",
        "            val_preds.extend(preds.tolist())\n",
        "            val_labels.extend(labels.tolist())\n",
        "\n",
        "    train_loss /= len(train_loader)\n",
        "    train_losses.append(train_loss)\n",
        "\n",
        "    train_preds = []\n",
        "    train_labels = []\n",
        "    for batch in train_loader:\n",
        "        input_ids = batch[0].to(device)\n",
        "        attention_mask = batch[1].to(device)\n",
        "        labels = batch[2].to(device)\n",
        "\n",
        "        outputs = model(input_ids, attention_mask=attention_mask)\n",
        "        _, predictions = torch.max(outputs.logits, dim=1)\n",
        "        train_preds.extend(predictions.tolist())\n",
        "        train_labels.extend(labels.tolist())\n",
        "\n",
        "    train_acc = accuracy_score(train_labels, train_preds)\n",
        "    train_accs.append(train_acc)\n",
        "    val_loss /= len(val_loader)\n",
        "    val_losses.append(val_loss)\n",
        "    val_acc = accuracy_score(val_labels, val_preds)\n",
        "    val_accs.append(val_acc)\n",
        "\n",
        "\n",
        "    print(f'Epoch {epoch + 1}: train_loss = {train_loss:.4f}, train_acc = {train_acc:.4f}, val_loss = {val_loss:.4f}, val_acc = {val_acc:.4f}')\n",
        "\n",
        "        # Evaluate the model on the test set\n",
        "    model.eval()\n",
        "    test_loss = 0\n",
        "    test_preds = []\n",
        "    test_labels = []\n",
        "    with torch.no_grad():\n",
        "        for batch in test_loader:\n",
        "            input_ids = batch[0].to(device)\n",
        "            attention_mask = batch[1].to(device)\n",
        "            labels = batch[2].to(device)\n",
        "\n",
        "            outputs = model(input_ids, attention_mask=attention_mask)\n",
        "            loss = outputs[0] # only take the first element\n",
        "            test_loss += loss.mean().item() # convert tensor to numpy array and access scalar value\n",
        "            preds = torch.argmax(outputs.logits, dim=1) # use outputs.logits instead of outputs[1]\n",
        "            test_preds.extend(preds.tolist())\n",
        "            test_labels.extend(labels.tolist())\n",
        "\n",
        "    test_loss /= len(test_loader)\n",
        "    test_acc = accuracy_score(test_labels, test_preds)\n",
        "    test_losses.append(test_loss)\n",
        "    test_accs.append(test_acc)\n",
        "    print(f'Test loss = {test_loss:.4f}, Test accuracy = {test_acc:.4f}')\n",
        "\n",
        "# Save the best model based on validation accuracy\n",
        "    if val_acc > best_val_acc:\n",
        "      best_val_acc = val_acc\n",
        "      torch.save(model.state_dict(), '/content/drive/MyDrive/MSc Project/Code/Automatic-Categorization-of-Companies-based-on-their-Names/best_model.pt')\n",
        "\n",
        "print(f'Best validation accuracy: {best_val_acc:.4f}')\n",
        "\n",
        "plt.plot(train_losses, label='Training loss')\n",
        "plt.plot(val_losses, label='Validation loss')\n",
        "plt.plot(test_losses, label='Test loss')\n",
        "plt.xlabel('Epoch')\n",
        "plt.ylabel('Loss')\n",
        "plt.legend()\n",
        "plt.show()\n",
        "\n",
        "plt.plot(train_accs, label='Training accuracy')\n",
        "plt.plot(val_accs, label='Validation accuracy')\n",
        "plt.plot(test_accs, label='Test accuracy')\n",
        "plt.xlabel('Epoch')\n",
        "plt.ylabel('Accuracy')\n",
        "plt.legend()\n",
        "plt.show()\n"
      ],
      "metadata": {
        "id": "aKaL2XP2MfeH"
      },
      "execution_count": null,
      "outputs": []
    },
    {
      "cell_type": "code",
      "source": [
        "import torch\n",
        "from transformers import BertTokenizer, BertForSequenceClassification\n",
        "\n",
        "# Load the saved model checkpoint\n",
        "path = \"/content/drive/MyDrive/MSc Project/Code/Automatic-Categorization-of-Companies-based-on-their-Names/best_model.pt\"\n",
        "if torch.cuda.is_available():\n",
        "    state_dict = torch.load(path)\n",
        "else:\n",
        "    state_dict = torch.load(path, map_location=torch.device('cpu'))\n",
        "\n",
        "# Load the tokenizer\n",
        "tokenizer = BertTokenizer.from_pretrained('bert-base-uncased')\n",
        "\n",
        "# Define two example texts\n",
        "text = \"VCF pays 100% of what the State of Illinois owes you. A Qualified Purchaser in the State of Illinois' Vendor Payment Program and Vendor Support Initiative.\"\n",
        "# text2 = \"Koops Overhead Doors specializes in the sales, service, repair, and installation of garage doors and electric garage door openers. Servicing Albany, Troy, Clifton Park, East Greenbush and the surrounding Capital District New York areas\"\n",
        "\n",
        "# Instantiate the model\n",
        "model = BertForSequenceClassification.from_pretrained('bert-base-uncased', num_labels=13)\n",
        "\n",
        "# Load the model weights\n",
        "model.load_state_dict(state_dict)\n",
        "label_map = {'Healthcare': 0, 'Commercial Services & Supplies': 1, 'Transportation & Logistics': 2, 'Materials': 3, 'Corporate Services': 4, 'Information Technology': 5, 'Financials': 6, 'Professional Services': 7, 'Consumer Discretionary': 8, 'Consumer Staples': 9, 'Media, Marketing & Sales': 10, 'Industrials': 11, 'Energy & Utilities': 12}\n",
        "class_names = list(label_map.keys())\n",
        "# print(class_names)\n",
        "\n",
        "# Tokenize the text with padding and truncation enabled\n",
        "# In this example, the max_length parameter is set to 35, which means the input text will be truncated if it exceeds this length.\n",
        "# The padding parameter is set to True, which means the input text will be padded with zeros if it is shorter than the maximum length.\n",
        "inputs = tokenizer(text, padding=True, truncation=True, return_tensors=\"pt\", max_length=35)\n",
        "\n",
        "\n",
        "# Make a prediction\n",
        "outputs = model(**inputs)\n",
        "\n",
        "predicted_class = torch.argmax(outputs.logits, dim=1)\n",
        "predicted_class_name = class_names[predicted_class.item()]\n",
        "print(predicted_class_name)\n",
        "\n",
        "# Print the predicted class\n",
        "print(predicted_class.item())\n"
      ],
      "metadata": {
        "id": "rIz-ypgCNV6I"
      },
      "execution_count": null,
      "outputs": []
    },
    {
      "cell_type": "markdown",
      "source": [
        "This Python code uses the PyTorch and Hugging Face's Transformers libraries to perform classification of a given input text based on a pre-trained BERT model. Here's what the code does:\n",
        "\n",
        "It loads a pre-trained BERT model checkpoint stored at the given path, either on the GPU or CPU, depending on the availability of CUDA.\n",
        "It loads the tokenizer for the pre-trained BERT model.\n",
        "It defines an example text.\n",
        "It instantiates a BERT model for sequence classification with 13 labels.\n",
        "It loads the weights of the pre-trained BERT model onto the newly instantiated model.\n",
        "It defines a label map and class names for the classification task.\n",
        "It tokenizes the example text with padding and truncation enabled and returns a PyTorch tensor.\n",
        "It feeds the tokenized input to the BERT model and makes a prediction for the input text.\n",
        "It retrieves the predicted class and class name from the output.\n",
        "It prints the predicted class and class name."
      ],
      "metadata": {
        "id": "dn7jksVSOMt1"
      }
    },
    {
      "cell_type": "code",
      "source": [
        "import torch\n",
        "from transformers import BertTokenizer, BertForSequenceClassification\n",
        "\n",
        "# Load the saved model checkpoint\n",
        "path = \"/content/drive/MyDrive/MSc Project/Code/Automatic-Categorization-of-Companies-based-on-their-Names/best_model.pt\"\n",
        "if torch.cuda.is_available():\n",
        "    state_dict = torch.load(path)\n",
        "else:\n",
        "    state_dict = torch.load(path, map_location=torch.device('cpu'))\n",
        "\n",
        "# Load the tokenizer\n",
        "tokenizer = BertTokenizer.from_pretrained('bert-base-uncased')\n",
        "\n",
        "# Define example texts\n",
        "texts = [\"VCF pays 100% of what the State of Illinois owes you. A Qualified Purchaser in the State of Illinois' Vendor Payment Program and Vendor Support Initiative.\",\n",
        "         \"Koops Overhead Doors specializes in the sales, service, repair, and installation of garage doors and electric garage door openers. Servicing Albany, Troy, Clifton Park, East Greenbush and the surrounding Capital District New York areas\"]\n",
        "\n",
        "# Instantiate the model\n",
        "model = BertForSequenceClassification.from_pretrained('bert-base-uncased', num_labels=13)\n",
        "\n",
        "# Load the model weights\n",
        "model.load_state_dict(state_dict)\n",
        "label_map = {'Healthcare': 0, 'Commercial Services & Supplies': 1, 'Transportation & Logistics': 2, 'Materials': 3, 'Corporate Services': 4, 'Information Technology': 5, 'Financials': 6, 'Professional Services': 7, 'Consumer Discretionary': 8, 'Consumer Staples': 9, 'Media, Marketing & Sales': 10, 'Industrials': 11, 'Energy & Utilities': 12}\n",
        "class_names = list(label_map.keys())\n",
        "\n",
        "# Tokenize the texts with padding and truncation enabled\n",
        "# In this example, the max_length parameter is set to 35, which means the input texts will be truncated if they exceed this length.\n",
        "# The padding parameter is set to True, which means the input texts will be padded with zeros if they are shorter than the maximum length.\n",
        "inputs = tokenizer(texts, padding=True, truncation=True, return_tensors=\"pt\", max_length=35)\n",
        "\n",
        "# Make a prediction\n",
        "outputs = model(**inputs)\n",
        "\n",
        "predicted_classes = torch.argmax(outputs.logits, dim=1)\n",
        "\n",
        "# Print the predicted classes\n",
        "for predicted_class in predicted_classes:\n",
        "    predicted_class_name = class_names[predicted_class.item()]\n",
        "    print(predicted_class_name)\n",
        "    print(predicted_class.item())\n"
      ],
      "metadata": {
        "id": "pmjb00qqOO1z"
      },
      "execution_count": null,
      "outputs": []
    },
    {
      "cell_type": "markdown",
      "source": [
        "In this modified code, we define a list of example texts, texts, and tokenize them together using the tokenizer object. The resulting input tensor will have shape (num_texts, max_length), where num_texts is the number of texts and max_length is the maximum length of the tokenized texts after padding and truncation. We then pass this input tensor to the model to make a prediction for each text in the list. Finally, we loop over the predicted classes and print them out along with their corresponding class names."
      ],
      "metadata": {
        "id": "KP7s888_OZ5H"
      }
    },
    {
      "cell_type": "markdown",
      "source": [
        "## References"
      ],
      "metadata": {
        "id": "ZodpjWqc1_VV"
      }
    },
    {
      "cell_type": "markdown",
      "source": [
        "[1] Mikolov, Tomas, et al. (2013). \"Efficient Estimation of Word Representations in Vector Space\"\n",
        "\n",
        "[2] Srivastava, Hinton et al. (2014). \"Dropout: A Simple Way to Prevent Neural Networks from Overfitting\"\n",
        "\n",
        "[3] Devlin et al. (2019). \"BERT: Pre-training of Deep Bidirectional Transformers for Language Understanding\""
      ],
      "metadata": {
        "id": "zmcf9-EC2JoP"
      }
    }
  ]
}